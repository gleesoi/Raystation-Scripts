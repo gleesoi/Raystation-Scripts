{
  "cells": [
    {
      "cell_type": "markdown",
      "metadata": {
        "id": "view-in-github",
        "colab_type": "text"
      },
      "source": [
        "<a href=\"https://colab.research.google.com/github/gleesoi/Raystation-Scripts/blob/main/SIB_Model_Left_v9_.ipynb\" target=\"_parent\"><img src=\"https://colab.research.google.com/assets/colab-badge.svg\" alt=\"Open In Colab\"/></a>"
      ]
    },
    {
      "cell_type": "code",
      "execution_count": 1,
      "metadata": {
        "colab": {
          "base_uri": "https://localhost:8080/",
          "height": 73
        },
        "id": "aGJQL1PXgfnv",
        "outputId": "adcd9845-7649-48ae-c0cd-2516c239fa6e"
      },
      "outputs": [
        {
          "output_type": "display_data",
          "data": {
            "text/plain": [
              "<IPython.core.display.HTML object>"
            ],
            "text/html": [
              "\n",
              "     <input type=\"file\" id=\"files-e081365e-9cbc-45b0-aa23-17f2ec3f56b8\" name=\"files[]\" multiple disabled\n",
              "        style=\"border:none\" />\n",
              "     <output id=\"result-e081365e-9cbc-45b0-aa23-17f2ec3f56b8\">\n",
              "      Upload widget is only available when the cell has been executed in the\n",
              "      current browser session. Please rerun this cell to enable.\n",
              "      </output>\n",
              "      <script>// Copyright 2017 Google LLC\n",
              "//\n",
              "// Licensed under the Apache License, Version 2.0 (the \"License\");\n",
              "// you may not use this file except in compliance with the License.\n",
              "// You may obtain a copy of the License at\n",
              "//\n",
              "//      http://www.apache.org/licenses/LICENSE-2.0\n",
              "//\n",
              "// Unless required by applicable law or agreed to in writing, software\n",
              "// distributed under the License is distributed on an \"AS IS\" BASIS,\n",
              "// WITHOUT WARRANTIES OR CONDITIONS OF ANY KIND, either express or implied.\n",
              "// See the License for the specific language governing permissions and\n",
              "// limitations under the License.\n",
              "\n",
              "/**\n",
              " * @fileoverview Helpers for google.colab Python module.\n",
              " */\n",
              "(function(scope) {\n",
              "function span(text, styleAttributes = {}) {\n",
              "  const element = document.createElement('span');\n",
              "  element.textContent = text;\n",
              "  for (const key of Object.keys(styleAttributes)) {\n",
              "    element.style[key] = styleAttributes[key];\n",
              "  }\n",
              "  return element;\n",
              "}\n",
              "\n",
              "// Max number of bytes which will be uploaded at a time.\n",
              "const MAX_PAYLOAD_SIZE = 100 * 1024;\n",
              "\n",
              "function _uploadFiles(inputId, outputId) {\n",
              "  const steps = uploadFilesStep(inputId, outputId);\n",
              "  const outputElement = document.getElementById(outputId);\n",
              "  // Cache steps on the outputElement to make it available for the next call\n",
              "  // to uploadFilesContinue from Python.\n",
              "  outputElement.steps = steps;\n",
              "\n",
              "  return _uploadFilesContinue(outputId);\n",
              "}\n",
              "\n",
              "// This is roughly an async generator (not supported in the browser yet),\n",
              "// where there are multiple asynchronous steps and the Python side is going\n",
              "// to poll for completion of each step.\n",
              "// This uses a Promise to block the python side on completion of each step,\n",
              "// then passes the result of the previous step as the input to the next step.\n",
              "function _uploadFilesContinue(outputId) {\n",
              "  const outputElement = document.getElementById(outputId);\n",
              "  const steps = outputElement.steps;\n",
              "\n",
              "  const next = steps.next(outputElement.lastPromiseValue);\n",
              "  return Promise.resolve(next.value.promise).then((value) => {\n",
              "    // Cache the last promise value to make it available to the next\n",
              "    // step of the generator.\n",
              "    outputElement.lastPromiseValue = value;\n",
              "    return next.value.response;\n",
              "  });\n",
              "}\n",
              "\n",
              "/**\n",
              " * Generator function which is called between each async step of the upload\n",
              " * process.\n",
              " * @param {string} inputId Element ID of the input file picker element.\n",
              " * @param {string} outputId Element ID of the output display.\n",
              " * @return {!Iterable<!Object>} Iterable of next steps.\n",
              " */\n",
              "function* uploadFilesStep(inputId, outputId) {\n",
              "  const inputElement = document.getElementById(inputId);\n",
              "  inputElement.disabled = false;\n",
              "\n",
              "  const outputElement = document.getElementById(outputId);\n",
              "  outputElement.innerHTML = '';\n",
              "\n",
              "  const pickedPromise = new Promise((resolve) => {\n",
              "    inputElement.addEventListener('change', (e) => {\n",
              "      resolve(e.target.files);\n",
              "    });\n",
              "  });\n",
              "\n",
              "  const cancel = document.createElement('button');\n",
              "  inputElement.parentElement.appendChild(cancel);\n",
              "  cancel.textContent = 'Cancel upload';\n",
              "  const cancelPromise = new Promise((resolve) => {\n",
              "    cancel.onclick = () => {\n",
              "      resolve(null);\n",
              "    };\n",
              "  });\n",
              "\n",
              "  // Wait for the user to pick the files.\n",
              "  const files = yield {\n",
              "    promise: Promise.race([pickedPromise, cancelPromise]),\n",
              "    response: {\n",
              "      action: 'starting',\n",
              "    }\n",
              "  };\n",
              "\n",
              "  cancel.remove();\n",
              "\n",
              "  // Disable the input element since further picks are not allowed.\n",
              "  inputElement.disabled = true;\n",
              "\n",
              "  if (!files) {\n",
              "    return {\n",
              "      response: {\n",
              "        action: 'complete',\n",
              "      }\n",
              "    };\n",
              "  }\n",
              "\n",
              "  for (const file of files) {\n",
              "    const li = document.createElement('li');\n",
              "    li.append(span(file.name, {fontWeight: 'bold'}));\n",
              "    li.append(span(\n",
              "        `(${file.type || 'n/a'}) - ${file.size} bytes, ` +\n",
              "        `last modified: ${\n",
              "            file.lastModifiedDate ? file.lastModifiedDate.toLocaleDateString() :\n",
              "                                    'n/a'} - `));\n",
              "    const percent = span('0% done');\n",
              "    li.appendChild(percent);\n",
              "\n",
              "    outputElement.appendChild(li);\n",
              "\n",
              "    const fileDataPromise = new Promise((resolve) => {\n",
              "      const reader = new FileReader();\n",
              "      reader.onload = (e) => {\n",
              "        resolve(e.target.result);\n",
              "      };\n",
              "      reader.readAsArrayBuffer(file);\n",
              "    });\n",
              "    // Wait for the data to be ready.\n",
              "    let fileData = yield {\n",
              "      promise: fileDataPromise,\n",
              "      response: {\n",
              "        action: 'continue',\n",
              "      }\n",
              "    };\n",
              "\n",
              "    // Use a chunked sending to avoid message size limits. See b/62115660.\n",
              "    let position = 0;\n",
              "    do {\n",
              "      const length = Math.min(fileData.byteLength - position, MAX_PAYLOAD_SIZE);\n",
              "      const chunk = new Uint8Array(fileData, position, length);\n",
              "      position += length;\n",
              "\n",
              "      const base64 = btoa(String.fromCharCode.apply(null, chunk));\n",
              "      yield {\n",
              "        response: {\n",
              "          action: 'append',\n",
              "          file: file.name,\n",
              "          data: base64,\n",
              "        },\n",
              "      };\n",
              "\n",
              "      let percentDone = fileData.byteLength === 0 ?\n",
              "          100 :\n",
              "          Math.round((position / fileData.byteLength) * 100);\n",
              "      percent.textContent = `${percentDone}% done`;\n",
              "\n",
              "    } while (position < fileData.byteLength);\n",
              "  }\n",
              "\n",
              "  // All done.\n",
              "  yield {\n",
              "    response: {\n",
              "      action: 'complete',\n",
              "    }\n",
              "  };\n",
              "}\n",
              "\n",
              "scope.google = scope.google || {};\n",
              "scope.google.colab = scope.google.colab || {};\n",
              "scope.google.colab._files = {\n",
              "  _uploadFiles,\n",
              "  _uploadFilesContinue,\n",
              "};\n",
              "})(self);\n",
              "</script> "
            ]
          },
          "metadata": {}
        },
        {
          "output_type": "stream",
          "name": "stdout",
          "text": [
            "Saving SIB HEART MHD MODEL DATA FOR PYTHON_v4_LeftOnly.xlsx to SIB HEART MHD MODEL DATA FOR PYTHON_v4_LeftOnly.xlsx\n"
          ]
        }
      ],
      "source": [
        "from google.colab import files\n",
        "uploaded = files.upload()"
      ]
    },
    {
      "cell_type": "code",
      "execution_count": 2,
      "metadata": {
        "colab": {
          "base_uri": "https://localhost:8080/",
          "height": 206
        },
        "id": "LvluWGnpgtAz",
        "outputId": "8044ac35-36ec-4a18-f227-e4ff96feea30"
      },
      "outputs": [
        {
          "output_type": "execute_result",
          "data": {
            "text/plain": [
              "       MRN  MHD SIB  Min_distance  Max_distance  Average_distance  OL_Length  \\\n",
              "0   980244     0.47          2.38         12.00              7.50        2.8   \n",
              "1  4849089     0.33          2.97         17.47             10.35        4.3   \n",
              "2  4903799     0.43          7.90         17.56             12.42        4.1   \n",
              "3  4896442     0.06          7.55         16.97             12.09        1.7   \n",
              "4  4893708     0.57          3.26         15.82             10.20        4.9   \n",
              "\n",
              "   PTVp_4800 vol  Heart vol  PTVp_4800 center to Heart center  \\\n",
              "0          25.48     454.59                               8.3   \n",
              "1          51.34     658.57                              12.0   \n",
              "2         106.55     520.27                              14.5   \n",
              "3          29.76     508.28                              13.0   \n",
              "4          64.62     800.18                              12.8   \n",
              "\n",
              "  PTVp_4800 center above Heart Machine Laterality       TEC  \n",
              "0                           no       V          L  TAN_VMAT  \n",
              "1                           no       V          L  TAN_VMAT  \n",
              "2                           no       E          L  TAN_VMAT  \n",
              "3                          yes       V          L  TAN_VMAT  \n",
              "4                           no       E          L  TAN_VMAT  "
            ],
            "text/html": [
              "\n",
              "  <div id=\"df-aa52617c-f97b-4204-9d76-b1eb0252b63c\">\n",
              "    <div class=\"colab-df-container\">\n",
              "      <div>\n",
              "<style scoped>\n",
              "    .dataframe tbody tr th:only-of-type {\n",
              "        vertical-align: middle;\n",
              "    }\n",
              "\n",
              "    .dataframe tbody tr th {\n",
              "        vertical-align: top;\n",
              "    }\n",
              "\n",
              "    .dataframe thead th {\n",
              "        text-align: right;\n",
              "    }\n",
              "</style>\n",
              "<table border=\"1\" class=\"dataframe\">\n",
              "  <thead>\n",
              "    <tr style=\"text-align: right;\">\n",
              "      <th></th>\n",
              "      <th>MRN</th>\n",
              "      <th>MHD SIB</th>\n",
              "      <th>Min_distance</th>\n",
              "      <th>Max_distance</th>\n",
              "      <th>Average_distance</th>\n",
              "      <th>OL_Length</th>\n",
              "      <th>PTVp_4800 vol</th>\n",
              "      <th>Heart vol</th>\n",
              "      <th>PTVp_4800 center to Heart center</th>\n",
              "      <th>PTVp_4800 center above Heart</th>\n",
              "      <th>Machine</th>\n",
              "      <th>Laterality</th>\n",
              "      <th>TEC</th>\n",
              "    </tr>\n",
              "  </thead>\n",
              "  <tbody>\n",
              "    <tr>\n",
              "      <th>0</th>\n",
              "      <td>980244</td>\n",
              "      <td>0.47</td>\n",
              "      <td>2.38</td>\n",
              "      <td>12.00</td>\n",
              "      <td>7.50</td>\n",
              "      <td>2.8</td>\n",
              "      <td>25.48</td>\n",
              "      <td>454.59</td>\n",
              "      <td>8.3</td>\n",
              "      <td>no</td>\n",
              "      <td>V</td>\n",
              "      <td>L</td>\n",
              "      <td>TAN_VMAT</td>\n",
              "    </tr>\n",
              "    <tr>\n",
              "      <th>1</th>\n",
              "      <td>4849089</td>\n",
              "      <td>0.33</td>\n",
              "      <td>2.97</td>\n",
              "      <td>17.47</td>\n",
              "      <td>10.35</td>\n",
              "      <td>4.3</td>\n",
              "      <td>51.34</td>\n",
              "      <td>658.57</td>\n",
              "      <td>12.0</td>\n",
              "      <td>no</td>\n",
              "      <td>V</td>\n",
              "      <td>L</td>\n",
              "      <td>TAN_VMAT</td>\n",
              "    </tr>\n",
              "    <tr>\n",
              "      <th>2</th>\n",
              "      <td>4903799</td>\n",
              "      <td>0.43</td>\n",
              "      <td>7.90</td>\n",
              "      <td>17.56</td>\n",
              "      <td>12.42</td>\n",
              "      <td>4.1</td>\n",
              "      <td>106.55</td>\n",
              "      <td>520.27</td>\n",
              "      <td>14.5</td>\n",
              "      <td>no</td>\n",
              "      <td>E</td>\n",
              "      <td>L</td>\n",
              "      <td>TAN_VMAT</td>\n",
              "    </tr>\n",
              "    <tr>\n",
              "      <th>3</th>\n",
              "      <td>4896442</td>\n",
              "      <td>0.06</td>\n",
              "      <td>7.55</td>\n",
              "      <td>16.97</td>\n",
              "      <td>12.09</td>\n",
              "      <td>1.7</td>\n",
              "      <td>29.76</td>\n",
              "      <td>508.28</td>\n",
              "      <td>13.0</td>\n",
              "      <td>yes</td>\n",
              "      <td>V</td>\n",
              "      <td>L</td>\n",
              "      <td>TAN_VMAT</td>\n",
              "    </tr>\n",
              "    <tr>\n",
              "      <th>4</th>\n",
              "      <td>4893708</td>\n",
              "      <td>0.57</td>\n",
              "      <td>3.26</td>\n",
              "      <td>15.82</td>\n",
              "      <td>10.20</td>\n",
              "      <td>4.9</td>\n",
              "      <td>64.62</td>\n",
              "      <td>800.18</td>\n",
              "      <td>12.8</td>\n",
              "      <td>no</td>\n",
              "      <td>E</td>\n",
              "      <td>L</td>\n",
              "      <td>TAN_VMAT</td>\n",
              "    </tr>\n",
              "  </tbody>\n",
              "</table>\n",
              "</div>\n",
              "      <button class=\"colab-df-convert\" onclick=\"convertToInteractive('df-aa52617c-f97b-4204-9d76-b1eb0252b63c')\"\n",
              "              title=\"Convert this dataframe to an interactive table.\"\n",
              "              style=\"display:none;\">\n",
              "        \n",
              "  <svg xmlns=\"http://www.w3.org/2000/svg\" height=\"24px\"viewBox=\"0 0 24 24\"\n",
              "       width=\"24px\">\n",
              "    <path d=\"M0 0h24v24H0V0z\" fill=\"none\"/>\n",
              "    <path d=\"M18.56 5.44l.94 2.06.94-2.06 2.06-.94-2.06-.94-.94-2.06-.94 2.06-2.06.94zm-11 1L8.5 8.5l.94-2.06 2.06-.94-2.06-.94L8.5 2.5l-.94 2.06-2.06.94zm10 10l.94 2.06.94-2.06 2.06-.94-2.06-.94-.94-2.06-.94 2.06-2.06.94z\"/><path d=\"M17.41 7.96l-1.37-1.37c-.4-.4-.92-.59-1.43-.59-.52 0-1.04.2-1.43.59L10.3 9.45l-7.72 7.72c-.78.78-.78 2.05 0 2.83L4 21.41c.39.39.9.59 1.41.59.51 0 1.02-.2 1.41-.59l7.78-7.78 2.81-2.81c.8-.78.8-2.07 0-2.86zM5.41 20L4 18.59l7.72-7.72 1.47 1.35L5.41 20z\"/>\n",
              "  </svg>\n",
              "      </button>\n",
              "      \n",
              "  <style>\n",
              "    .colab-df-container {\n",
              "      display:flex;\n",
              "      flex-wrap:wrap;\n",
              "      gap: 12px;\n",
              "    }\n",
              "\n",
              "    .colab-df-convert {\n",
              "      background-color: #E8F0FE;\n",
              "      border: none;\n",
              "      border-radius: 50%;\n",
              "      cursor: pointer;\n",
              "      display: none;\n",
              "      fill: #1967D2;\n",
              "      height: 32px;\n",
              "      padding: 0 0 0 0;\n",
              "      width: 32px;\n",
              "    }\n",
              "\n",
              "    .colab-df-convert:hover {\n",
              "      background-color: #E2EBFA;\n",
              "      box-shadow: 0px 1px 2px rgba(60, 64, 67, 0.3), 0px 1px 3px 1px rgba(60, 64, 67, 0.15);\n",
              "      fill: #174EA6;\n",
              "    }\n",
              "\n",
              "    [theme=dark] .colab-df-convert {\n",
              "      background-color: #3B4455;\n",
              "      fill: #D2E3FC;\n",
              "    }\n",
              "\n",
              "    [theme=dark] .colab-df-convert:hover {\n",
              "      background-color: #434B5C;\n",
              "      box-shadow: 0px 1px 3px 1px rgba(0, 0, 0, 0.15);\n",
              "      filter: drop-shadow(0px 1px 2px rgba(0, 0, 0, 0.3));\n",
              "      fill: #FFFFFF;\n",
              "    }\n",
              "  </style>\n",
              "\n",
              "      <script>\n",
              "        const buttonEl =\n",
              "          document.querySelector('#df-aa52617c-f97b-4204-9d76-b1eb0252b63c button.colab-df-convert');\n",
              "        buttonEl.style.display =\n",
              "          google.colab.kernel.accessAllowed ? 'block' : 'none';\n",
              "\n",
              "        async function convertToInteractive(key) {\n",
              "          const element = document.querySelector('#df-aa52617c-f97b-4204-9d76-b1eb0252b63c');\n",
              "          const dataTable =\n",
              "            await google.colab.kernel.invokeFunction('convertToInteractive',\n",
              "                                                     [key], {});\n",
              "          if (!dataTable) return;\n",
              "\n",
              "          const docLinkHtml = 'Like what you see? Visit the ' +\n",
              "            '<a target=\"_blank\" href=https://colab.research.google.com/notebooks/data_table.ipynb>data table notebook</a>'\n",
              "            + ' to learn more about interactive tables.';\n",
              "          element.innerHTML = '';\n",
              "          dataTable['output_type'] = 'display_data';\n",
              "          await google.colab.output.renderOutput(dataTable, element);\n",
              "          const docLink = document.createElement('div');\n",
              "          docLink.innerHTML = docLinkHtml;\n",
              "          element.appendChild(docLink);\n",
              "        }\n",
              "      </script>\n",
              "    </div>\n",
              "  </div>\n",
              "  "
            ]
          },
          "metadata": {},
          "execution_count": 2
        }
      ],
      "source": [
        "import io\n",
        "import pandas as pd\n",
        "df = pd.read_excel(io.BytesIO(list(uploaded.values())[0]))\n",
        "df.head()"
      ]
    },
    {
      "cell_type": "code",
      "execution_count": 3,
      "metadata": {
        "colab": {
          "base_uri": "https://localhost:8080/"
        },
        "id": "hBtuICNXgw0V",
        "outputId": "65968ad9-cc8d-481e-9cd7-09c82e032659"
      },
      "outputs": [
        {
          "output_type": "execute_result",
          "data": {
            "text/plain": [
              "(108, 13)"
            ]
          },
          "metadata": {},
          "execution_count": 3
        }
      ],
      "source": [
        "df.shape"
      ]
    },
    {
      "cell_type": "code",
      "execution_count": 4,
      "metadata": {
        "colab": {
          "base_uri": "https://localhost:8080/",
          "height": 241
        },
        "id": "98WQVOMte7US",
        "outputId": "b0bcf055-2c68-486c-e8f2-2c6143cee10b"
      },
      "outputs": [
        {
          "output_type": "stream",
          "name": "stderr",
          "text": [
            "/usr/local/lib/python3.7/dist-packages/ipykernel_launcher.py:3: FutureWarning: In a future version of pandas all arguments of DataFrame.drop except for the argument 'labels' will be keyword-only\n",
            "  This is separate from the ipykernel package so we can avoid doing imports until\n"
          ]
        },
        {
          "output_type": "execute_result",
          "data": {
            "text/plain": [
              "   MHD SIB  Min_distance  Max_distance  Average_distance  OL_Length  \\\n",
              "0     0.47          2.38         12.00              7.50        2.8   \n",
              "1     0.33          2.97         17.47             10.35        4.3   \n",
              "2     0.43          7.90         17.56             12.42        4.1   \n",
              "3     0.06          7.55         16.97             12.09        1.7   \n",
              "4     0.57          3.26         15.82             10.20        4.9   \n",
              "\n",
              "   PTVp_4800 vol  Heart vol  PTVp_4800 center to Heart center  \\\n",
              "0          25.48     454.59                               8.3   \n",
              "1          51.34     658.57                              12.0   \n",
              "2         106.55     520.27                              14.5   \n",
              "3          29.76     508.28                              13.0   \n",
              "4          64.62     800.18                              12.8   \n",
              "\n",
              "  PTVp_4800 center above Heart Machine Laterality       TEC  \n",
              "0                           no       V          L  TAN_VMAT  \n",
              "1                           no       V          L  TAN_VMAT  \n",
              "2                           no       E          L  TAN_VMAT  \n",
              "3                          yes       V          L  TAN_VMAT  \n",
              "4                           no       E          L  TAN_VMAT  "
            ],
            "text/html": [
              "\n",
              "  <div id=\"df-54c118c2-709d-4766-937d-cd94ad533378\">\n",
              "    <div class=\"colab-df-container\">\n",
              "      <div>\n",
              "<style scoped>\n",
              "    .dataframe tbody tr th:only-of-type {\n",
              "        vertical-align: middle;\n",
              "    }\n",
              "\n",
              "    .dataframe tbody tr th {\n",
              "        vertical-align: top;\n",
              "    }\n",
              "\n",
              "    .dataframe thead th {\n",
              "        text-align: right;\n",
              "    }\n",
              "</style>\n",
              "<table border=\"1\" class=\"dataframe\">\n",
              "  <thead>\n",
              "    <tr style=\"text-align: right;\">\n",
              "      <th></th>\n",
              "      <th>MHD SIB</th>\n",
              "      <th>Min_distance</th>\n",
              "      <th>Max_distance</th>\n",
              "      <th>Average_distance</th>\n",
              "      <th>OL_Length</th>\n",
              "      <th>PTVp_4800 vol</th>\n",
              "      <th>Heart vol</th>\n",
              "      <th>PTVp_4800 center to Heart center</th>\n",
              "      <th>PTVp_4800 center above Heart</th>\n",
              "      <th>Machine</th>\n",
              "      <th>Laterality</th>\n",
              "      <th>TEC</th>\n",
              "    </tr>\n",
              "  </thead>\n",
              "  <tbody>\n",
              "    <tr>\n",
              "      <th>0</th>\n",
              "      <td>0.47</td>\n",
              "      <td>2.38</td>\n",
              "      <td>12.00</td>\n",
              "      <td>7.50</td>\n",
              "      <td>2.8</td>\n",
              "      <td>25.48</td>\n",
              "      <td>454.59</td>\n",
              "      <td>8.3</td>\n",
              "      <td>no</td>\n",
              "      <td>V</td>\n",
              "      <td>L</td>\n",
              "      <td>TAN_VMAT</td>\n",
              "    </tr>\n",
              "    <tr>\n",
              "      <th>1</th>\n",
              "      <td>0.33</td>\n",
              "      <td>2.97</td>\n",
              "      <td>17.47</td>\n",
              "      <td>10.35</td>\n",
              "      <td>4.3</td>\n",
              "      <td>51.34</td>\n",
              "      <td>658.57</td>\n",
              "      <td>12.0</td>\n",
              "      <td>no</td>\n",
              "      <td>V</td>\n",
              "      <td>L</td>\n",
              "      <td>TAN_VMAT</td>\n",
              "    </tr>\n",
              "    <tr>\n",
              "      <th>2</th>\n",
              "      <td>0.43</td>\n",
              "      <td>7.90</td>\n",
              "      <td>17.56</td>\n",
              "      <td>12.42</td>\n",
              "      <td>4.1</td>\n",
              "      <td>106.55</td>\n",
              "      <td>520.27</td>\n",
              "      <td>14.5</td>\n",
              "      <td>no</td>\n",
              "      <td>E</td>\n",
              "      <td>L</td>\n",
              "      <td>TAN_VMAT</td>\n",
              "    </tr>\n",
              "    <tr>\n",
              "      <th>3</th>\n",
              "      <td>0.06</td>\n",
              "      <td>7.55</td>\n",
              "      <td>16.97</td>\n",
              "      <td>12.09</td>\n",
              "      <td>1.7</td>\n",
              "      <td>29.76</td>\n",
              "      <td>508.28</td>\n",
              "      <td>13.0</td>\n",
              "      <td>yes</td>\n",
              "      <td>V</td>\n",
              "      <td>L</td>\n",
              "      <td>TAN_VMAT</td>\n",
              "    </tr>\n",
              "    <tr>\n",
              "      <th>4</th>\n",
              "      <td>0.57</td>\n",
              "      <td>3.26</td>\n",
              "      <td>15.82</td>\n",
              "      <td>10.20</td>\n",
              "      <td>4.9</td>\n",
              "      <td>64.62</td>\n",
              "      <td>800.18</td>\n",
              "      <td>12.8</td>\n",
              "      <td>no</td>\n",
              "      <td>E</td>\n",
              "      <td>L</td>\n",
              "      <td>TAN_VMAT</td>\n",
              "    </tr>\n",
              "  </tbody>\n",
              "</table>\n",
              "</div>\n",
              "      <button class=\"colab-df-convert\" onclick=\"convertToInteractive('df-54c118c2-709d-4766-937d-cd94ad533378')\"\n",
              "              title=\"Convert this dataframe to an interactive table.\"\n",
              "              style=\"display:none;\">\n",
              "        \n",
              "  <svg xmlns=\"http://www.w3.org/2000/svg\" height=\"24px\"viewBox=\"0 0 24 24\"\n",
              "       width=\"24px\">\n",
              "    <path d=\"M0 0h24v24H0V0z\" fill=\"none\"/>\n",
              "    <path d=\"M18.56 5.44l.94 2.06.94-2.06 2.06-.94-2.06-.94-.94-2.06-.94 2.06-2.06.94zm-11 1L8.5 8.5l.94-2.06 2.06-.94-2.06-.94L8.5 2.5l-.94 2.06-2.06.94zm10 10l.94 2.06.94-2.06 2.06-.94-2.06-.94-.94-2.06-.94 2.06-2.06.94z\"/><path d=\"M17.41 7.96l-1.37-1.37c-.4-.4-.92-.59-1.43-.59-.52 0-1.04.2-1.43.59L10.3 9.45l-7.72 7.72c-.78.78-.78 2.05 0 2.83L4 21.41c.39.39.9.59 1.41.59.51 0 1.02-.2 1.41-.59l7.78-7.78 2.81-2.81c.8-.78.8-2.07 0-2.86zM5.41 20L4 18.59l7.72-7.72 1.47 1.35L5.41 20z\"/>\n",
              "  </svg>\n",
              "      </button>\n",
              "      \n",
              "  <style>\n",
              "    .colab-df-container {\n",
              "      display:flex;\n",
              "      flex-wrap:wrap;\n",
              "      gap: 12px;\n",
              "    }\n",
              "\n",
              "    .colab-df-convert {\n",
              "      background-color: #E8F0FE;\n",
              "      border: none;\n",
              "      border-radius: 50%;\n",
              "      cursor: pointer;\n",
              "      display: none;\n",
              "      fill: #1967D2;\n",
              "      height: 32px;\n",
              "      padding: 0 0 0 0;\n",
              "      width: 32px;\n",
              "    }\n",
              "\n",
              "    .colab-df-convert:hover {\n",
              "      background-color: #E2EBFA;\n",
              "      box-shadow: 0px 1px 2px rgba(60, 64, 67, 0.3), 0px 1px 3px 1px rgba(60, 64, 67, 0.15);\n",
              "      fill: #174EA6;\n",
              "    }\n",
              "\n",
              "    [theme=dark] .colab-df-convert {\n",
              "      background-color: #3B4455;\n",
              "      fill: #D2E3FC;\n",
              "    }\n",
              "\n",
              "    [theme=dark] .colab-df-convert:hover {\n",
              "      background-color: #434B5C;\n",
              "      box-shadow: 0px 1px 3px 1px rgba(0, 0, 0, 0.15);\n",
              "      filter: drop-shadow(0px 1px 2px rgba(0, 0, 0, 0.3));\n",
              "      fill: #FFFFFF;\n",
              "    }\n",
              "  </style>\n",
              "\n",
              "      <script>\n",
              "        const buttonEl =\n",
              "          document.querySelector('#df-54c118c2-709d-4766-937d-cd94ad533378 button.colab-df-convert');\n",
              "        buttonEl.style.display =\n",
              "          google.colab.kernel.accessAllowed ? 'block' : 'none';\n",
              "\n",
              "        async function convertToInteractive(key) {\n",
              "          const element = document.querySelector('#df-54c118c2-709d-4766-937d-cd94ad533378');\n",
              "          const dataTable =\n",
              "            await google.colab.kernel.invokeFunction('convertToInteractive',\n",
              "                                                     [key], {});\n",
              "          if (!dataTable) return;\n",
              "\n",
              "          const docLinkHtml = 'Like what you see? Visit the ' +\n",
              "            '<a target=\"_blank\" href=https://colab.research.google.com/notebooks/data_table.ipynb>data table notebook</a>'\n",
              "            + ' to learn more about interactive tables.';\n",
              "          element.innerHTML = '';\n",
              "          dataTable['output_type'] = 'display_data';\n",
              "          await google.colab.output.renderOutput(dataTable, element);\n",
              "          const docLink = document.createElement('div');\n",
              "          docLink.innerHTML = docLinkHtml;\n",
              "          element.appendChild(docLink);\n",
              "        }\n",
              "      </script>\n",
              "    </div>\n",
              "  </div>\n",
              "  "
            ]
          },
          "metadata": {},
          "execution_count": 4
        }
      ],
      "source": [
        "df = df.dropna()\n",
        "\n",
        "df = df.drop(['MRN'], 1)\n",
        "\n",
        "df.head()"
      ]
    },
    {
      "cell_type": "code",
      "execution_count": 5,
      "metadata": {
        "colab": {
          "base_uri": "https://localhost:8080/"
        },
        "id": "QGyJHO9Xe7UT",
        "outputId": "6d0b97bb-df4e-467f-b093-9a7d5db82014"
      },
      "outputs": [
        {
          "output_type": "stream",
          "name": "stderr",
          "text": [
            "/usr/local/lib/python3.7/dist-packages/ipykernel_launcher.py:1: FutureWarning: In a future version of pandas all arguments of DataFrame.drop except for the argument 'labels' will be keyword-only\n",
            "  \"\"\"Entry point for launching an IPython kernel.\n",
            "/usr/local/lib/python3.7/dist-packages/ipykernel_launcher.py:2: FutureWarning: In a future version of pandas all arguments of DataFrame.drop except for the argument 'labels' will be keyword-only\n",
            "  \n"
          ]
        }
      ],
      "source": [
        "df = df.drop(['TEC'], 1)\n",
        "df = df.drop(['Laterality'], 1)"
      ]
    },
    {
      "cell_type": "code",
      "execution_count": 6,
      "metadata": {
        "colab": {
          "base_uri": "https://localhost:8080/",
          "height": 206
        },
        "id": "xviXrKpte7UT",
        "outputId": "81048b65-56c9-47d2-816d-99c6bb6a04cb"
      },
      "outputs": [
        {
          "output_type": "execute_result",
          "data": {
            "text/plain": [
              "   MHD SIB  Min_distance  Max_distance  Average_distance  OL_Length  \\\n",
              "0     0.47          2.38         12.00              7.50        2.8   \n",
              "1     0.33          2.97         17.47             10.35        4.3   \n",
              "2     0.43          7.90         17.56             12.42        4.1   \n",
              "3     0.06          7.55         16.97             12.09        1.7   \n",
              "4     0.57          3.26         15.82             10.20        4.9   \n",
              "\n",
              "   PTVp_4800 vol  Heart vol  PTVp_4800 center to Heart center  \\\n",
              "0          25.48     454.59                               8.3   \n",
              "1          51.34     658.57                              12.0   \n",
              "2         106.55     520.27                              14.5   \n",
              "3          29.76     508.28                              13.0   \n",
              "4          64.62     800.18                              12.8   \n",
              "\n",
              "  PTVp_4800 center above Heart Machine  \n",
              "0                           no       V  \n",
              "1                           no       V  \n",
              "2                           no       E  \n",
              "3                          yes       V  \n",
              "4                           no       E  "
            ],
            "text/html": [
              "\n",
              "  <div id=\"df-a6afdbc3-30d1-46dd-9977-3afb7d8c50f6\">\n",
              "    <div class=\"colab-df-container\">\n",
              "      <div>\n",
              "<style scoped>\n",
              "    .dataframe tbody tr th:only-of-type {\n",
              "        vertical-align: middle;\n",
              "    }\n",
              "\n",
              "    .dataframe tbody tr th {\n",
              "        vertical-align: top;\n",
              "    }\n",
              "\n",
              "    .dataframe thead th {\n",
              "        text-align: right;\n",
              "    }\n",
              "</style>\n",
              "<table border=\"1\" class=\"dataframe\">\n",
              "  <thead>\n",
              "    <tr style=\"text-align: right;\">\n",
              "      <th></th>\n",
              "      <th>MHD SIB</th>\n",
              "      <th>Min_distance</th>\n",
              "      <th>Max_distance</th>\n",
              "      <th>Average_distance</th>\n",
              "      <th>OL_Length</th>\n",
              "      <th>PTVp_4800 vol</th>\n",
              "      <th>Heart vol</th>\n",
              "      <th>PTVp_4800 center to Heart center</th>\n",
              "      <th>PTVp_4800 center above Heart</th>\n",
              "      <th>Machine</th>\n",
              "    </tr>\n",
              "  </thead>\n",
              "  <tbody>\n",
              "    <tr>\n",
              "      <th>0</th>\n",
              "      <td>0.47</td>\n",
              "      <td>2.38</td>\n",
              "      <td>12.00</td>\n",
              "      <td>7.50</td>\n",
              "      <td>2.8</td>\n",
              "      <td>25.48</td>\n",
              "      <td>454.59</td>\n",
              "      <td>8.3</td>\n",
              "      <td>no</td>\n",
              "      <td>V</td>\n",
              "    </tr>\n",
              "    <tr>\n",
              "      <th>1</th>\n",
              "      <td>0.33</td>\n",
              "      <td>2.97</td>\n",
              "      <td>17.47</td>\n",
              "      <td>10.35</td>\n",
              "      <td>4.3</td>\n",
              "      <td>51.34</td>\n",
              "      <td>658.57</td>\n",
              "      <td>12.0</td>\n",
              "      <td>no</td>\n",
              "      <td>V</td>\n",
              "    </tr>\n",
              "    <tr>\n",
              "      <th>2</th>\n",
              "      <td>0.43</td>\n",
              "      <td>7.90</td>\n",
              "      <td>17.56</td>\n",
              "      <td>12.42</td>\n",
              "      <td>4.1</td>\n",
              "      <td>106.55</td>\n",
              "      <td>520.27</td>\n",
              "      <td>14.5</td>\n",
              "      <td>no</td>\n",
              "      <td>E</td>\n",
              "    </tr>\n",
              "    <tr>\n",
              "      <th>3</th>\n",
              "      <td>0.06</td>\n",
              "      <td>7.55</td>\n",
              "      <td>16.97</td>\n",
              "      <td>12.09</td>\n",
              "      <td>1.7</td>\n",
              "      <td>29.76</td>\n",
              "      <td>508.28</td>\n",
              "      <td>13.0</td>\n",
              "      <td>yes</td>\n",
              "      <td>V</td>\n",
              "    </tr>\n",
              "    <tr>\n",
              "      <th>4</th>\n",
              "      <td>0.57</td>\n",
              "      <td>3.26</td>\n",
              "      <td>15.82</td>\n",
              "      <td>10.20</td>\n",
              "      <td>4.9</td>\n",
              "      <td>64.62</td>\n",
              "      <td>800.18</td>\n",
              "      <td>12.8</td>\n",
              "      <td>no</td>\n",
              "      <td>E</td>\n",
              "    </tr>\n",
              "  </tbody>\n",
              "</table>\n",
              "</div>\n",
              "      <button class=\"colab-df-convert\" onclick=\"convertToInteractive('df-a6afdbc3-30d1-46dd-9977-3afb7d8c50f6')\"\n",
              "              title=\"Convert this dataframe to an interactive table.\"\n",
              "              style=\"display:none;\">\n",
              "        \n",
              "  <svg xmlns=\"http://www.w3.org/2000/svg\" height=\"24px\"viewBox=\"0 0 24 24\"\n",
              "       width=\"24px\">\n",
              "    <path d=\"M0 0h24v24H0V0z\" fill=\"none\"/>\n",
              "    <path d=\"M18.56 5.44l.94 2.06.94-2.06 2.06-.94-2.06-.94-.94-2.06-.94 2.06-2.06.94zm-11 1L8.5 8.5l.94-2.06 2.06-.94-2.06-.94L8.5 2.5l-.94 2.06-2.06.94zm10 10l.94 2.06.94-2.06 2.06-.94-2.06-.94-.94-2.06-.94 2.06-2.06.94z\"/><path d=\"M17.41 7.96l-1.37-1.37c-.4-.4-.92-.59-1.43-.59-.52 0-1.04.2-1.43.59L10.3 9.45l-7.72 7.72c-.78.78-.78 2.05 0 2.83L4 21.41c.39.39.9.59 1.41.59.51 0 1.02-.2 1.41-.59l7.78-7.78 2.81-2.81c.8-.78.8-2.07 0-2.86zM5.41 20L4 18.59l7.72-7.72 1.47 1.35L5.41 20z\"/>\n",
              "  </svg>\n",
              "      </button>\n",
              "      \n",
              "  <style>\n",
              "    .colab-df-container {\n",
              "      display:flex;\n",
              "      flex-wrap:wrap;\n",
              "      gap: 12px;\n",
              "    }\n",
              "\n",
              "    .colab-df-convert {\n",
              "      background-color: #E8F0FE;\n",
              "      border: none;\n",
              "      border-radius: 50%;\n",
              "      cursor: pointer;\n",
              "      display: none;\n",
              "      fill: #1967D2;\n",
              "      height: 32px;\n",
              "      padding: 0 0 0 0;\n",
              "      width: 32px;\n",
              "    }\n",
              "\n",
              "    .colab-df-convert:hover {\n",
              "      background-color: #E2EBFA;\n",
              "      box-shadow: 0px 1px 2px rgba(60, 64, 67, 0.3), 0px 1px 3px 1px rgba(60, 64, 67, 0.15);\n",
              "      fill: #174EA6;\n",
              "    }\n",
              "\n",
              "    [theme=dark] .colab-df-convert {\n",
              "      background-color: #3B4455;\n",
              "      fill: #D2E3FC;\n",
              "    }\n",
              "\n",
              "    [theme=dark] .colab-df-convert:hover {\n",
              "      background-color: #434B5C;\n",
              "      box-shadow: 0px 1px 3px 1px rgba(0, 0, 0, 0.15);\n",
              "      filter: drop-shadow(0px 1px 2px rgba(0, 0, 0, 0.3));\n",
              "      fill: #FFFFFF;\n",
              "    }\n",
              "  </style>\n",
              "\n",
              "      <script>\n",
              "        const buttonEl =\n",
              "          document.querySelector('#df-a6afdbc3-30d1-46dd-9977-3afb7d8c50f6 button.colab-df-convert');\n",
              "        buttonEl.style.display =\n",
              "          google.colab.kernel.accessAllowed ? 'block' : 'none';\n",
              "\n",
              "        async function convertToInteractive(key) {\n",
              "          const element = document.querySelector('#df-a6afdbc3-30d1-46dd-9977-3afb7d8c50f6');\n",
              "          const dataTable =\n",
              "            await google.colab.kernel.invokeFunction('convertToInteractive',\n",
              "                                                     [key], {});\n",
              "          if (!dataTable) return;\n",
              "\n",
              "          const docLinkHtml = 'Like what you see? Visit the ' +\n",
              "            '<a target=\"_blank\" href=https://colab.research.google.com/notebooks/data_table.ipynb>data table notebook</a>'\n",
              "            + ' to learn more about interactive tables.';\n",
              "          element.innerHTML = '';\n",
              "          dataTable['output_type'] = 'display_data';\n",
              "          await google.colab.output.renderOutput(dataTable, element);\n",
              "          const docLink = document.createElement('div');\n",
              "          docLink.innerHTML = docLinkHtml;\n",
              "          element.appendChild(docLink);\n",
              "        }\n",
              "      </script>\n",
              "    </div>\n",
              "  </div>\n",
              "  "
            ]
          },
          "metadata": {},
          "execution_count": 6
        }
      ],
      "source": [
        "df.head()"
      ]
    },
    {
      "cell_type": "code",
      "execution_count": 7,
      "metadata": {
        "id": "VM92jMshe7UT"
      },
      "outputs": [],
      "source": [
        "df = pd.get_dummies(df, columns=['Machine', 'PTVp_4800 center above Heart'])\n"
      ]
    },
    {
      "cell_type": "code",
      "execution_count": 8,
      "metadata": {
        "colab": {
          "base_uri": "https://localhost:8080/",
          "height": 206
        },
        "id": "zIGDPnSIe7UU",
        "outputId": "d6a80c5d-cdca-4646-9139-0b40264bfa30"
      },
      "outputs": [
        {
          "output_type": "execute_result",
          "data": {
            "text/plain": [
              "   MHD SIB  Min_distance  Max_distance  Average_distance  OL_Length  \\\n",
              "0     0.47          2.38         12.00              7.50        2.8   \n",
              "1     0.33          2.97         17.47             10.35        4.3   \n",
              "2     0.43          7.90         17.56             12.42        4.1   \n",
              "3     0.06          7.55         16.97             12.09        1.7   \n",
              "4     0.57          3.26         15.82             10.20        4.9   \n",
              "\n",
              "   PTVp_4800 vol  Heart vol  PTVp_4800 center to Heart center  Machine_E  \\\n",
              "0          25.48     454.59                               8.3          0   \n",
              "1          51.34     658.57                              12.0          0   \n",
              "2         106.55     520.27                              14.5          1   \n",
              "3          29.76     508.28                              13.0          0   \n",
              "4          64.62     800.18                              12.8          1   \n",
              "\n",
              "   Machine_V  PTVp_4800 center above Heart_no  \\\n",
              "0          1                                1   \n",
              "1          1                                1   \n",
              "2          0                                1   \n",
              "3          1                                0   \n",
              "4          0                                1   \n",
              "\n",
              "   PTVp_4800 center above Heart_yes  \n",
              "0                                 0  \n",
              "1                                 0  \n",
              "2                                 0  \n",
              "3                                 1  \n",
              "4                                 0  "
            ],
            "text/html": [
              "\n",
              "  <div id=\"df-f226a7b0-e0a2-402e-beb6-bc3ec5e8507e\">\n",
              "    <div class=\"colab-df-container\">\n",
              "      <div>\n",
              "<style scoped>\n",
              "    .dataframe tbody tr th:only-of-type {\n",
              "        vertical-align: middle;\n",
              "    }\n",
              "\n",
              "    .dataframe tbody tr th {\n",
              "        vertical-align: top;\n",
              "    }\n",
              "\n",
              "    .dataframe thead th {\n",
              "        text-align: right;\n",
              "    }\n",
              "</style>\n",
              "<table border=\"1\" class=\"dataframe\">\n",
              "  <thead>\n",
              "    <tr style=\"text-align: right;\">\n",
              "      <th></th>\n",
              "      <th>MHD SIB</th>\n",
              "      <th>Min_distance</th>\n",
              "      <th>Max_distance</th>\n",
              "      <th>Average_distance</th>\n",
              "      <th>OL_Length</th>\n",
              "      <th>PTVp_4800 vol</th>\n",
              "      <th>Heart vol</th>\n",
              "      <th>PTVp_4800 center to Heart center</th>\n",
              "      <th>Machine_E</th>\n",
              "      <th>Machine_V</th>\n",
              "      <th>PTVp_4800 center above Heart_no</th>\n",
              "      <th>PTVp_4800 center above Heart_yes</th>\n",
              "    </tr>\n",
              "  </thead>\n",
              "  <tbody>\n",
              "    <tr>\n",
              "      <th>0</th>\n",
              "      <td>0.47</td>\n",
              "      <td>2.38</td>\n",
              "      <td>12.00</td>\n",
              "      <td>7.50</td>\n",
              "      <td>2.8</td>\n",
              "      <td>25.48</td>\n",
              "      <td>454.59</td>\n",
              "      <td>8.3</td>\n",
              "      <td>0</td>\n",
              "      <td>1</td>\n",
              "      <td>1</td>\n",
              "      <td>0</td>\n",
              "    </tr>\n",
              "    <tr>\n",
              "      <th>1</th>\n",
              "      <td>0.33</td>\n",
              "      <td>2.97</td>\n",
              "      <td>17.47</td>\n",
              "      <td>10.35</td>\n",
              "      <td>4.3</td>\n",
              "      <td>51.34</td>\n",
              "      <td>658.57</td>\n",
              "      <td>12.0</td>\n",
              "      <td>0</td>\n",
              "      <td>1</td>\n",
              "      <td>1</td>\n",
              "      <td>0</td>\n",
              "    </tr>\n",
              "    <tr>\n",
              "      <th>2</th>\n",
              "      <td>0.43</td>\n",
              "      <td>7.90</td>\n",
              "      <td>17.56</td>\n",
              "      <td>12.42</td>\n",
              "      <td>4.1</td>\n",
              "      <td>106.55</td>\n",
              "      <td>520.27</td>\n",
              "      <td>14.5</td>\n",
              "      <td>1</td>\n",
              "      <td>0</td>\n",
              "      <td>1</td>\n",
              "      <td>0</td>\n",
              "    </tr>\n",
              "    <tr>\n",
              "      <th>3</th>\n",
              "      <td>0.06</td>\n",
              "      <td>7.55</td>\n",
              "      <td>16.97</td>\n",
              "      <td>12.09</td>\n",
              "      <td>1.7</td>\n",
              "      <td>29.76</td>\n",
              "      <td>508.28</td>\n",
              "      <td>13.0</td>\n",
              "      <td>0</td>\n",
              "      <td>1</td>\n",
              "      <td>0</td>\n",
              "      <td>1</td>\n",
              "    </tr>\n",
              "    <tr>\n",
              "      <th>4</th>\n",
              "      <td>0.57</td>\n",
              "      <td>3.26</td>\n",
              "      <td>15.82</td>\n",
              "      <td>10.20</td>\n",
              "      <td>4.9</td>\n",
              "      <td>64.62</td>\n",
              "      <td>800.18</td>\n",
              "      <td>12.8</td>\n",
              "      <td>1</td>\n",
              "      <td>0</td>\n",
              "      <td>1</td>\n",
              "      <td>0</td>\n",
              "    </tr>\n",
              "  </tbody>\n",
              "</table>\n",
              "</div>\n",
              "      <button class=\"colab-df-convert\" onclick=\"convertToInteractive('df-f226a7b0-e0a2-402e-beb6-bc3ec5e8507e')\"\n",
              "              title=\"Convert this dataframe to an interactive table.\"\n",
              "              style=\"display:none;\">\n",
              "        \n",
              "  <svg xmlns=\"http://www.w3.org/2000/svg\" height=\"24px\"viewBox=\"0 0 24 24\"\n",
              "       width=\"24px\">\n",
              "    <path d=\"M0 0h24v24H0V0z\" fill=\"none\"/>\n",
              "    <path d=\"M18.56 5.44l.94 2.06.94-2.06 2.06-.94-2.06-.94-.94-2.06-.94 2.06-2.06.94zm-11 1L8.5 8.5l.94-2.06 2.06-.94-2.06-.94L8.5 2.5l-.94 2.06-2.06.94zm10 10l.94 2.06.94-2.06 2.06-.94-2.06-.94-.94-2.06-.94 2.06-2.06.94z\"/><path d=\"M17.41 7.96l-1.37-1.37c-.4-.4-.92-.59-1.43-.59-.52 0-1.04.2-1.43.59L10.3 9.45l-7.72 7.72c-.78.78-.78 2.05 0 2.83L4 21.41c.39.39.9.59 1.41.59.51 0 1.02-.2 1.41-.59l7.78-7.78 2.81-2.81c.8-.78.8-2.07 0-2.86zM5.41 20L4 18.59l7.72-7.72 1.47 1.35L5.41 20z\"/>\n",
              "  </svg>\n",
              "      </button>\n",
              "      \n",
              "  <style>\n",
              "    .colab-df-container {\n",
              "      display:flex;\n",
              "      flex-wrap:wrap;\n",
              "      gap: 12px;\n",
              "    }\n",
              "\n",
              "    .colab-df-convert {\n",
              "      background-color: #E8F0FE;\n",
              "      border: none;\n",
              "      border-radius: 50%;\n",
              "      cursor: pointer;\n",
              "      display: none;\n",
              "      fill: #1967D2;\n",
              "      height: 32px;\n",
              "      padding: 0 0 0 0;\n",
              "      width: 32px;\n",
              "    }\n",
              "\n",
              "    .colab-df-convert:hover {\n",
              "      background-color: #E2EBFA;\n",
              "      box-shadow: 0px 1px 2px rgba(60, 64, 67, 0.3), 0px 1px 3px 1px rgba(60, 64, 67, 0.15);\n",
              "      fill: #174EA6;\n",
              "    }\n",
              "\n",
              "    [theme=dark] .colab-df-convert {\n",
              "      background-color: #3B4455;\n",
              "      fill: #D2E3FC;\n",
              "    }\n",
              "\n",
              "    [theme=dark] .colab-df-convert:hover {\n",
              "      background-color: #434B5C;\n",
              "      box-shadow: 0px 1px 3px 1px rgba(0, 0, 0, 0.15);\n",
              "      filter: drop-shadow(0px 1px 2px rgba(0, 0, 0, 0.3));\n",
              "      fill: #FFFFFF;\n",
              "    }\n",
              "  </style>\n",
              "\n",
              "      <script>\n",
              "        const buttonEl =\n",
              "          document.querySelector('#df-f226a7b0-e0a2-402e-beb6-bc3ec5e8507e button.colab-df-convert');\n",
              "        buttonEl.style.display =\n",
              "          google.colab.kernel.accessAllowed ? 'block' : 'none';\n",
              "\n",
              "        async function convertToInteractive(key) {\n",
              "          const element = document.querySelector('#df-f226a7b0-e0a2-402e-beb6-bc3ec5e8507e');\n",
              "          const dataTable =\n",
              "            await google.colab.kernel.invokeFunction('convertToInteractive',\n",
              "                                                     [key], {});\n",
              "          if (!dataTable) return;\n",
              "\n",
              "          const docLinkHtml = 'Like what you see? Visit the ' +\n",
              "            '<a target=\"_blank\" href=https://colab.research.google.com/notebooks/data_table.ipynb>data table notebook</a>'\n",
              "            + ' to learn more about interactive tables.';\n",
              "          element.innerHTML = '';\n",
              "          dataTable['output_type'] = 'display_data';\n",
              "          await google.colab.output.renderOutput(dataTable, element);\n",
              "          const docLink = document.createElement('div');\n",
              "          docLink.innerHTML = docLinkHtml;\n",
              "          element.appendChild(docLink);\n",
              "        }\n",
              "      </script>\n",
              "    </div>\n",
              "  </div>\n",
              "  "
            ]
          },
          "metadata": {},
          "execution_count": 8
        }
      ],
      "source": [
        "df.head()"
      ]
    },
    {
      "cell_type": "markdown",
      "metadata": {
        "id": "JgXPX8Cxe7UU"
      },
      "source": [
        "# Data processing for Regression Models"
      ]
    },
    {
      "cell_type": "code",
      "execution_count": 9,
      "metadata": {
        "id": "izAz_fnRe7UV"
      },
      "outputs": [],
      "source": [
        "import sklearn\n",
        "\n",
        "from sklearn import svm, preprocessing\n",
        "from sklearn.preprocessing import LabelEncoder\n",
        "from sklearn.preprocessing import MinMaxScaler\n",
        "\n",
        "from sklearn.metrics import max_error\n",
        "from sklearn.metrics import mean_absolute_error\n",
        "from sklearn.metrics import mean_squared_error\n",
        "from sklearn.metrics import accuracy_score  ##this is for clasification only not regression models\n",
        "from sklearn.metrics import r2_score\n",
        "import statsmodels.api as sm\n",
        "import seaborn as sns\n",
        "\n",
        "from sklearn.svm import SVC\n",
        "from sklearn.neighbors import KNeighborsRegressor\n",
        "from sklearn import neighbors\n",
        "from sklearn.preprocessing import StandardScaler\n",
        "from sklearn.linear_model import LinearRegression\n",
        "from sklearn.tree import DecisionTreeRegressor\n",
        "from sklearn.ensemble import RandomForestRegressor\n",
        "from sklearn.naive_bayes import GaussianNB\n",
        "\n",
        "from sklearn.model_selection import train_test_split\n",
        "\n",
        "import numpy as np\n",
        "import matplotlib.pyplot as plt\n",
        "%matplotlib inline\n",
        "\n",
        "\n",
        "X = df.drop(['MHD SIB'], axis=1).values  \n",
        "#X = preprocessing.scale(X)   #this made model worse I think it rounds values\n",
        "y = df['MHD SIB'].values\n",
        "\n",
        "#X_train,X_test,y_train,y_test=train_test_split(X,y,test_size=0.2)\n",
        "X_train,X_test,y_train,y_test=train_test_split(X,y,test_size=0.2,random_state=42)   #when we set a random state any number it will keep same split sequence so results will be same when ran again"
      ]
    },
    {
      "cell_type": "code",
      "execution_count": 10,
      "metadata": {
        "id": "KmLJ4RY4T4v1"
      },
      "outputs": [],
      "source": [
        "#scale\n",
        "scaler = MinMaxScaler()\n",
        "X_train = scaler.fit_transform(X_train)\n",
        "X_test = scaler.transform(X_test)"
      ]
    },
    {
      "cell_type": "markdown",
      "metadata": {
        "id": "b-bqsciCe7UV"
      },
      "source": [
        "# SVR LINEAR REGRESSION MODEL"
      ]
    },
    {
      "cell_type": "code",
      "execution_count": 11,
      "metadata": {
        "colab": {
          "base_uri": "https://localhost:8080/"
        },
        "id": "WozcuEB7e7UW",
        "outputId": "66ce55df-f62b-4469-b965-f051bdc33c9d"
      },
      "outputs": [
        {
          "output_type": "execute_result",
          "data": {
            "text/plain": [
              "SVR(kernel='linear')"
            ]
          },
          "metadata": {},
          "execution_count": 11
        }
      ],
      "source": [
        "clf = svm.SVR(kernel=\"linear\")  \n",
        "clf.fit(X_train, y_train)"
      ]
    },
    {
      "cell_type": "code",
      "execution_count": 12,
      "metadata": {
        "id": "P6CMQpVJe7UW"
      },
      "outputs": [],
      "source": [
        "y_predict = clf.predict(X_test)"
      ]
    },
    {
      "cell_type": "code",
      "execution_count": 13,
      "metadata": {
        "colab": {
          "base_uri": "https://localhost:8080/"
        },
        "id": "WXkwKMYBe7UW",
        "outputId": "43e3e53a-00dd-4312-a5fa-a24bfb9477ed"
      },
      "outputs": [
        {
          "output_type": "stream",
          "name": "stdout",
          "text": [
            "SVR linear Accuracy = 0.5843100495865696\n",
            "SVR linear R2 score = 0.5843100495865696\n",
            "SVR linear Mean MHD difference = 0.09998626977438684\n",
            "SVR linear Max MHD difference = 0.26447207885277446\n",
            "SVR linear Mean Sqrd error = 0.01616467057175862\n"
          ]
        }
      ],
      "source": [
        "print('SVR linear Accuracy =', clf.score(X_test, y_test))  #get accuracy which is more for classifcation measure\n",
        "print('SVR linear R2 score =', r2_score(y_test, y_predict))   #true r2 value for regression\n",
        "print('SVR linear Mean MHD difference =', mean_absolute_error(y_test, y_predict)) #MEAN ABS ERROR\n",
        "print('SVR linear Max MHD difference =', max_error(y_test, y_predict))  #max error for test cases Gy\n",
        "print('SVR linear Mean Sqrd error =', mean_squared_error(y_test, y_predict))"
      ]
    },
    {
      "cell_type": "code",
      "execution_count": 14,
      "metadata": {
        "colab": {
          "base_uri": "https://localhost:8080/",
          "height": 312
        },
        "id": "HJU016v8TvdH",
        "outputId": "0dfc8dd3-9942-4a99-afda-a2889fb6e59d"
      },
      "outputs": [
        {
          "output_type": "execute_result",
          "data": {
            "text/plain": [
              "Text(0.5, 1.0, 'SVR Linear SIB MHD Dose')"
            ]
          },
          "metadata": {},
          "execution_count": 14
        },
        {
          "output_type": "display_data",
          "data": {
            "text/plain": [
              "<Figure size 432x288 with 1 Axes>"
            ],
            "image/png": "[encoded data removed]"
          },
          "metadata": {
            "needs_background": "light"
          }
        }
      ],
      "source": [
        "#PLOT\n",
        "#SVR LINEAR PLOT\n",
        "#plot predicted vs true values\n",
        "y1 = y_test\n",
        "plt.scatter(y1, y_predict, color = 'red', label='SVR Linear')\n",
        "plt.xlabel('True')\n",
        "plt.ylabel('Predicted')\n",
        "\n",
        "x1 = y_test\n",
        "plt.plot(x1, x1, label='ideal',color = 'g')\n",
        "plt.legend()\n",
        "plt.title('SVR Linear SIB MHD Dose')\n"
      ]
    },
    {
      "cell_type": "markdown",
      "metadata": {
        "id": "SIvYHkule7UX"
      },
      "source": [
        "# SVR POLY REGRESSION MODEL"
      ]
    },
    {
      "cell_type": "code",
      "execution_count": 15,
      "metadata": {
        "colab": {
          "base_uri": "https://localhost:8080/"
        },
        "id": "pqrtfcYWe7UX",
        "outputId": "6ba8e899-7b79-42d9-b4dc-ce8f060b0426"
      },
      "outputs": [
        {
          "output_type": "stream",
          "name": "stdout",
          "text": [
            "SVR poly Accuracy = 0.36652008366390065\n",
            "SVR poly R2 score = 0.36652008366390065\n",
            "SVR poly Mean MHD difference = 0.11291947229583116\n",
            "SVR poly Max MHD difference = 0.39101129596944134\n",
            "SVR poly Mean Sqrd error = 0.024633730382978766\n"
          ]
        }
      ],
      "source": [
        "poly = svm.SVR(kernel=\"poly\")  \n",
        "poly.fit(X_train, y_train)\n",
        "y_poly_predict = poly.predict(X_test)\n",
        "print('SVR poly Accuracy =', poly.score(X_test, y_test))  #get accuracy which is more for classifcation measure\n",
        "print('SVR poly R2 score =', r2_score(y_test, y_poly_predict))   #true r2 value for regression\n",
        "print('SVR poly Mean MHD difference =', mean_absolute_error(y_test, y_poly_predict)) #MEAN ABS ERROR\n",
        "print('SVR poly Max MHD difference =', max_error(y_test, y_poly_predict))  #max error for test cases Gy\n",
        "print('SVR poly Mean Sqrd error =', mean_squared_error(y_test, y_poly_predict))"
      ]
    },
    {
      "cell_type": "markdown",
      "metadata": {
        "id": "6tYKTU4ue7UX"
      },
      "source": [
        "# SVR RBF REGRESSION MODEL"
      ]
    },
    {
      "cell_type": "code",
      "execution_count": 16,
      "metadata": {
        "colab": {
          "base_uri": "https://localhost:8080/"
        },
        "id": "Gifh-ZNUe7UY",
        "outputId": "db2f9936-f2e7-4338-a507-2c327ef3e6b8"
      },
      "outputs": [
        {
          "output_type": "stream",
          "name": "stdout",
          "text": [
            "SVR rbf Accuracy = 0.5800428566348126\n",
            "SVR rbf R2 score = 0.5800428566348126\n",
            "SVR rbf Mean MHD difference = 0.09926841174249025\n",
            "SVR rbf Max MHD difference = 0.345851667621602\n",
            "SVR rbf Mean Sqrd error = 0.01633060618858717\n"
          ]
        }
      ],
      "source": [
        "rbf = svm.SVR(kernel=\"rbf\")  \n",
        "rbf.fit(X_train, y_train)\n",
        "y_rbf_predict = rbf.predict(X_test)\n",
        "print('SVR rbf Accuracy =', rbf.score(X_test, y_test))  #get accuracy which is more for classifcation measure\n",
        "print('SVR rbf R2 score =', r2_score(y_test, y_rbf_predict))   #true r2 value for regression\n",
        "print('SVR rbf Mean MHD difference =', mean_absolute_error(y_test, y_rbf_predict)) #MEAN ABS ERROR\n",
        "print('SVR rbf Max MHD difference =', max_error(y_test, y_rbf_predict))  #max error for test cases Gy\n",
        "print('SVR rbf Mean Sqrd error =', mean_squared_error(y_test, y_rbf_predict))"
      ]
    },
    {
      "cell_type": "markdown",
      "metadata": {
        "id": "Iqs92jXce7UY"
      },
      "source": [
        "# LINEAR REGRESSION MODEL"
      ]
    },
    {
      "cell_type": "code",
      "execution_count": 17,
      "metadata": {
        "colab": {
          "base_uri": "https://localhost:8080/"
        },
        "id": "WxVPoM1Ge7UY",
        "outputId": "110ffa7a-7c56-4326-945a-20f7229f49f2"
      },
      "outputs": [
        {
          "output_type": "stream",
          "name": "stdout",
          "text": [
            "Linear Regression Accuracy = 0.3889517528171763\n",
            "Linear Regression R2 score = 0.3889517528171763\n",
            "Linear Regression Mean MHD difference = 0.11235571019502148\n",
            "Linear Regression Max MHD difference = 0.35071820150204697\n",
            "Linear Regression Mean Sqrd error = 0.02376144433931389\n"
          ]
        }
      ],
      "source": [
        "linear = LinearRegression()\n",
        "linear.fit(X_train, y_train)\n",
        "y_linear_predict = linear.predict(X_test)\n",
        "print('Linear Regression Accuracy =', linear.score(X_test, y_test))  #get accuracy which is more for classifcation measure\n",
        "print('Linear Regression R2 score =', r2_score(y_test, y_linear_predict))   #true r2 value for regression\n",
        "print('Linear Regression Mean MHD difference =', mean_absolute_error(y_test, y_linear_predict)) #MEAN ABS ERROR\n",
        "print('Linear Regression Max MHD difference =', max_error(y_test, y_linear_predict))  #max error for test cases Gy\n",
        "print('Linear Regression Mean Sqrd error =', mean_squared_error(y_test, y_linear_predict))"
      ]
    },
    {
      "cell_type": "markdown",
      "metadata": {
        "id": "w2Is4AfTe7UZ"
      },
      "source": [
        "# KNN REGRESSION MODEL"
      ]
    },
    {
      "cell_type": "code",
      "execution_count": 18,
      "metadata": {
        "colab": {
          "base_uri": "https://localhost:8080/",
          "height": 977
        },
        "id": "3qdP_BIie7UZ",
        "outputId": "7b231597-42b9-4dc0-ce67-5e09a1c0c7bd"
      },
      "outputs": [
        {
          "output_type": "stream",
          "name": "stdout",
          "text": [
            "RMSE value for k=  1 is: 0.03171363636363636\n",
            "RMSE value for k=  2 is: 0.029293181818181812\n",
            "RMSE value for k=  3 is: 0.025171717171717168\n",
            "RMSE value for k=  4 is: 0.022098508522727264\n",
            "RMSE value for k=  5 is: 0.023944999999999984\n",
            "RMSE value for k=  6 is: 0.02542537878787878\n",
            "RMSE value for k=  7 is: 0.027226020408163253\n",
            "RMSE value for k=  8 is: 0.02763726917613635\n",
            "RMSE value for k=  9 is: 0.025225434904601562\n",
            "RMSE value for k=  10 is: 0.024635204545454533\n",
            "RMSE value for k=  11 is: 0.024664913598797886\n",
            "RMSE value for k=  12 is: 0.023379711174242413\n",
            "RMSE value for k=  13 is: 0.023251949973103814\n",
            "RMSE value for k=  14 is: 0.02274998260667903\n",
            "RMSE value for k=  15 is: 0.02201650505050504\n",
            "RMSE value for k=  16 is: 0.022120361328124994\n",
            "RMSE value for k=  17 is: 0.022635089650833592\n",
            "RMSE value for k=  18 is: 0.02274686798540965\n",
            "RMSE value for k=  19 is: 0.023300648451271718\n",
            "RMSE value for k=  20 is: 0.023462880681818177\n",
            "RMSE value for k=  21 is: 0.022513280766852193\n",
            "RMSE value for k=  22 is: 0.021195353587528172\n",
            "RMSE value for k=  23 is: 0.021308397061350747\n",
            "RMSE value for k=  24 is: 0.02211485558712121\n",
            "RMSE value for k=  25 is: 0.02094720181818181\n",
            "RMSE value for k=  26 is: 0.020806562668101124\n",
            "RMSE value for k=  27 is: 0.019882009913954356\n",
            "RMSE value for k=  28 is: 0.020518161525974018\n",
            "RMSE value for k=  29 is: 0.020570165387525666\n",
            "RMSE value for k=  30 is: 0.02047131439393939\n",
            "RMSE value for k=  31 is: 0.02111997564090436\n",
            "RMSE value for k=  32 is: 0.021632597212357944\n",
            "RMSE value for k=  33 is: 0.02118272393355037\n",
            "RMSE value for k=  34 is: 0.022213615720352308\n",
            "RMSE value for k=  35 is: 0.022078143784786636\n",
            "RMSE value for k=  36 is: 0.022858413124298534\n",
            "RMSE value for k=  37 is: 0.02352220598977355\n",
            "RMSE value for k=  38 is: 0.024307652354570632\n",
            "RMSE value for k=  39 is: 0.02546990616221385\n",
            "RMSE value for k=  40 is: 0.0259673565340909\n"
          ]
        },
        {
          "output_type": "execute_result",
          "data": {
            "text/plain": [
              "<matplotlib.axes._subplots.AxesSubplot at 0x7f572624c250>"
            ]
          },
          "metadata": {},
          "execution_count": 18
        },
        {
          "output_type": "display_data",
          "data": {
            "text/plain": [
              "<Figure size 432x288 with 1 Axes>"
            ],
            "image/png": "[encoded data removed]"
          },
          "metadata": {
            "needs_background": "light"
          }
        }
      ],
      "source": [
        "#FIND BEST VALUE OF K TO USE IN MODEL BY PLOTTING THE ERROR WITH DIFFERENT K VALUES IN MODEL\n",
        "rmse_val = [] #to store rmse values for different k\n",
        "for K in range(40):\n",
        "    K = K+1\n",
        "    knn = neighbors.KNeighborsRegressor(n_neighbors = K)\n",
        "\n",
        "    knn.fit(X_train, y_train)  #fit the model\n",
        "    y_knn_predict = knn.predict(X_test) #make prediction on test set\n",
        "    error = mean_squared_error(y_test, y_knn_predict) #calculate rmse\n",
        "    rmse_val.append(mean_squared_error(y_test, y_knn_predict)) #store rmse values\n",
        "    print('RMSE value for k= ' , K , 'is:', error)\n",
        "    \n",
        "#plot the rmse values against k values # LOOKS LIKE k = 19? is lowest error so use k=4 in model for predicting\n",
        "curve = pd.DataFrame(rmse_val) #elbow curve \n",
        "curve.plot()"
      ]
    },
    {
      "cell_type": "code",
      "execution_count": 19,
      "metadata": {
        "colab": {
          "base_uri": "https://localhost:8080/"
        },
        "id": "jPZjq4qIe7UZ",
        "outputId": "ce7c5266-ec72-4efb-bb30-bf0915886922"
      },
      "outputs": [
        {
          "output_type": "stream",
          "name": "stdout",
          "text": [
            "knn Regression Accuracy = 0.3526852393012533\n",
            "knn Regression R2 score = 0.3526852393012533\n",
            "knn Regression Mean MHD difference = 0.11969696969696969\n",
            "knn Regression Max MHD difference = 0.45000000000000007\n",
            "knn Regression Mean Sqrd error = 0.025171717171717168\n"
          ]
        }
      ],
      "source": [
        "knn = neighbors.KNeighborsRegressor(n_neighbors = 3)  ##PICK 1 here as lowest error in plot above\n",
        "knn.fit(X_train, y_train)  #fit the model\n",
        "y_knn_predict = knn.predict(X_test)\n",
        "print('knn Regression Accuracy =', knn.score(X_test, y_test))  #get accuracy which is more for classifcation measure\n",
        "print('knn Regression R2 score =', r2_score(y_test, y_knn_predict))   #true r2 value for regression\n",
        "print('knn Regression Mean MHD difference =', mean_absolute_error(y_test, y_knn_predict)) #MEAN ABS ERROR\n",
        "print('knn Regression Max MHD difference =', max_error(y_test, y_knn_predict))  #max error for test cases Gy\n",
        "print('knn Regression Mean Sqrd error =', mean_squared_error(y_test, y_knn_predict))"
      ]
    },
    {
      "cell_type": "markdown",
      "metadata": {
        "id": "L1aRGpvme7UZ"
      },
      "source": [
        "# DECISION TREE REGRESSOR MODEL"
      ]
    },
    {
      "cell_type": "code",
      "execution_count": 20,
      "metadata": {
        "colab": {
          "base_uri": "https://localhost:8080/"
        },
        "id": "Yi0_3Tfde7Ua",
        "outputId": "09a42cf9-0a6e-410f-c0b3-0ec34f013280"
      },
      "outputs": [
        {
          "output_type": "stream",
          "name": "stdout",
          "text": [
            "dt Regression Accuracy = -0.23924605493863282\n",
            "dt Regression R2 score = -0.23924605493863282\n",
            "dt Regression Mean MHD difference = 0.14795454545454542\n",
            "dt Regression Max MHD difference = 0.7550000000000001\n",
            "dt Regression Mean Sqrd error = 0.048189772727272734\n"
          ]
        }
      ],
      "source": [
        "dt = DecisionTreeRegressor(random_state=0)\n",
        "dt.fit(X_train, y_train)  #fit the model\n",
        "y_dt_predict = dt.predict(X_test)\n",
        "print('dt Regression Accuracy =', dt.score(X_test, y_test))  #get accuracy which is more for classifcation measure\n",
        "print('dt Regression R2 score =', r2_score(y_test, y_dt_predict))   #true r2 value for regression\n",
        "print('dt Regression Mean MHD difference =', mean_absolute_error(y_test, y_dt_predict)) #MEAN ABS ERROR\n",
        "print('dt Regression Max MHD difference =', max_error(y_test, y_dt_predict))  #max error for test cases Gy\n",
        "print('dt Regression Mean Sqrd error =', mean_squared_error(y_test, y_dt_predict))"
      ]
    },
    {
      "cell_type": "markdown",
      "source": [
        "**XGB Regressor**"
      ],
      "metadata": {
        "id": "8Z54j2WNFmL4"
      }
    },
    {
      "cell_type": "code",
      "source": [
        "import xgboost as xgb\n",
        "xgbr = xgb.XGBRegressor(verbosity=0) \n",
        "xgbr.fit(X_train, y_train)\n",
        "score = xgbr.score(X_train, y_train)  \n",
        "print(\"Training score: \", score)\n"
      ],
      "metadata": {
        "colab": {
          "base_uri": "https://localhost:8080/"
        },
        "id": "E-y9XbVVFivH",
        "outputId": "7a00b79d-e8c4-4ea9-b4ba-673cba7f3a34"
      },
      "execution_count": 27,
      "outputs": [
        {
          "output_type": "stream",
          "name": "stdout",
          "text": [
            "Training score:  0.9966117071464963\n"
          ]
        }
      ]
    },
    {
      "cell_type": "code",
      "source": [
        "y_xgbr_predict = xgbr.predict(X_test)\n",
        "print('xgbr Regression Accuracy =', xgbr.score(X_test, y_test))  #get accuracy which is more for classifcation measure\n",
        "print('xgbr Regression R2 score =', r2_score(y_test, y_xgbr_predict))   #true r2 value for regression\n",
        "print('xgbr Regression Mean MHD difference =', mean_absolute_error(y_test, y_xgbr_predict)) #MEAN ABS ERROR\n",
        "print('xgbr Regression Max MHD difference =', max_error(y_test, y_xgbr_predict))  #max error for test cases Gy\n",
        "print('xgbr Regression Mean Sqrd error =', mean_squared_error(y_test, y_xgbr_predict))\n"
      ],
      "metadata": {
        "colab": {
          "base_uri": "https://localhost:8080/"
        },
        "id": "pIy8w7t5GIye",
        "outputId": "4a96ae8a-7246-4468-e077-d50083dc0531"
      },
      "execution_count": 29,
      "outputs": [
        {
          "output_type": "stream",
          "name": "stdout",
          "text": [
            "xgbr Regression Accuracy = 0.4433983951197309\n",
            "xgbr Regression R2 score = 0.4433983951197309\n",
            "xgbr Regression Mean MHD difference = 0.10582346878268499\n",
            "xgbr Regression Max MHD difference = 0.4157689476013184\n",
            "xgbr Regression Mean Sqrd error = 0.021644212407957733\n"
          ]
        }
      ]
    },
    {
      "cell_type": "code",
      "source": [
        "#PLOT\n",
        "y11 = y_test\n",
        "plt.scatter(y11, y_xgbr_predict, color = 'red', label='xgbr')\n",
        "plt.xlabel('True')\n",
        "plt.ylabel('Predicted')\n",
        "\n",
        "x11 = y_test\n",
        "plt.plot(x11, x11, label='ideal',color = 'g')\n",
        "plt.legend()\n",
        "plt.title('xgbr SIB MHD Dose')"
      ],
      "metadata": {
        "colab": {
          "base_uri": "https://localhost:8080/",
          "height": 312
        },
        "id": "gMGOHzjNHKfF",
        "outputId": "7c1432a4-cc8b-4026-f8b1-603577dbfad4"
      },
      "execution_count": 30,
      "outputs": [
        {
          "output_type": "execute_result",
          "data": {
            "text/plain": [
              "Text(0.5, 1.0, 'xgbr SIB MHD Dose')"
            ]
          },
          "metadata": {},
          "execution_count": 30
        },
        {
          "output_type": "display_data",
          "data": {
            "text/plain": [
              "<Figure size 432x288 with 1 Axes>"
            ],
            "image/png": "[encoded data removed]"
          },
          "metadata": {
            "needs_background": "light"
          }
        }
      ]
    },
    {
      "cell_type": "markdown",
      "metadata": {
        "id": "9m7BKHM_e7Ua"
      },
      "source": [
        "# RANDOM FOREST REGRESSION MODEL"
      ]
    },
    {
      "cell_type": "code",
      "execution_count": 31,
      "metadata": {
        "colab": {
          "base_uri": "https://localhost:8080/"
        },
        "id": "OGw1XV5me7Ua",
        "outputId": "44cb0b83-1b0b-41cf-d50a-34654a3d2e4a"
      },
      "outputs": [
        {
          "output_type": "stream",
          "name": "stdout",
          "text": [
            "RF Regression Accuracy = 0.44785355347749856\n",
            "RF Regression R2 score = 0.44785355347749856\n",
            "RF Regression Mean MHD difference = 0.09966818181818184\n",
            "RF Regression Max MHD difference = 0.4415499999999997\n",
            "RF Regression Mean Sqrd error = 0.021470967499999993\n"
          ]
        }
      ],
      "source": [
        "rf = RandomForestRegressor(random_state=42)  #uses default params such as no.est 100. #use random 42 if want same result each run? 'None' will  produce different results in every execution\n",
        "rf.fit(X_train, y_train)  #fit the model\n",
        "y_rf_predict = rf.predict(X_test)\n",
        "print('RF Regression Accuracy =', rf.score(X_test, y_test))  #get accuracy which is more for classifcation measure\n",
        "print('RF Regression R2 score =', r2_score(y_test, y_rf_predict))   #true r2 value for regression\n",
        "print('RF Regression Mean MHD difference =', mean_absolute_error(y_test, y_rf_predict)) #MEAN ABS ERROR\n",
        "print('RF Regression Max MHD difference =', max_error(y_test, y_rf_predict))  #max error for test cases Gy\n",
        "print('RF Regression Mean Sqrd error =', mean_squared_error(y_test, y_rf_predict))\n"
      ]
    },
    {
      "cell_type": "code",
      "execution_count": 32,
      "metadata": {
        "colab": {
          "base_uri": "https://localhost:8080/"
        },
        "id": "NVta4BnQoXy4",
        "outputId": "ca5bd9ad-39c7-427a-ca41-ba940fcaa1ef"
      },
      "outputs": [
        {
          "output_type": "execute_result",
          "data": {
            "text/plain": [
              "array([[0.65967456, 0.5999687 , 0.61754386, 0.39726027, 0.1994025 ,\n",
              "        0.32504069, 0.55963303, 1.        , 0.        , 1.        ,\n",
              "        0.        ]])"
            ]
          },
          "metadata": {},
          "execution_count": 32
        }
      ],
      "source": [
        "#TEST EXAMPLE\n",
        "user_input = [[5.89059, 16.529748, 11.528, 2.9, 54.58, 613.86, 13.1, 1, 0, 1, 0]]  ##raw input data by user gives 0.170Gy\n",
        "user_test = scaler.transform(user_input)\n",
        "user_test\n"
      ]
    },
    {
      "cell_type": "code",
      "execution_count": 33,
      "metadata": {
        "colab": {
          "base_uri": "https://localhost:8080/"
        },
        "id": "g7JKuXJmb7Dj",
        "outputId": "2dd1109e-86ce-4761-def6-d40d9f62ca92"
      },
      "outputs": [
        {
          "output_type": "stream",
          "name": "stdout",
          "text": [
            "0.18289999999999992\n"
          ]
        }
      ],
      "source": [
        "guess = rf.predict(user_test)\n",
        "print(guess[0])"
      ]
    },
    {
      "cell_type": "markdown",
      "metadata": {
        "id": "ilI9tJ892c_B"
      },
      "source": [
        "#TUNE THE RANDOM FOREST WITH GRID SEARCH CV TO GET BEST PARAMS"
      ]
    },
    {
      "cell_type": "code",
      "execution_count": 34,
      "metadata": {
        "colab": {
          "base_uri": "https://localhost:8080/"
        },
        "id": "V5x7v56N5UYe",
        "outputId": "3e3c2c14-c58d-4958-a37f-2a3720cd4f14"
      },
      "outputs": [
        {
          "output_type": "stream",
          "name": "stdout",
          "text": [
            "{'bootstrap': True,\n",
            " 'ccp_alpha': 0.0,\n",
            " 'criterion': 'squared_error',\n",
            " 'max_depth': None,\n",
            " 'max_features': 'auto',\n",
            " 'max_leaf_nodes': None,\n",
            " 'max_samples': None,\n",
            " 'min_impurity_decrease': 0.0,\n",
            " 'min_samples_leaf': 1,\n",
            " 'min_samples_split': 2,\n",
            " 'min_weight_fraction_leaf': 0.0,\n",
            " 'n_estimators': 100,\n",
            " 'n_jobs': None,\n",
            " 'oob_score': False,\n",
            " 'random_state': 42,\n",
            " 'verbose': 0,\n",
            " 'warm_start': False}\n"
          ]
        }
      ],
      "source": [
        "from pprint import pprint\n",
        "pprint(rf.get_params())   #get current params from above \n",
        "#n_estimators = number of trees in the foreset\n",
        "#max_features = max number of features considered for splitting a node\n",
        "#max_depth = max number of levels in each decision tree\n",
        "#min_samples_split = min number of data points placed in a node before the node is split\n",
        "#min_samples_leaf = min number of data points allowed in a leaf node\n",
        "#bootstrap = method for sampling data points (with or without replacement)"
      ]
    },
    {
      "cell_type": "code",
      "execution_count": 35,
      "metadata": {
        "colab": {
          "base_uri": "https://localhost:8080/"
        },
        "id": "ToVKjevb67aU",
        "outputId": "62c1a1ff-91ff-46e6-921e-0255d48b5678"
      },
      "outputs": [
        {
          "output_type": "stream",
          "name": "stdout",
          "text": [
            "{'bootstrap': [True, False],\n",
            " 'max_depth': [10, 20, 30, 40, 50, 60, 70, 80, 90, 100, 110, None],\n",
            " 'max_features': ['auto', 'sqrt'],\n",
            " 'min_samples_leaf': [1, 2, 4],\n",
            " 'min_samples_split': [2, 5, 10],\n",
            " 'n_estimators': [10, 120, 230, 340, 450, 560, 670, 780, 890, 1000]}\n"
          ]
        }
      ],
      "source": [
        "from sklearn.model_selection import RandomizedSearchCV\n",
        "# Number of trees in random forest\n",
        "n_estimators = [int(x) for x in np.linspace(start = 10, stop = 1000, num = 10)]\n",
        "# Number of features to consider at every split\n",
        "max_features = ['auto', 'sqrt']\n",
        "# Maximum number of levels in tree\n",
        "max_depth = [int(x) for x in np.linspace(10, 110, num = 11)]\n",
        "max_depth.append(None)\n",
        "# Minimum number of samples required to split a node\n",
        "min_samples_split = [2, 5, 10]\n",
        "# Minimum number of samples required at each leaf node\n",
        "min_samples_leaf = [1, 2, 4]\n",
        "# Method of selecting samples for training each tree\n",
        "bootstrap = [True, False]\n",
        "# Create the random grid\n",
        "random_grid = {'n_estimators': n_estimators,\n",
        "               'max_features': max_features,\n",
        "               'max_depth': max_depth,\n",
        "               'min_samples_split': min_samples_split,\n",
        "               'min_samples_leaf': min_samples_leaf,\n",
        "               'bootstrap': bootstrap}\n",
        "pprint(random_grid)"
      ]
    },
    {
      "cell_type": "code",
      "execution_count": 36,
      "metadata": {
        "colab": {
          "base_uri": "https://localhost:8080/"
        },
        "id": "IXLg9cYO7IWX",
        "outputId": "0cf079ec-314c-49e1-aa2e-0bdce910c26f"
      },
      "outputs": [
        {
          "output_type": "stream",
          "name": "stdout",
          "text": [
            "Fitting 5 folds for each of 100 candidates, totalling 500 fits\n"
          ]
        },
        {
          "output_type": "execute_result",
          "data": {
            "text/plain": [
              "{'n_estimators': 780,\n",
              " 'min_samples_split': 5,\n",
              " 'min_samples_leaf': 1,\n",
              " 'max_features': 'auto',\n",
              " 'max_depth': 90,\n",
              " 'bootstrap': True}"
            ]
          },
          "metadata": {},
          "execution_count": 36
        }
      ],
      "source": [
        "# Use the random grid to search for best hyperparameters\n",
        "# First create the base model to tune\n",
        "rf2 = RandomForestRegressor()\n",
        "# Random search of parameters, using 3 fold cross validation, \n",
        "# search across 100 different combinations, and use all available cores\n",
        "rf2_random = RandomizedSearchCV(estimator = rf2, param_distributions = random_grid, n_iter = 100, cv = 5, verbose=2, random_state=42, n_jobs = -1)\n",
        "# Fit the random search model\n",
        "rf2_random.fit(X_train, y_train)\n",
        "#best params\n",
        "rf2_random.best_params_\n"
      ]
    },
    {
      "cell_type": "code",
      "execution_count": 37,
      "metadata": {
        "colab": {
          "base_uri": "https://localhost:8080/"
        },
        "id": "bVW8fN-p9vem",
        "outputId": "3c7274d6-dbba-4520-fb8a-b48d303b39b8"
      },
      "outputs": [
        {
          "output_type": "stream",
          "name": "stdout",
          "text": [
            "Train Accuracy rf2 - : 0.953\n",
            "Test Accuracy rf2 - : 0.446\n",
            "old Train Accuracy rf - : 0.967\n",
            "old Test Accuracy rf - : 0.448\n"
          ]
        }
      ],
      "source": [
        "#best rf2 params model accuracy\n",
        "#best_random = rf2_random.best_estimator_\n",
        "print (f'Train Accuracy rf2 - : {rf2_random.score(X_train,y_train):.3f}')\n",
        "print (f'Test Accuracy rf2 - : {rf2_random.score(X_test,y_test):.3f}')\n",
        "print (f'old Train Accuracy rf - : {rf.score(X_train,y_train):.3f}')\n",
        "print (f'old Test Accuracy rf - : {rf.score(X_test,y_test):.3f}')\n"
      ]
    },
    {
      "cell_type": "code",
      "execution_count": 38,
      "metadata": {
        "colab": {
          "base_uri": "https://localhost:8080/"
        },
        "id": "CXlyeLPWADPQ",
        "outputId": "67a30dde-8409-4988-dc04-1adfe0ac543f"
      },
      "outputs": [
        {
          "output_type": "stream",
          "name": "stdout",
          "text": [
            "RF Regression Accuracy = 0.46912365283459945\n",
            "RF Regression R2 score = 0.46912365283459945\n",
            "RF Regression Mean MHD difference = 0.09662499999999992\n",
            "RF Regression Max MHD difference = 0.44032500000000047\n",
            "RF Regression Mean Sqrd error = 0.020643850681818187\n"
          ]
        }
      ],
      "source": [
        "rf3 = RandomForestRegressor(n_estimators=200,max_depth=100,min_samples_split=2,min_samples_leaf=1,max_features=\"auto\",random_state=42)  #uses default params such as no.est 100. #use random 42 if want same result each run? 'None' will  produce different results in every execution\n",
        "rf3.fit(X_train, y_train)  #fit the model\n",
        "y_rf3_predict = rf3.predict(X_test)\n",
        "#y_rf3_predict = rf2_random.predict(X_test)\n",
        "print('RF Regression Accuracy =', rf3.score(X_test, y_test))  #get accuracy which is more for classifcation measure\n",
        "print('RF Regression R2 score =', r2_score(y_test, y_rf3_predict))   #true r2 value for regression\n",
        "print('RF Regression Mean MHD difference =', mean_absolute_error(y_test, y_rf3_predict)) #MEAN ABS ERROR\n",
        "print('RF Regression Max MHD difference =', max_error(y_test, y_rf3_predict))  #max error for test cases Gy\n",
        "print('RF Regression Mean Sqrd error =', mean_squared_error(y_test, y_rf3_predict))"
      ]
    },
    {
      "cell_type": "markdown",
      "metadata": {
        "id": "rhbHMSbje7Ua"
      },
      "source": [
        "# RIDGE REGRESSION MODEL"
      ]
    },
    {
      "cell_type": "code",
      "execution_count": 39,
      "metadata": {
        "colab": {
          "base_uri": "https://localhost:8080/"
        },
        "id": "XnaO_j7-e7Ub",
        "outputId": "e3853066-835b-4e08-9490-4a5c2f743478"
      },
      "outputs": [
        {
          "output_type": "stream",
          "name": "stderr",
          "text": [
            "/usr/local/lib/python3.7/dist-packages/sklearn/linear_model/_ridge.py:157: LinAlgWarning: Ill-conditioned matrix (rcond=2.08657e-17): result may not be accurate.\n",
            "  return linalg.solve(A, Xy, sym_pos=True, overwrite_a=True).T\n",
            "/usr/local/lib/python3.7/dist-packages/sklearn/linear_model/_ridge.py:157: LinAlgWarning: Ill-conditioned matrix (rcond=1.67262e-17): result may not be accurate.\n",
            "  return linalg.solve(A, Xy, sym_pos=True, overwrite_a=True).T\n"
          ]
        },
        {
          "output_type": "execute_result",
          "data": {
            "text/plain": [
              "GridSearchCV(cv=5, estimator=Ridge(),\n",
              "             param_grid={'alpha': [1e-15, 1e-10, 1e-08, 0.001, 0.01, 1, 5, 10,\n",
              "                                   20, 35, 40, 45, 50, 55, 100]},\n",
              "             scoring='neg_mean_squared_error')"
            ]
          },
          "metadata": {},
          "execution_count": 39
        }
      ],
      "source": [
        "from sklearn.linear_model import Ridge\n",
        "from sklearn.model_selection import GridSearchCV\n",
        "\n",
        "rr = Ridge()\n",
        "parameters={'alpha':[1e-15,1e-10,1e-8,1e-3,1e-2,1,5,10,20,35,40,45,50,55,100]}\n",
        "ridge_regressor = GridSearchCV(rr,parameters,scoring='neg_mean_squared_error',cv=5)\n",
        "ridge_regressor.fit(X_train, y_train)\n"
      ]
    },
    {
      "cell_type": "code",
      "execution_count": 40,
      "metadata": {
        "colab": {
          "base_uri": "https://localhost:8080/"
        },
        "id": "4Q1k7LFie7Ub",
        "outputId": "337e9067-7ab9-4947-873e-16b8044a4bba"
      },
      "outputs": [
        {
          "output_type": "stream",
          "name": "stdout",
          "text": [
            "{'alpha': 1}\n",
            "-0.019772376675124742\n"
          ]
        }
      ],
      "source": [
        "print(ridge_regressor.best_params_)\n",
        "print(ridge_regressor.best_score_)"
      ]
    },
    {
      "cell_type": "code",
      "execution_count": 41,
      "metadata": {
        "colab": {
          "base_uri": "https://localhost:8080/"
        },
        "id": "7_aiHMLie7Ub",
        "outputId": "24cd17bb-0066-4c3e-d128-77b2c2e11690"
      },
      "outputs": [
        {
          "output_type": "stream",
          "name": "stdout",
          "text": [
            "RR Regression Accuracy = 0.5230840121669751\n",
            "RR Regression R2 score = 0.5230840121669751\n",
            "RR Regression Mean MHD difference = 0.10802519829051092\n",
            "RR Regression Max MHD difference = 0.2914458699507417\n",
            "RR Regression Mean Sqrd error = 0.01854552852687058\n"
          ]
        }
      ],
      "source": [
        "rr = Ridge(alpha=1.0)  #use this alpha 1 as found above to be best\n",
        "rr.fit(X_train, y_train)  #fit the model\n",
        "y_rr_predict = rr.predict(X_test)\n",
        "print('RR Regression Accuracy =', rr.score(X_test, y_test))  #get accuracy which is more for classifcation measure\n",
        "print('RR Regression R2 score =', r2_score(y_test, y_rr_predict))   #true r2 value for regression\n",
        "print('RR Regression Mean MHD difference =', mean_absolute_error(y_test, y_rr_predict)) #MEAN ABS ERROR\n",
        "print('RR Regression Max MHD difference =', max_error(y_test, y_rr_predict))  #max error for test cases Gy\n",
        "print('RR Regression Mean Sqrd error =', mean_squared_error(y_test, y_rr_predict))"
      ]
    },
    {
      "cell_type": "markdown",
      "metadata": {
        "id": "9LdrTs8fe7Ub"
      },
      "source": [
        "# LASSO REGRESSION MODEL"
      ]
    },
    {
      "cell_type": "code",
      "execution_count": 42,
      "metadata": {
        "colab": {
          "base_uri": "https://localhost:8080/"
        },
        "id": "SHnWs8zoe7Uc",
        "outputId": "62beb42a-16c1-4ee2-8bca-d6512e08a94e"
      },
      "outputs": [
        {
          "output_type": "stream",
          "name": "stdout",
          "text": [
            "{'alpha': 1}\n",
            "-0.019772376675124742\n"
          ]
        },
        {
          "output_type": "stream",
          "name": "stderr",
          "text": [
            "/usr/local/lib/python3.7/dist-packages/sklearn/linear_model/_ridge.py:157: LinAlgWarning: Ill-conditioned matrix (rcond=2.08657e-17): result may not be accurate.\n",
            "  return linalg.solve(A, Xy, sym_pos=True, overwrite_a=True).T\n",
            "/usr/local/lib/python3.7/dist-packages/sklearn/linear_model/_ridge.py:157: LinAlgWarning: Ill-conditioned matrix (rcond=1.67262e-17): result may not be accurate.\n",
            "  return linalg.solve(A, Xy, sym_pos=True, overwrite_a=True).T\n"
          ]
        }
      ],
      "source": [
        "from sklearn.linear_model import Lasso\n",
        "\n",
        "la = Lasso()\n",
        "parameters={'alpha':[1e-15,1e-10,1e-8,1e-3,1e-2,1,5,10,20,35,40,45,50,55,100]}\n",
        "lasso_regressor = GridSearchCV(rr,parameters,scoring='neg_mean_squared_error',cv=5)\n",
        "lasso_regressor.fit(X_train, y_train)\n",
        "\n",
        "print(lasso_regressor.best_params_)\n",
        "print(lasso_regressor.best_score_)"
      ]
    },
    {
      "cell_type": "code",
      "execution_count": 43,
      "metadata": {
        "colab": {
          "base_uri": "https://localhost:8080/"
        },
        "id": "alDcN8JFe7Uc",
        "outputId": "e963dd77-bb26-467a-9397-7e26975d13b8"
      },
      "outputs": [
        {
          "output_type": "stream",
          "name": "stdout",
          "text": [
            "Lasso Regression Accuracy = -0.03695225656277512\n",
            "Lasso Regression R2 score = -0.03695225656277512\n",
            "Lasso Regression Mean MHD difference = 0.17526427061310781\n",
            "Lasso Regression Max MHD difference = 0.3479069767441861\n",
            "Lasso Regression Mean Sqrd error = 0.0403233025222479\n"
          ]
        }
      ],
      "source": [
        "la = Lasso(alpha=1.0)  #use this alpha 1 as found above to be best\n",
        "la.fit(X_train, y_train)  #fit the model\n",
        "y_la_predict = la.predict(X_test)\n",
        "print('Lasso Regression Accuracy =', la.score(X_test, y_test))  #get accuracy which is more for classifcation measure\n",
        "print('Lasso Regression R2 score =', r2_score(y_test, y_la_predict))   #true r2 value for regression\n",
        "print('Lasso Regression Mean MHD difference =', mean_absolute_error(y_test, y_la_predict)) #MEAN ABS ERROR\n",
        "print('Lasso Regression Max MHD difference =', max_error(y_test, y_la_predict))  #max error for test cases Gy\n",
        "print('Lasso Regression Mean Sqrd error =', mean_squared_error(y_test, y_la_predict))"
      ]
    },
    {
      "cell_type": "markdown",
      "source": [
        "**NEURAL NETWORK**"
      ],
      "metadata": {
        "id": "-YS7IZPsWp4C"
      }
    },
    {
      "cell_type": "code",
      "source": [
        "from keras.models import Sequential\n",
        "from keras.layers import Dense\n",
        "from keras.wrappers.scikit_learn import KerasRegressor\n"
      ],
      "metadata": {
        "id": "QM-hyXVmWpiG"
      },
      "execution_count": 82,
      "outputs": []
    },
    {
      "cell_type": "code",
      "source": [
        "model = Sequential()\n",
        "model.add(Dense(128, input_dim=11, activation='relu'))\n",
        "model.add(Dense(64, activation='relu'))\n",
        "#output layer\n",
        "model.add(Dense(1, activation='linear'))\n",
        "model.compile(loss='mean_squared_error', optimizer='adam', metrics=['mae', 'mean_absolute_error'])\n",
        "\n",
        "history = model.fit(X_train, y_train, validation_split=0.2, epochs=100)\n",
        "#plot\n",
        "loss = history.history['loss']\n",
        "val_loss = history.history['val_loss']\n",
        "epochs = range(1, len(loss) + 1)\n",
        "plt.plot(epochs, loss, 'y', label='Training loss')\n",
        "plt.plot(epochs, val_loss, 'r', label='Validation loss')\n",
        "plt.title('Training and validation loss')\n",
        "plt.xlabel('Epochs')\n",
        "plt.ylabel('Loss')\n",
        "plt.legend()\n",
        "plt.show\n",
        "\n",
        "\n",
        "\n"
      ],
      "metadata": {
        "colab": {
          "base_uri": "https://localhost:8080/",
          "height": 1000
        },
        "id": "WzZuTD0ZXPGD",
        "outputId": "1e6cd103-1b83-435c-d92f-d27d9b2e9fb0"
      },
      "execution_count": 96,
      "outputs": [
        {
          "output_type": "stream",
          "name": "stdout",
          "text": [
            "Epoch 1/100\n",
            "3/3 [==============================] - 1s 108ms/step - loss: 99.5376 - mae: 9.1878 - mean_absolute_error: 9.1878 - val_loss: 14.8443 - val_mae: 3.7071 - val_mean_absolute_error: 3.7071\n",
            "Epoch 2/100\n",
            "3/3 [==============================] - 0s 18ms/step - loss: 41.6936 - mae: 5.8351 - mean_absolute_error: 5.8351 - val_loss: 7.5740 - val_mae: 2.6611 - val_mean_absolute_error: 2.6611\n",
            "Epoch 3/100\n",
            "3/3 [==============================] - 0s 19ms/step - loss: 7.6388 - mae: 2.6030 - mean_absolute_error: 2.6030 - val_loss: 50.0700 - val_mae: 6.9423 - val_mean_absolute_error: 6.9423\n",
            "Epoch 4/100\n",
            "3/3 [==============================] - 0s 16ms/step - loss: 32.6964 - mae: 5.4789 - mean_absolute_error: 5.4789 - val_loss: 7.0490 - val_mae: 2.6008 - val_mean_absolute_error: 2.6008\n",
            "Epoch 5/100\n",
            "3/3 [==============================] - 0s 18ms/step - loss: 16.5421 - mae: 3.7825 - mean_absolute_error: 3.7825 - val_loss: 22.1268 - val_mae: 4.6370 - val_mean_absolute_error: 4.6370\n",
            "Epoch 6/100\n",
            "3/3 [==============================] - 0s 16ms/step - loss: 11.0958 - mae: 2.9709 - mean_absolute_error: 2.9709 - val_loss: 12.6038 - val_mae: 3.4586 - val_mean_absolute_error: 3.4586\n",
            "Epoch 7/100\n",
            "3/3 [==============================] - 0s 19ms/step - loss: 14.7903 - mae: 3.7331 - mean_absolute_error: 3.7331 - val_loss: 1.7032 - val_mae: 1.2181 - val_mean_absolute_error: 1.2181\n",
            "Epoch 8/100\n",
            "3/3 [==============================] - 0s 16ms/step - loss: 2.3739 - mae: 1.4038 - mean_absolute_error: 1.4038 - val_loss: 15.9929 - val_mae: 3.9475 - val_mean_absolute_error: 3.9475\n",
            "Epoch 9/100\n",
            "3/3 [==============================] - 0s 15ms/step - loss: 11.0284 - mae: 3.1616 - mean_absolute_error: 3.1616 - val_loss: 1.2028 - val_mae: 1.0069 - val_mean_absolute_error: 1.0069\n",
            "Epoch 10/100\n",
            "3/3 [==============================] - 0s 26ms/step - loss: 3.9733 - mae: 1.7653 - mean_absolute_error: 1.7653 - val_loss: 4.4909 - val_mae: 2.0404 - val_mean_absolute_error: 2.0404\n",
            "Epoch 11/100\n",
            "3/3 [==============================] - 0s 16ms/step - loss: 2.0020 - mae: 1.2231 - mean_absolute_error: 1.2231 - val_loss: 5.1781 - val_mae: 2.2387 - val_mean_absolute_error: 2.2387\n",
            "Epoch 12/100\n",
            "3/3 [==============================] - 0s 14ms/step - loss: 4.7148 - mae: 2.0918 - mean_absolute_error: 2.0918 - val_loss: 0.1134 - val_mae: 0.2573 - val_mean_absolute_error: 0.2573\n",
            "Epoch 13/100\n",
            "3/3 [==============================] - 0s 16ms/step - loss: 1.3270 - mae: 0.9547 - mean_absolute_error: 0.9547 - val_loss: 2.9008 - val_mae: 1.6244 - val_mean_absolute_error: 1.6244\n",
            "Epoch 14/100\n",
            "3/3 [==============================] - 0s 18ms/step - loss: 1.5960 - mae: 1.1002 - mean_absolute_error: 1.1002 - val_loss: 1.4228 - val_mae: 1.1452 - val_mean_absolute_error: 1.1452\n",
            "Epoch 15/100\n",
            "3/3 [==============================] - 0s 16ms/step - loss: 1.3937 - mae: 1.0824 - mean_absolute_error: 1.0824 - val_loss: 0.1385 - val_mae: 0.3130 - val_mean_absolute_error: 0.3130\n",
            "Epoch 16/100\n",
            "3/3 [==============================] - 0s 15ms/step - loss: 0.4515 - mae: 0.5427 - mean_absolute_error: 0.5427 - val_loss: 0.5755 - val_mae: 0.6450 - val_mean_absolute_error: 0.6450\n",
            "Epoch 17/100\n",
            "3/3 [==============================] - 0s 16ms/step - loss: 0.4412 - mae: 0.5448 - mean_absolute_error: 0.5448 - val_loss: 0.4119 - val_mae: 0.5634 - val_mean_absolute_error: 0.5634\n",
            "Epoch 18/100\n",
            "3/3 [==============================] - 0s 16ms/step - loss: 0.4067 - mae: 0.5261 - mean_absolute_error: 0.5261 - val_loss: 0.1251 - val_mae: 0.2752 - val_mean_absolute_error: 0.2752\n",
            "Epoch 19/100\n",
            "3/3 [==============================] - 0s 18ms/step - loss: 0.2064 - mae: 0.3623 - mean_absolute_error: 0.3623 - val_loss: 0.1985 - val_mae: 0.3248 - val_mean_absolute_error: 0.3248\n",
            "Epoch 20/100\n",
            "3/3 [==============================] - 0s 18ms/step - loss: 0.2306 - mae: 0.3796 - mean_absolute_error: 0.3796 - val_loss: 0.1676 - val_mae: 0.3485 - val_mean_absolute_error: 0.3485\n",
            "Epoch 21/100\n",
            "3/3 [==============================] - 0s 15ms/step - loss: 0.2183 - mae: 0.3681 - mean_absolute_error: 0.3681 - val_loss: 0.1835 - val_mae: 0.3674 - val_mean_absolute_error: 0.3674\n",
            "Epoch 22/100\n",
            "3/3 [==============================] - 0s 14ms/step - loss: 0.2207 - mae: 0.3686 - mean_absolute_error: 0.3686 - val_loss: 0.0979 - val_mae: 0.2440 - val_mean_absolute_error: 0.2440\n",
            "Epoch 23/100\n",
            "3/3 [==============================] - 0s 28ms/step - loss: 0.1762 - mae: 0.3451 - mean_absolute_error: 0.3451 - val_loss: 0.0973 - val_mae: 0.2416 - val_mean_absolute_error: 0.2416\n",
            "Epoch 24/100\n",
            "3/3 [==============================] - 0s 16ms/step - loss: 0.1591 - mae: 0.3240 - mean_absolute_error: 0.3240 - val_loss: 0.1155 - val_mae: 0.2716 - val_mean_absolute_error: 0.2716\n",
            "Epoch 25/100\n",
            "3/3 [==============================] - 0s 15ms/step - loss: 0.1729 - mae: 0.3178 - mean_absolute_error: 0.3178 - val_loss: 0.0918 - val_mae: 0.2323 - val_mean_absolute_error: 0.2323\n",
            "Epoch 26/100\n",
            "3/3 [==============================] - 0s 15ms/step - loss: 0.1509 - mae: 0.3127 - mean_absolute_error: 0.3127 - val_loss: 0.1870 - val_mae: 0.3297 - val_mean_absolute_error: 0.3297\n",
            "Epoch 27/100\n",
            "3/3 [==============================] - 0s 15ms/step - loss: 0.2443 - mae: 0.4114 - mean_absolute_error: 0.4114 - val_loss: 0.0854 - val_mae: 0.2250 - val_mean_absolute_error: 0.2250\n",
            "Epoch 28/100\n",
            "3/3 [==============================] - 0s 26ms/step - loss: 0.1687 - mae: 0.3246 - mean_absolute_error: 0.3246 - val_loss: 0.0850 - val_mae: 0.2260 - val_mean_absolute_error: 0.2260\n",
            "Epoch 29/100\n",
            "3/3 [==============================] - 0s 16ms/step - loss: 0.1702 - mae: 0.3368 - mean_absolute_error: 0.3368 - val_loss: 0.1372 - val_mae: 0.2610 - val_mean_absolute_error: 0.2610\n",
            "Epoch 30/100\n",
            "3/3 [==============================] - 0s 15ms/step - loss: 0.1531 - mae: 0.3271 - mean_absolute_error: 0.3271 - val_loss: 0.1954 - val_mae: 0.3889 - val_mean_absolute_error: 0.3889\n",
            "Epoch 31/100\n",
            "3/3 [==============================] - 0s 16ms/step - loss: 0.1979 - mae: 0.3497 - mean_absolute_error: 0.3497 - val_loss: 0.1466 - val_mae: 0.2715 - val_mean_absolute_error: 0.2715\n",
            "Epoch 32/100\n",
            "3/3 [==============================] - 0s 17ms/step - loss: 0.2162 - mae: 0.3691 - mean_absolute_error: 0.3691 - val_loss: 0.1720 - val_mae: 0.3658 - val_mean_absolute_error: 0.3658\n",
            "Epoch 33/100\n",
            "3/3 [==============================] - 0s 17ms/step - loss: 0.3240 - mae: 0.4685 - mean_absolute_error: 0.4685 - val_loss: 0.0797 - val_mae: 0.2183 - val_mean_absolute_error: 0.2183\n",
            "Epoch 34/100\n",
            "3/3 [==============================] - 0s 18ms/step - loss: 0.2413 - mae: 0.3965 - mean_absolute_error: 0.3965 - val_loss: 0.1238 - val_mae: 0.2482 - val_mean_absolute_error: 0.2482\n",
            "Epoch 35/100\n",
            "3/3 [==============================] - 0s 17ms/step - loss: 0.1704 - mae: 0.3341 - mean_absolute_error: 0.3341 - val_loss: 0.1786 - val_mae: 0.3781 - val_mean_absolute_error: 0.3781\n",
            "Epoch 36/100\n",
            "3/3 [==============================] - 0s 16ms/step - loss: 0.1669 - mae: 0.3012 - mean_absolute_error: 0.3012 - val_loss: 0.2977 - val_mae: 0.4569 - val_mean_absolute_error: 0.4569\n",
            "Epoch 37/100\n",
            "3/3 [==============================] - 0s 18ms/step - loss: 0.2793 - mae: 0.4318 - mean_absolute_error: 0.4318 - val_loss: 0.0939 - val_mae: 0.2456 - val_mean_absolute_error: 0.2456\n",
            "Epoch 38/100\n",
            "3/3 [==============================] - 0s 20ms/step - loss: 0.1282 - mae: 0.2808 - mean_absolute_error: 0.2808 - val_loss: 0.0694 - val_mae: 0.1974 - val_mean_absolute_error: 0.1974\n",
            "Epoch 39/100\n",
            "3/3 [==============================] - 0s 16ms/step - loss: 0.1056 - mae: 0.2535 - mean_absolute_error: 0.2535 - val_loss: 0.1034 - val_mae: 0.2677 - val_mean_absolute_error: 0.2677\n",
            "Epoch 40/100\n",
            "3/3 [==============================] - 0s 15ms/step - loss: 0.1272 - mae: 0.2688 - mean_absolute_error: 0.2688 - val_loss: 0.1273 - val_mae: 0.2616 - val_mean_absolute_error: 0.2616\n",
            "Epoch 41/100\n",
            "3/3 [==============================] - 0s 16ms/step - loss: 0.1706 - mae: 0.3313 - mean_absolute_error: 0.3313 - val_loss: 0.0770 - val_mae: 0.2120 - val_mean_absolute_error: 0.2120\n",
            "Epoch 42/100\n",
            "3/3 [==============================] - 0s 19ms/step - loss: 0.1240 - mae: 0.2684 - mean_absolute_error: 0.2684 - val_loss: 0.0810 - val_mae: 0.2224 - val_mean_absolute_error: 0.2224\n",
            "Epoch 43/100\n",
            "3/3 [==============================] - 0s 21ms/step - loss: 0.1003 - mae: 0.2472 - mean_absolute_error: 0.2472 - val_loss: 0.1381 - val_mae: 0.2761 - val_mean_absolute_error: 0.2761\n",
            "Epoch 44/100\n",
            "3/3 [==============================] - 0s 17ms/step - loss: 0.1438 - mae: 0.2956 - mean_absolute_error: 0.2956 - val_loss: 0.1507 - val_mae: 0.3434 - val_mean_absolute_error: 0.3434\n",
            "Epoch 45/100\n",
            "3/3 [==============================] - 0s 18ms/step - loss: 0.2243 - mae: 0.3865 - mean_absolute_error: 0.3865 - val_loss: 0.0678 - val_mae: 0.1993 - val_mean_absolute_error: 0.1993\n",
            "Epoch 46/100\n",
            "3/3 [==============================] - 0s 16ms/step - loss: 0.0926 - mae: 0.2367 - mean_absolute_error: 0.2367 - val_loss: 0.1250 - val_mae: 0.2579 - val_mean_absolute_error: 0.2579\n",
            "Epoch 47/100\n",
            "3/3 [==============================] - 0s 17ms/step - loss: 0.1346 - mae: 0.2804 - mean_absolute_error: 0.2804 - val_loss: 0.0861 - val_mae: 0.2393 - val_mean_absolute_error: 0.2393\n",
            "Epoch 48/100\n",
            "3/3 [==============================] - 0s 17ms/step - loss: 0.1094 - mae: 0.2557 - mean_absolute_error: 0.2557 - val_loss: 0.0641 - val_mae: 0.1960 - val_mean_absolute_error: 0.1960\n",
            "Epoch 49/100\n",
            "3/3 [==============================] - 0s 15ms/step - loss: 0.0917 - mae: 0.2373 - mean_absolute_error: 0.2373 - val_loss: 0.0683 - val_mae: 0.2030 - val_mean_absolute_error: 0.2030\n",
            "Epoch 50/100\n",
            "3/3 [==============================] - 0s 17ms/step - loss: 0.0981 - mae: 0.2419 - mean_absolute_error: 0.2419 - val_loss: 0.1183 - val_mae: 0.2573 - val_mean_absolute_error: 0.2573\n",
            "Epoch 51/100\n",
            "3/3 [==============================] - 0s 19ms/step - loss: 0.1586 - mae: 0.3127 - mean_absolute_error: 0.3127 - val_loss: 0.2271 - val_mae: 0.4366 - val_mean_absolute_error: 0.4366\n",
            "Epoch 52/100\n",
            "3/3 [==============================] - 0s 19ms/step - loss: 0.3217 - mae: 0.4913 - mean_absolute_error: 0.4913 - val_loss: 0.1064 - val_mae: 0.2353 - val_mean_absolute_error: 0.2353\n",
            "Epoch 53/100\n",
            "3/3 [==============================] - 0s 19ms/step - loss: 0.2484 - mae: 0.3875 - mean_absolute_error: 0.3875 - val_loss: 0.0835 - val_mae: 0.2414 - val_mean_absolute_error: 0.2414\n",
            "Epoch 54/100\n",
            "3/3 [==============================] - 0s 17ms/step - loss: 0.1841 - mae: 0.3541 - mean_absolute_error: 0.3541 - val_loss: 0.0613 - val_mae: 0.1903 - val_mean_absolute_error: 0.1903\n",
            "Epoch 55/100\n",
            "3/3 [==============================] - 0s 16ms/step - loss: 0.1303 - mae: 0.2782 - mean_absolute_error: 0.2782 - val_loss: 0.0656 - val_mae: 0.2024 - val_mean_absolute_error: 0.2024\n",
            "Epoch 56/100\n",
            "3/3 [==============================] - 0s 18ms/step - loss: 0.1230 - mae: 0.2743 - mean_absolute_error: 0.2743 - val_loss: 0.0609 - val_mae: 0.1935 - val_mean_absolute_error: 0.1935\n",
            "Epoch 57/100\n",
            "3/3 [==============================] - 0s 15ms/step - loss: 0.1160 - mae: 0.2585 - mean_absolute_error: 0.2585 - val_loss: 0.0636 - val_mae: 0.1865 - val_mean_absolute_error: 0.1865\n",
            "Epoch 58/100\n",
            "3/3 [==============================] - 0s 17ms/step - loss: 0.0949 - mae: 0.2489 - mean_absolute_error: 0.2489 - val_loss: 0.0603 - val_mae: 0.1941 - val_mean_absolute_error: 0.1941\n",
            "Epoch 59/100\n",
            "3/3 [==============================] - 0s 16ms/step - loss: 0.0955 - mae: 0.2335 - mean_absolute_error: 0.2335 - val_loss: 0.0749 - val_mae: 0.1963 - val_mean_absolute_error: 0.1963\n",
            "Epoch 60/100\n",
            "3/3 [==============================] - 0s 17ms/step - loss: 0.0784 - mae: 0.2143 - mean_absolute_error: 0.2143 - val_loss: 0.1138 - val_mae: 0.2882 - val_mean_absolute_error: 0.2882\n",
            "Epoch 61/100\n",
            "3/3 [==============================] - 0s 16ms/step - loss: 0.1074 - mae: 0.2538 - mean_absolute_error: 0.2538 - val_loss: 0.1961 - val_mae: 0.3605 - val_mean_absolute_error: 0.3605\n",
            "Epoch 62/100\n",
            "3/3 [==============================] - 0s 17ms/step - loss: 0.1594 - mae: 0.3123 - mean_absolute_error: 0.3123 - val_loss: 0.1778 - val_mae: 0.3812 - val_mean_absolute_error: 0.3812\n",
            "Epoch 63/100\n",
            "3/3 [==============================] - 0s 19ms/step - loss: 0.1584 - mae: 0.3150 - mean_absolute_error: 0.3150 - val_loss: 0.3329 - val_mae: 0.4961 - val_mean_absolute_error: 0.4961\n",
            "Epoch 64/100\n",
            "3/3 [==============================] - 0s 22ms/step - loss: 0.2646 - mae: 0.4241 - mean_absolute_error: 0.4241 - val_loss: 0.3423 - val_mae: 0.5474 - val_mean_absolute_error: 0.5474\n",
            "Epoch 65/100\n",
            "3/3 [==============================] - 0s 16ms/step - loss: 0.3237 - mae: 0.5014 - mean_absolute_error: 0.5014 - val_loss: 0.2825 - val_mae: 0.4503 - val_mean_absolute_error: 0.4503\n",
            "Epoch 66/100\n",
            "3/3 [==============================] - 0s 16ms/step - loss: 0.2793 - mae: 0.4389 - mean_absolute_error: 0.4389 - val_loss: 0.2450 - val_mae: 0.4548 - val_mean_absolute_error: 0.4548\n",
            "Epoch 67/100\n",
            "3/3 [==============================] - 0s 16ms/step - loss: 0.2208 - mae: 0.3939 - mean_absolute_error: 0.3939 - val_loss: 0.2554 - val_mae: 0.4254 - val_mean_absolute_error: 0.4254\n",
            "Epoch 68/100\n",
            "3/3 [==============================] - 0s 16ms/step - loss: 0.2474 - mae: 0.4091 - mean_absolute_error: 0.4091 - val_loss: 0.1216 - val_mae: 0.3076 - val_mean_absolute_error: 0.3076\n",
            "Epoch 69/100\n",
            "3/3 [==============================] - 0s 17ms/step - loss: 0.1422 - mae: 0.3110 - mean_absolute_error: 0.3110 - val_loss: 0.1255 - val_mae: 0.2700 - val_mean_absolute_error: 0.2700\n",
            "Epoch 70/100\n",
            "3/3 [==============================] - 0s 21ms/step - loss: 0.1194 - mae: 0.2586 - mean_absolute_error: 0.2586 - val_loss: 0.1382 - val_mae: 0.3337 - val_mean_absolute_error: 0.3337\n",
            "Epoch 71/100\n",
            "3/3 [==============================] - 0s 16ms/step - loss: 0.1454 - mae: 0.3166 - mean_absolute_error: 0.3166 - val_loss: 0.1411 - val_mae: 0.2899 - val_mean_absolute_error: 0.2899\n",
            "Epoch 72/100\n",
            "3/3 [==============================] - 0s 18ms/step - loss: 0.1390 - mae: 0.2794 - mean_absolute_error: 0.2794 - val_loss: 0.0531 - val_mae: 0.1773 - val_mean_absolute_error: 0.1773\n",
            "Epoch 73/100\n",
            "3/3 [==============================] - 0s 18ms/step - loss: 0.0908 - mae: 0.2325 - mean_absolute_error: 0.2325 - val_loss: 0.0987 - val_mae: 0.2695 - val_mean_absolute_error: 0.2695\n",
            "Epoch 74/100\n",
            "3/3 [==============================] - 0s 21ms/step - loss: 0.1298 - mae: 0.2954 - mean_absolute_error: 0.2954 - val_loss: 0.1908 - val_mae: 0.3547 - val_mean_absolute_error: 0.3547\n",
            "Epoch 75/100\n",
            "3/3 [==============================] - 0s 19ms/step - loss: 0.1989 - mae: 0.3506 - mean_absolute_error: 0.3506 - val_loss: 0.1564 - val_mae: 0.3584 - val_mean_absolute_error: 0.3584\n",
            "Epoch 76/100\n",
            "3/3 [==============================] - 0s 26ms/step - loss: 0.1578 - mae: 0.3277 - mean_absolute_error: 0.3277 - val_loss: 0.1695 - val_mae: 0.3286 - val_mean_absolute_error: 0.3286\n",
            "Epoch 77/100\n",
            "3/3 [==============================] - 0s 19ms/step - loss: 0.1338 - mae: 0.2849 - mean_absolute_error: 0.2849 - val_loss: 0.2714 - val_mae: 0.4834 - val_mean_absolute_error: 0.4834\n",
            "Epoch 78/100\n",
            "3/3 [==============================] - 0s 21ms/step - loss: 0.2175 - mae: 0.3960 - mean_absolute_error: 0.3960 - val_loss: 0.2005 - val_mae: 0.3660 - val_mean_absolute_error: 0.3660\n",
            "Epoch 79/100\n",
            "3/3 [==============================] - 0s 17ms/step - loss: 0.1274 - mae: 0.2750 - mean_absolute_error: 0.2750 - val_loss: 0.5302 - val_mae: 0.7034 - val_mean_absolute_error: 0.7034\n",
            "Epoch 80/100\n",
            "3/3 [==============================] - 0s 18ms/step - loss: 0.3908 - mae: 0.5625 - mean_absolute_error: 0.5625 - val_loss: 0.1558 - val_mae: 0.3144 - val_mean_absolute_error: 0.3144\n",
            "Epoch 81/100\n",
            "3/3 [==============================] - 0s 20ms/step - loss: 0.1032 - mae: 0.2398 - mean_absolute_error: 0.2398 - val_loss: 0.1710 - val_mae: 0.3765 - val_mean_absolute_error: 0.3765\n",
            "Epoch 82/100\n",
            "3/3 [==============================] - 0s 17ms/step - loss: 0.1258 - mae: 0.2723 - mean_absolute_error: 0.2723 - val_loss: 0.2732 - val_mae: 0.4432 - val_mean_absolute_error: 0.4432\n",
            "Epoch 83/100\n",
            "3/3 [==============================] - 0s 23ms/step - loss: 0.1649 - mae: 0.3213 - mean_absolute_error: 0.3213 - val_loss: 0.2306 - val_mae: 0.4408 - val_mean_absolute_error: 0.4408\n",
            "Epoch 84/100\n",
            "3/3 [==============================] - 0s 18ms/step - loss: 0.1701 - mae: 0.3485 - mean_absolute_error: 0.3485 - val_loss: 0.1675 - val_mae: 0.3282 - val_mean_absolute_error: 0.3282\n",
            "Epoch 85/100\n",
            "3/3 [==============================] - 0s 18ms/step - loss: 0.1003 - mae: 0.2512 - mean_absolute_error: 0.2512 - val_loss: 0.1320 - val_mae: 0.3249 - val_mean_absolute_error: 0.3249\n",
            "Epoch 86/100\n",
            "3/3 [==============================] - 0s 18ms/step - loss: 0.1231 - mae: 0.2753 - mean_absolute_error: 0.2753 - val_loss: 0.0741 - val_mae: 0.2244 - val_mean_absolute_error: 0.2244\n",
            "Epoch 87/100\n",
            "3/3 [==============================] - 0s 17ms/step - loss: 0.1495 - mae: 0.3190 - mean_absolute_error: 0.3190 - val_loss: 0.1143 - val_mae: 0.2585 - val_mean_absolute_error: 0.2585\n",
            "Epoch 88/100\n",
            "3/3 [==============================] - 0s 20ms/step - loss: 0.1324 - mae: 0.2882 - mean_absolute_error: 0.2882 - val_loss: 0.0718 - val_mae: 0.2209 - val_mean_absolute_error: 0.2209\n",
            "Epoch 89/100\n",
            "3/3 [==============================] - 0s 16ms/step - loss: 0.0832 - mae: 0.2279 - mean_absolute_error: 0.2279 - val_loss: 0.0675 - val_mae: 0.1893 - val_mean_absolute_error: 0.1893\n",
            "Epoch 90/100\n",
            "3/3 [==============================] - 0s 16ms/step - loss: 0.0755 - mae: 0.2088 - mean_absolute_error: 0.2088 - val_loss: 0.0997 - val_mae: 0.2310 - val_mean_absolute_error: 0.2310\n",
            "Epoch 91/100\n",
            "3/3 [==============================] - 0s 19ms/step - loss: 0.1168 - mae: 0.2540 - mean_absolute_error: 0.2540 - val_loss: 0.1339 - val_mae: 0.3300 - val_mean_absolute_error: 0.3300\n",
            "Epoch 92/100\n",
            "3/3 [==============================] - 0s 21ms/step - loss: 0.1169 - mae: 0.2854 - mean_absolute_error: 0.2854 - val_loss: 0.1121 - val_mae: 0.2520 - val_mean_absolute_error: 0.2520\n",
            "Epoch 93/100\n",
            "3/3 [==============================] - 0s 17ms/step - loss: 0.0970 - mae: 0.2300 - mean_absolute_error: 0.2300 - val_loss: 0.0614 - val_mae: 0.2086 - val_mean_absolute_error: 0.2086\n",
            "Epoch 94/100\n",
            "3/3 [==============================] - 0s 19ms/step - loss: 0.0683 - mae: 0.2056 - mean_absolute_error: 0.2056 - val_loss: 0.0882 - val_mae: 0.2190 - val_mean_absolute_error: 0.2190\n",
            "Epoch 95/100\n",
            "3/3 [==============================] - 0s 18ms/step - loss: 0.0742 - mae: 0.2028 - mean_absolute_error: 0.2028 - val_loss: 0.0492 - val_mae: 0.1680 - val_mean_absolute_error: 0.1680\n",
            "Epoch 96/100\n",
            "3/3 [==============================] - 0s 17ms/step - loss: 0.0939 - mae: 0.2337 - mean_absolute_error: 0.2337 - val_loss: 0.1266 - val_mae: 0.3206 - val_mean_absolute_error: 0.3206\n",
            "Epoch 97/100\n",
            "3/3 [==============================] - 0s 19ms/step - loss: 0.1326 - mae: 0.3028 - mean_absolute_error: 0.3028 - val_loss: 0.0462 - val_mae: 0.1654 - val_mean_absolute_error: 0.1654\n",
            "Epoch 98/100\n",
            "3/3 [==============================] - 0s 16ms/step - loss: 0.0632 - mae: 0.1949 - mean_absolute_error: 0.1949 - val_loss: 0.0505 - val_mae: 0.1615 - val_mean_absolute_error: 0.1615\n",
            "Epoch 99/100\n",
            "3/3 [==============================] - 0s 15ms/step - loss: 0.0692 - mae: 0.1965 - mean_absolute_error: 0.1965 - val_loss: 0.1026 - val_mae: 0.2379 - val_mean_absolute_error: 0.2379\n",
            "Epoch 100/100\n",
            "3/3 [==============================] - 0s 20ms/step - loss: 0.0965 - mae: 0.2342 - mean_absolute_error: 0.2342 - val_loss: 0.0522 - val_mae: 0.1881 - val_mean_absolute_error: 0.1881\n"
          ]
        },
        {
          "output_type": "execute_result",
          "data": {
            "text/plain": [
              "<function matplotlib.pyplot.show(*args, **kw)>"
            ]
          },
          "metadata": {},
          "execution_count": 96
        },
        {
          "output_type": "display_data",
          "data": {
            "text/plain": [
              "<Figure size 432x288 with 1 Axes>"
            ],
            "image/png": "[encoded data removed]"
          },
          "metadata": {
            "needs_background": "light"
          }
        }
      ]
    },
    {
      "cell_type": "code",
      "source": [
        "acc = history.history['mean_absolute_error']\n",
        "val_acc = history.history['val_mean_absolute_error']\n",
        "plt.plot(epochs, acc, 'y', label='Training MAE')\n",
        "plt.plot(epochs, val_acc, 'r', label='Validation MAE')\n",
        "plt.title('Training and validation MAE')\n",
        "plt.xlabel('Epochs')\n",
        "plt.ylabel('Accuracy')\n",
        "plt.legend()\n",
        "plt.show"
      ],
      "metadata": {
        "colab": {
          "base_uri": "https://localhost:8080/",
          "height": 312
        },
        "id": "aTYw2RvDpbsE",
        "outputId": "0feb1e45-24e4-4c98-cf25-1732d573de41"
      },
      "execution_count": 97,
      "outputs": [
        {
          "output_type": "execute_result",
          "data": {
            "text/plain": [
              "<function matplotlib.pyplot.show(*args, **kw)>"
            ]
          },
          "metadata": {},
          "execution_count": 97
        },
        {
          "output_type": "display_data",
          "data": {
            "text/plain": [
              "<Figure size 432x288 with 1 Axes>"
            ],
            "image/png": "[encoded data removed]"
          },
          "metadata": {
            "needs_background": "light"
          }
        }
      ]
    },
    {
      "cell_type": "code",
      "source": [
        "############################################\n",
        "#Predict on test data\n",
        "predictions = model.predict(X_test)\n",
        "print(\"Predicted values are: \", predictions)\n",
        "print(\"Real values are: \", y_test)\n",
        "##############################################"
      ],
      "metadata": {
        "colab": {
          "base_uri": "https://localhost:8080/"
        },
        "id": "_e8Tmm8-l3S0",
        "outputId": "b7e2bde1-e63a-46a2-d50d-3443aa14c77f"
      },
      "execution_count": 91,
      "outputs": [
        {
          "output_type": "stream",
          "name": "stdout",
          "text": [
            "1/1 [==============================] - 0s 102ms/step\n",
            "Predicted values are:  [[0.24531302]\n",
            " [0.28461775]\n",
            " [0.29507384]\n",
            " [0.33586058]\n",
            " [0.9812692 ]\n",
            " [0.0513204 ]\n",
            " [0.1967996 ]\n",
            " [0.27252325]\n",
            " [0.14623961]\n",
            " [0.18887839]\n",
            " [0.23471388]\n",
            " [0.28216872]\n",
            " [0.1868814 ]\n",
            " [0.38309798]\n",
            " [0.16714224]\n",
            " [0.09777388]\n",
            " [0.1835607 ]\n",
            " [0.2932714 ]\n",
            " [0.20129523]\n",
            " [0.3293489 ]\n",
            " [0.15858397]\n",
            " [0.8165315 ]]\n",
            "Real values are:  [0.36  0.46  0.09  0.02  0.28  0.09  0.63  0.05  0.06  0.075 0.49  0.57\n",
            " 0.555 0.32  0.27  0.42  0.6   0.19  0.12  0.72  0.555 0.64 ]\n"
          ]
        }
      ]
    },
    {
      "cell_type": "code",
      "source": [
        "#Comparison with other models..\n",
        "#Neural network - from the current code\n",
        "mse_neural, mae_neural = model.evaluate(X_test, y_test)\n",
        "print('Mean squared error from neural net: ', mse_neural)\n",
        "print('Mean absolute error from neural net: ', mae_neural)"
      ],
      "metadata": {
        "colab": {
          "base_uri": "https://localhost:8080/"
        },
        "id": "wH001GItmJVJ",
        "outputId": "10225ae5-4f77-4764-8b38-45565e3d618d"
      },
      "execution_count": 93,
      "outputs": [
        {
          "output_type": "stream",
          "name": "stdout",
          "text": [
            "1/1 [==============================] - 0s 28ms/step - loss: 0.0850 - mae: 0.2441\n",
            "Mean squared error from neural net:  0.08500620722770691\n",
            "Mean absolute error from neural net:  0.24412846565246582\n"
          ]
        }
      ]
    },
    {
      "cell_type": "code",
      "source": [
        "#PLOT\n",
        "y12 = y_test\n",
        "plt.scatter(y12, predictions, color = 'red', label='NN')\n",
        "plt.xlabel('True')\n",
        "plt.ylabel('Predicted')\n",
        "\n",
        "x12 = y_test\n",
        "plt.plot(x12, x12, label='ideal',color = 'g')\n",
        "plt.legend()\n",
        "plt.title('NN SIB MHD Dose')"
      ],
      "metadata": {
        "colab": {
          "base_uri": "https://localhost:8080/",
          "height": 312
        },
        "id": "XQL9jtWmm-qo",
        "outputId": "a5f95b3e-d5c5-4f47-98b5-85912f4adcd1"
      },
      "execution_count": 94,
      "outputs": [
        {
          "output_type": "execute_result",
          "data": {
            "text/plain": [
              "Text(0.5, 1.0, 'NN SIB MHD Dose')"
            ]
          },
          "metadata": {},
          "execution_count": 94
        },
        {
          "output_type": "display_data",
          "data": {
            "text/plain": [
              "<Figure size 432x288 with 1 Axes>"
            ],
            "image/png": "[encoded data removed]"
          },
          "metadata": {
            "needs_background": "light"
          }
        }
      ]
    },
    {
      "cell_type": "markdown",
      "metadata": {
        "id": "Drx5cAsR1s_H"
      },
      "source": [
        "**CROSS VALIDATION K FOLD ALL MODELS COMPARE**"
      ]
    },
    {
      "cell_type": "code",
      "execution_count": 44,
      "metadata": {
        "id": "x24GQs4Z2KIA"
      },
      "outputs": [],
      "source": [
        "from sklearn.model_selection import cross_val_score"
      ]
    },
    {
      "cell_type": "code",
      "execution_count": 45,
      "metadata": {
        "colab": {
          "base_uri": "https://localhost:8080/"
        },
        "id": "Uv2OnXAd1aut",
        "outputId": "2141ac71-e9c1-4f4d-cd85-12847a2ffd3e"
      },
      "outputs": [
        {
          "output_type": "stream",
          "name": "stdout",
          "text": [
            "Fitting 5 folds for each of 100 candidates, totalling 500 fits\n",
            "Fitting 5 folds for each of 100 candidates, totalling 500 fits\n",
            "Fitting 5 folds for each of 100 candidates, totalling 500 fits\n",
            "Fitting 5 folds for each of 100 candidates, totalling 500 fits\n",
            "Fitting 5 folds for each of 100 candidates, totalling 500 fits\n",
            "SVR linear = [0.71759204 0.6343333  0.63372998 0.68029835 0.74844384] mean 0.6828795001041609\n",
            "SVR poly = [-0.19803381  0.28121451  0.23518255 -0.0535701   0.12844095] mean 0.07864682098381792\n",
            "SVR rbf = [-0.1493197   0.14189505  0.19280805 -0.00679275  0.1413423 ] mean 0.0639865876837407\n",
            "linear regression = [0.7096407  0.69422556 0.6021169  0.65924692 0.79486581] mean 0.6920191798284645\n",
            "knn = [-0.2108363  -0.01017113 -0.13634315 -0.18805488  0.15104566] mean -0.07887195632809536\n",
            "dec tree = [0.68968092 0.40944078 0.04333433 0.0603201  0.66325778] mean 0.3732067834035625\n",
            "random forest = [0.843088   0.7017846  0.65483368 0.6321796  0.87537265] mean 0.7414517033744201\n",
            "ridge = [0.71015379 0.69414896 0.60859997 0.664303   0.79765861] mean 0.6949728678798113\n",
            "lasso = [-0.20065996  0.17818015  0.20452372 -0.01364851  0.08215928] mean 0.05011093618741811\n",
            "random forest2 = [0.81948587 0.6884722  0.65297478 0.68427067 0.84366334] mean 0.7377733739561261\n",
            "xgbr = [0.83876137 0.67272832 0.67930348 0.56016797 0.83636642] mean 0.7174655129390415\n"
          ]
        }
      ],
      "source": [
        "\n",
        "scores = cross_val_score(clf, X, y, cv=5)\n",
        "scores1 = cross_val_score(poly, X, y, cv=5)\n",
        "scores2 = cross_val_score(rbf, X, y, cv=5)\n",
        "scores3 = cross_val_score(linear, X, y, cv=5)\n",
        "scores4 = cross_val_score(knn, X, y, cv=5)\n",
        "scores5 = cross_val_score(dt, X, y, cv=5)\n",
        "scores6 = cross_val_score(rf, X, y, cv=5)\n",
        "scores7 = cross_val_score(rr, X, y, cv=5)\n",
        "scores8 = cross_val_score(la, X, y, cv=5)\n",
        "scores9 = cross_val_score(rf2_random, X, y, cv=5)\n",
        "scores10 = cross_val_score(xgbr, X, y, cv=5)\n",
        "print('SVR linear =', scores, 'mean', np.mean(scores))\n",
        "print('SVR poly =', scores1, 'mean', np.mean(scores1))\n",
        "print('SVR rbf =', scores2, 'mean', np.mean(scores2))\n",
        "print('linear regression =', scores3, 'mean', np.mean(scores3))\n",
        "print('knn =', scores4, 'mean', np.mean(scores4))\n",
        "print('dec tree =', scores5, 'mean', np.mean(scores5))\n",
        "print('random forest =', scores6, 'mean', np.mean(scores6))\n",
        "print('ridge =', scores7, 'mean', np.mean(scores7))\n",
        "print('lasso =', scores8, 'mean', np.mean(scores8))\n",
        "print('random forest2 =', scores9, 'mean', np.mean(scores9))\n",
        "print('xgbr =', scores10, 'mean', np.mean(scores10))"
      ]
    },
    {
      "cell_type": "code",
      "execution_count": 46,
      "metadata": {
        "colab": {
          "base_uri": "https://localhost:8080/"
        },
        "id": "StcsoGuWDNIK",
        "outputId": "3c1fff5a-c17e-4856-8986-776965c4c0cc"
      },
      "outputs": [
        {
          "output_type": "stream",
          "name": "stdout",
          "text": [
            "###########################\u001b[1m Cross_val_score, cv =5 ########################################\n",
            "\u001b[0m\n",
            "SVR linear = [0.71759204 0.6343333  0.63372998 0.68029835 0.74844384] mean 0.6828795001041609\n",
            "SVR poly = [-0.19803381  0.28121451  0.23518255 -0.0535701   0.12844095] mean 0.07864682098381792\n",
            "SVR rbf = [-0.1493197   0.14189505  0.19280805 -0.00679275  0.1413423 ] mean 0.0639865876837407\n",
            "linear regression = [0.7096407  0.69422556 0.6021169  0.65924692 0.79486581] mean 0.6920191798284645\n",
            "knn = [-0.2108363  -0.01017113 -0.13634315 -0.18805488  0.15104566] mean -0.07887195632809536\n",
            "dec tree = [0.68968092 0.40944078 0.04333433 0.0603201  0.66325778] mean 0.3732067834035625\n",
            "\u001b[1mrandom forest = [0.843088   0.7017846  0.65483368 0.6321796  0.87537265] mean 0.7414517033744201\n",
            "\u001b[0mridge = [0.71015379 0.69414896 0.60859997 0.664303   0.79765861] mean 0.6949728678798113\n",
            "lasso = [-0.20065996  0.17818015  0.20452372 -0.01364851  0.08215928] mean 0.05011093618741811\n",
            "random forest2 = [0.81948587 0.6884722  0.65297478 0.68427067 0.84366334] mean 0.7377733739561261\n",
            "xgbr = [0.83876137 0.67272832 0.67930348 0.56016797 0.83636642] mean 0.7174655129390415\n"
          ]
        }
      ],
      "source": [
        "\n",
        "print('###########################' + '\\033[1m' + ' Cross_val_score, cv =5 ' + '########################################')\n",
        "print ('\\033[0m') # NO BOLD\n",
        "print('SVR linear =', scores, 'mean', np.mean(scores))\n",
        "print('SVR poly =', scores1, 'mean', np.mean(scores1))\n",
        "print('SVR rbf =', scores2, 'mean', np.mean(scores2))\n",
        "print('linear regression =', scores3, 'mean', np.mean(scores3))\n",
        "print('knn =', scores4, 'mean', np.mean(scores4))\n",
        "print('dec tree =', scores5, 'mean', np.mean(scores5))\n",
        "print('\\033[1m' +'random forest =', scores6, 'mean', np.mean(scores6))\n",
        "print('\\033[0m' + 'ridge =', scores7, 'mean', np.mean(scores7))\n",
        "print('lasso =', scores8, 'mean', np.mean(scores8))\n",
        "print('random forest2 =', scores9, 'mean', np.mean(scores9))\n",
        "print('xgbr =', scores10, 'mean', np.mean(scores10))"
      ]
    },
    {
      "cell_type": "markdown",
      "metadata": {
        "id": "QU9VQadMe7Uc"
      },
      "source": [
        "# SVR Linear Regression Model Plots"
      ]
    },
    {
      "cell_type": "code",
      "execution_count": 47,
      "metadata": {
        "colab": {
          "base_uri": "https://localhost:8080/",
          "height": 312
        },
        "id": "VdgOKxeOe7Uc",
        "outputId": "b93f8ca5-6eab-4fc6-ba60-6c730b0938eb"
      },
      "outputs": [
        {
          "output_type": "execute_result",
          "data": {
            "text/plain": [
              "Text(0, 0.5, 'Frequency')"
            ]
          },
          "metadata": {},
          "execution_count": 47
        },
        {
          "output_type": "display_data",
          "data": {
            "text/plain": [
              "<Figure size 432x288 with 1 Axes>"
            ],
            "image/png": "[encoded data removed]"
          },
          "metadata": {
            "needs_background": "light"
          }
        }
      ],
      "source": [
        "#plot histogram of MHD SIB data values\n",
        "ax = df.hist('MHD SIB')\n",
        "plt.xlabel('Mean Heart Dose (Gy)')\n",
        "plt.ylabel('Frequency')"
      ]
    },
    {
      "cell_type": "code",
      "execution_count": 48,
      "metadata": {
        "colab": {
          "base_uri": "https://localhost:8080/",
          "height": 312
        },
        "id": "kzgPFDb10rId",
        "outputId": "de81d0c9-ad65-42a4-c450-0be7142e75a5"
      },
      "outputs": [
        {
          "output_type": "execute_result",
          "data": {
            "text/plain": [
              "<matplotlib.legend.Legend at 0x7f572513cdd0>"
            ]
          },
          "metadata": {},
          "execution_count": 48
        },
        {
          "output_type": "display_data",
          "data": {
            "text/plain": [
              "<Figure size 432x288 with 1 Axes>"
            ],
            "image/png": "[encoded data removed]"
          },
          "metadata": {
            "needs_background": "light"
          }
        }
      ],
      "source": [
        "#scatter\n",
        "#x = df.shape[0]\n",
        "test_size = len(X_test) + len(X_train)  #e.g 13 is size of the test samples\n",
        "#test_size = len(X_test + X_train)  #e.g 13 is size of the test samples\n",
        "x = list(range(1, test_size+1))\n",
        "plt.scatter(x, y, label='True', color = 'red')\n",
        "plt.title('SIB MHD Dose')\n",
        "plt.xlabel('Test Case')\n",
        "plt.ylabel('SIB MHD Gy')\n",
        "plt.xticks(np.arange(test_size+1), map(str, range(test_size + 1)))  # Set text labels\n",
        "\n",
        "plt.legend()"
      ]
    },
    {
      "cell_type": "code",
      "execution_count": 49,
      "metadata": {
        "colab": {
          "base_uri": "https://localhost:8080/"
        },
        "id": "1vqG9tdee7Ud",
        "outputId": "2628e85e-bc33-4ed2-f52b-ea71859bc5a5"
      },
      "outputs": [
        {
          "output_type": "stream",
          "name": "stdout",
          "text": [
            "    Actual  Predicted SVR  Difference SVR linear  Predicted random forest  \\\n",
            "0    0.000      -0.060624              -0.060624                  0.01820   \n",
            "1    0.080       0.203832               0.123832                  0.14420   \n",
            "2    0.570       0.468448              -0.101552                  0.45405   \n",
            "3    0.570       0.526595              -0.043405                  0.57640   \n",
            "4    0.190      -0.047968              -0.237968                  0.09835   \n",
            "5    0.285       0.495608               0.210608                  0.72655   \n",
            "6    0.080      -0.180415              -0.260415                  0.04455   \n",
            "7    0.440       0.554371               0.114371                  0.53080   \n",
            "8    0.165       0.199113               0.034113                  0.16570   \n",
            "9    0.080       0.144017               0.064017                  0.16260   \n",
            "10   0.450       0.542305               0.092305                  0.49070   \n",
            "11   0.120       0.123232               0.003232                  0.18495   \n",
            "12   0.470       0.473599               0.003599                  0.37755   \n",
            "13   0.165       0.245583               0.080583                  0.18290   \n",
            "14   0.320       0.235547              -0.084453                  0.16995   \n",
            "15   0.300       0.327966               0.027966                  0.30025   \n",
            "16   0.420       0.353272              -0.066728                  0.30970   \n",
            "17   0.360       0.432096               0.072096                  0.40940   \n",
            "18   0.045      -0.036376              -0.081376                  0.00895   \n",
            "19   0.530       0.525601              -0.004399                  0.67455   \n",
            "20   0.490       0.322416              -0.167584                  0.30910   \n",
            "21   0.690       0.425528              -0.264472                  0.33230   \n",
            "\n",
            "    Difference random forest  \n",
            "0                    0.01820  \n",
            "1                    0.06420  \n",
            "2                   -0.11595  \n",
            "3                    0.00640  \n",
            "4                   -0.09165  \n",
            "5                    0.44155  \n",
            "6                   -0.03545  \n",
            "7                    0.09080  \n",
            "8                    0.00070  \n",
            "9                    0.08260  \n",
            "10                   0.04070  \n",
            "11                   0.06495  \n",
            "12                  -0.09245  \n",
            "13                   0.01790  \n",
            "14                  -0.15005  \n",
            "15                   0.00025  \n",
            "16                  -0.11030  \n",
            "17                   0.04940  \n",
            "18                  -0.03605  \n",
            "19                   0.14455  \n",
            "20                  -0.18090  \n",
            "21                  -0.35770  \n"
          ]
        }
      ],
      "source": [
        "table = pd.DataFrame({'Actual': y_test, 'Predicted SVR': y_predict, 'Difference SVR linear': y_predict - y_test, 'Predicted random forest': y_rf_predict, 'Difference random forest': y_rf_predict - y_test})\n",
        "print(table)"
      ]
    },
    {
      "cell_type": "code",
      "execution_count": 50,
      "metadata": {
        "colab": {
          "base_uri": "https://localhost:8080/",
          "height": 340
        },
        "id": "Z8mrs81De7Ud",
        "outputId": "d785ebe5-f12f-49d0-f100-935b895d0db0"
      },
      "outputs": [
        {
          "output_type": "stream",
          "name": "stderr",
          "text": [
            "/usr/local/lib/python3.7/dist-packages/seaborn/distributions.py:2619: FutureWarning: `distplot` is a deprecated function and will be removed in a future version. Please adapt your code to use either `displot` (a figure-level function with similar flexibility) or `histplot` (an axes-level function for histograms).\n",
            "  warnings.warn(msg, FutureWarning)\n"
          ]
        },
        {
          "output_type": "execute_result",
          "data": {
            "text/plain": [
              "<matplotlib.axes._subplots.AxesSubplot at 0x7f57246c7c90>"
            ]
          },
          "metadata": {},
          "execution_count": 50
        },
        {
          "output_type": "display_data",
          "data": {
            "text/plain": [
              "<Figure size 432x288 with 1 Axes>"
            ],
            "image/png": "[encoded data removed]"
          },
          "metadata": {
            "needs_background": "light"
          }
        }
      ],
      "source": [
        "sns.distplot(y_predict - y_test) ##distribution of absolute differences between SVR linear y predict minus y test"
      ]
    },
    {
      "cell_type": "code",
      "execution_count": 51,
      "metadata": {
        "colab": {
          "base_uri": "https://localhost:8080/",
          "height": 337
        },
        "id": "iYcnwyAfGjPI",
        "outputId": "43753608-9de9-4c20-e5f0-deac8caf7365"
      },
      "outputs": [
        {
          "output_type": "stream",
          "name": "stderr",
          "text": [
            "/usr/local/lib/python3.7/dist-packages/seaborn/distributions.py:2619: FutureWarning: `distplot` is a deprecated function and will be removed in a future version. Please adapt your code to use either `displot` (a figure-level function with similar flexibility) or `histplot` (an axes-level function for histograms).\n",
            "  warnings.warn(msg, FutureWarning)\n"
          ]
        },
        {
          "output_type": "execute_result",
          "data": {
            "text/plain": [
              "<matplotlib.axes._subplots.AxesSubplot at 0x7f5724640a50>"
            ]
          },
          "metadata": {},
          "execution_count": 51
        },
        {
          "output_type": "display_data",
          "data": {
            "text/plain": [
              "<Figure size 432x288 with 1 Axes>"
            ],
            "image/png": "[encoded data removed]"
          },
          "metadata": {
            "needs_background": "light"
          }
        }
      ],
      "source": [
        "sns.distplot(y_rf_predict - y_test) ##distribution of absolute differences between random forest y predict minus y test"
      ]
    },
    {
      "cell_type": "code",
      "execution_count": 52,
      "metadata": {
        "colab": {
          "base_uri": "https://localhost:8080/"
        },
        "id": "ocgm-B9ie7Ud",
        "outputId": "4d1e7614-07f3-49bf-de59-09de2f8b357e"
      },
      "outputs": [
        {
          "output_type": "stream",
          "name": "stdout",
          "text": [
            "0.6748773486916925\n"
          ]
        }
      ],
      "source": [
        "#example to predict a single case inputting the x scaled features in model\n",
        "#user_input = [[3.4, 1.93, 2.9, 25.48, 8.3, 0, 1, 1, 0, 0, 1, 0, 0, 0, 0, 0, 0]]  ##raw input data by user\n",
        "user_input = [[1.0, 13.0, 5.0, 3.5, 100.0, 500.0, 6.0, 1, 0, 0, 1]]  ##raw input data by user\n",
        "user_test = scaler.transform(user_input)\n",
        "\n",
        "guess = clf.predict(user_test)\n",
        "print(guess[0])"
      ]
    },
    {
      "cell_type": "code",
      "execution_count": 53,
      "metadata": {
        "colab": {
          "base_uri": "https://localhost:8080/"
        },
        "id": "7EvGkXW5TAop",
        "outputId": "9cd9b372-8aab-4fa0-a8be-b3382194279f"
      },
      "outputs": [
        {
          "output_type": "stream",
          "name": "stdout",
          "text": [
            "0.1842499999999999\n"
          ]
        }
      ],
      "source": [
        "user_input = [[5.89, 16.5, 11.5, 2.9, 54.58, 613.86, 13.1, 1, 0, 1, 0]]  ##raw input data by user\n",
        "user_test = scaler.transform(user_input)\n",
        "\n",
        "guess = rf.predict(user_test)\n",
        "print(guess[0])"
      ]
    },
    {
      "cell_type": "code",
      "execution_count": 54,
      "metadata": {
        "colab": {
          "base_uri": "https://localhost:8080/",
          "height": 312
        },
        "id": "8PHuBmBhe7Ue",
        "outputId": "b0f67af9-4af0-4bc0-c37b-8020bcfaaa8d"
      },
      "outputs": [
        {
          "output_type": "execute_result",
          "data": {
            "text/plain": [
              "<matplotlib.legend.Legend at 0x7f5724557050>"
            ]
          },
          "metadata": {},
          "execution_count": 54
        },
        {
          "output_type": "display_data",
          "data": {
            "text/plain": [
              "<Figure size 432x288 with 1 Axes>"
            ],
            "image/png": "[encoded data removed]"
          },
          "metadata": {
            "needs_background": "light"
          }
        }
      ],
      "source": [
        "##plot test vs predict\n",
        "\n",
        "test_size = len(X_test)  #e.g 13 is size of the test samples\n",
        "\n",
        "#x = [1, 2, 3, 4, 5, 6, 7, 8, 9, 10]\n",
        "x = list(range(1, test_size+1))\n",
        "\n",
        "\n",
        "y1 = y_test  ##true values of test y\n",
        "y2 = y_predict  #predicted values model y\n",
        "plt.scatter(x, y1, label='True', color = 'red')\n",
        "plt.scatter(x, y2, label='SVR Predicted', color = 'blue')\n",
        "plt.title('Linear SVR SIB MHD Dose')\n",
        "plt.xlabel('Test Case')\n",
        "plt.ylabel('SIB MHD Gy')\n",
        "#plt.xticks(np.arange(test_size+1), ['0','1', '2', '3','4', '5', '6','7', '8', '9', '10'])  # Set text labels\n",
        "plt.xticks(np.arange(test_size+1), map(str, range(test_size + 1)))  # Set text labels\n",
        "\n",
        "plt.legend()\n"
      ]
    },
    {
      "cell_type": "code",
      "execution_count": 55,
      "metadata": {
        "colab": {
          "base_uri": "https://localhost:8080/",
          "height": 312
        },
        "id": "4jc1QFp88Zrx",
        "outputId": "0e83a324-9a49-41b9-916b-e6a70596312c"
      },
      "outputs": [
        {
          "output_type": "execute_result",
          "data": {
            "text/plain": [
              "<matplotlib.legend.Legend at 0x7f5724513d90>"
            ]
          },
          "metadata": {},
          "execution_count": 55
        },
        {
          "output_type": "display_data",
          "data": {
            "text/plain": [
              "<Figure size 432x288 with 1 Axes>"
            ],
            "image/png": "[encoded data removed]"
          },
          "metadata": {
            "needs_background": "light"
          }
        }
      ],
      "source": [
        "#rf plot\n",
        "\n",
        "y1 = y_test  ##true values of test y\n",
        "y2 = y_rf_predict  #predicted values model y - random forest\n",
        "plt.scatter(x, y1, label='True', color = 'red')\n",
        "plt.scatter(x, y2, label='RF Predicted', color = 'blue')\n",
        "plt.title('Random Forest SIB MHD Dose')\n",
        "plt.xlabel('Test Case')\n",
        "plt.ylabel('SIB MHD Gy')\n",
        "#plt.xticks(np.arange(test_size+1), ['0','1', '2', '3','4', '5', '6','7', '8', '9', '10'])  # Set text labels\n",
        "plt.xticks(np.arange(test_size+1), map(str, range(test_size + 1)))  # Set text labels\n",
        "\n",
        "plt.legend()"
      ]
    },
    {
      "cell_type": "code",
      "execution_count": 56,
      "metadata": {
        "colab": {
          "base_uri": "https://localhost:8080/"
        },
        "id": "fS_xRo_u9JBF",
        "outputId": "a911c2c7-b9a8-43de-efa2-bb32e82acc6b"
      },
      "outputs": [
        {
          "output_type": "execute_result",
          "data": {
            "text/plain": [
              "array([0.   , 0.08 , 0.57 , 0.57 , 0.19 , 0.285, 0.08 , 0.44 , 0.165,\n",
              "       0.08 , 0.45 , 0.12 , 0.47 , 0.165, 0.32 , 0.3  , 0.42 , 0.36 ,\n",
              "       0.045, 0.53 , 0.49 , 0.69 ])"
            ]
          },
          "metadata": {},
          "execution_count": 56
        }
      ],
      "source": [
        "y_test"
      ]
    },
    {
      "cell_type": "code",
      "execution_count": 57,
      "metadata": {
        "colab": {
          "base_uri": "https://localhost:8080/",
          "height": 312
        },
        "id": "_sJhNovpJ1KV",
        "outputId": "339178ac-da64-4c10-b7c8-4a78b306e2b7"
      },
      "outputs": [
        {
          "output_type": "execute_result",
          "data": {
            "text/plain": [
              "Text(0.5, 1.0, 'Random forest SIB MHD Dose')"
            ]
          },
          "metadata": {},
          "execution_count": 57
        },
        {
          "output_type": "display_data",
          "data": {
            "text/plain": [
              "<Figure size 432x288 with 1 Axes>"
            ],
            "image/png": "[encoded data removed]"
          },
          "metadata": {
            "needs_background": "light"
          }
        }
      ],
      "source": [
        "#RANDOM FOREST PLOT\n",
        "#plot predicted vs true values\n",
        "plt.scatter(y1, y2, color = 'red', label='random forest')\n",
        "plt.xlabel('True')\n",
        "plt.ylabel('Predicted')\n",
        "\n",
        "x1 = y_test\n",
        "plt.plot(x1, x1, label='ideal',color = 'g')\n",
        "plt.legend()\n",
        "plt.title('Random forest SIB MHD Dose')"
      ]
    },
    {
      "cell_type": "code",
      "execution_count": 58,
      "metadata": {
        "colab": {
          "base_uri": "https://localhost:8080/",
          "height": 312
        },
        "id": "k543eFJPTGNR",
        "outputId": "16ca1d87-45d9-4ac9-9159-a472dab6f2cf"
      },
      "outputs": [
        {
          "output_type": "execute_result",
          "data": {
            "text/plain": [
              "Text(0.5, 1.0, 'SVR Linear SIB MHD Dose')"
            ]
          },
          "metadata": {},
          "execution_count": 58
        },
        {
          "output_type": "display_data",
          "data": {
            "text/plain": [
              "<Figure size 432x288 with 1 Axes>"
            ],
            "image/png": "[encoded data removed]"
          },
          "metadata": {
            "needs_background": "light"
          }
        }
      ],
      "source": [
        "#SVR LINEAR PLOT\n",
        "#plot predicted vs true values\n",
        "plt.scatter(y1, y_predict, color = 'red', label='SVR Linear')\n",
        "plt.xlabel('True')\n",
        "plt.ylabel('Predicted')\n",
        "\n",
        "x1 = y_test\n",
        "plt.plot(x1, x1, label='ideal',color = 'g')\n",
        "plt.legend()\n",
        "plt.title('SVR Linear SIB MHD Dose')"
      ]
    },
    {
      "cell_type": "code",
      "execution_count": 59,
      "metadata": {
        "colab": {
          "base_uri": "https://localhost:8080/",
          "height": 312
        },
        "id": "P5KE6bhLe7Ue",
        "outputId": "12b99558-6ecd-49c2-a805-102fe5e2ad53"
      },
      "outputs": [
        {
          "output_type": "execute_result",
          "data": {
            "text/plain": [
              "Text(0.5, 1.0, 'Linear SVR vs forest SIB MHD Dose')"
            ]
          },
          "metadata": {},
          "execution_count": 59
        },
        {
          "output_type": "display_data",
          "data": {
            "text/plain": [
              "<Figure size 432x288 with 1 Axes>"
            ],
            "image/png": "[encoded data removed]"
          },
          "metadata": {
            "needs_background": "light"
          }
        }
      ],
      "source": [
        "#plot predicted vs true values\n",
        "x1 = y_test    ##true values of y in test\n",
        "x2 = y_predict   ##predicted values of y in test\n",
        "##plt.scatter(x1, x2, color = 'red', label='SVR linear')\n",
        "plt.xlabel('True')\n",
        "plt.ylabel('Predicted')\n",
        "\n",
        "#plot random forest\n",
        "x3= y_rf_predict\n",
        "plt.scatter(x3, x1, color = 'green', label='forest')\n",
        "\n",
        "#plot best fit line for data\n",
        "#plt.plot(np.unique(x1), np.poly1d(np.polyfit(x1, x2, 1))(np.unique(x1)), label='best fit')\n",
        "plt.plot(x1, x1, label='ideal',color = 'g')\n",
        "plt.legend()\n",
        "plt.title('Linear SVR vs forest SIB MHD Dose')\n"
      ]
    },
    {
      "cell_type": "code",
      "execution_count": 60,
      "metadata": {
        "colab": {
          "base_uri": "https://localhost:8080/",
          "height": 367
        },
        "id": "B19Yvclze7Ue",
        "outputId": "62f49d23-bb8d-468e-af9a-6c2a52846ecb"
      },
      "outputs": [
        {
          "output_type": "execute_result",
          "data": {
            "text/plain": [
              "<matplotlib.lines.Line2D at 0x7f5724224890>"
            ]
          },
          "metadata": {},
          "execution_count": 60
        },
        {
          "output_type": "display_data",
          "data": {
            "text/plain": [
              "<Figure size 720x360 with 1 Axes>"
            ],
            "image/png": "[encoded data removed]"
          },
          "metadata": {
            "needs_background": "light"
          }
        }
      ],
      "source": [
        "#plot barchart of the 10 test case differences between predicted - actual. also added in if we just 0.3Gy for all predictions\n",
        "x = list(range(1, test_size+1))\n",
        "y = y_predict - y_test \n",
        "plt.figure(figsize=(10,5))\n",
        "plt.bar(x, y, label='SVR Linear',color='green') #model plot\n",
        "\n",
        "\n",
        "plt.xlabel('Test Case')\n",
        "plt.ylabel('MHD Diff(Pred-True)')\n",
        "plt.title('SIB MHD Dose')\n",
        "\n",
        "\n",
        "plt.xticks(np.arange(test_size+1), map(str, range(test_size + 1)))  # Set text labels\n",
        "plt.legend(loc='best')\n",
        "plt.axhline(0.5,c=(.5,.5,.5),ls='--')\n",
        "plt.axhline(-0.5,c=(.5,.5,.5),ls='--')\n",
        "\n",
        "\n"
      ]
    },
    {
      "cell_type": "code",
      "execution_count": 61,
      "metadata": {
        "colab": {
          "base_uri": "https://localhost:8080/",
          "height": 350
        },
        "id": "Njs9jdiXe7Ue",
        "outputId": "b88dc429-1dcb-4aaf-d208-15246a276f51"
      },
      "outputs": [
        {
          "output_type": "display_data",
          "data": {
            "text/plain": [
              "<Figure size 720x360 with 1 Axes>"
            ],
            "image/png": "[encoded data removed]"
          },
          "metadata": {
            "needs_background": "light"
          }
        }
      ],
      "source": [
        "# Numbers of pairs of bars you want\n",
        "N = test_size\n",
        "\n",
        "# Data on X-axis\n",
        "\n",
        "# Specify the values of blue bars (height)\n",
        "green_bar = y_predict - y_test   #model predictions minus test\n",
        "# Specify the values of orange bars (height)\n",
        "orange_bar = 0.3 - y_test  ##this is using the median 0.3Gy for all predictions minus test to see how it compares to Model\n",
        "\n",
        "# Position of bars on x-axis\n",
        "ind = np.arange(N)\n",
        "\n",
        "# Figure size\n",
        "plt.figure(figsize=(10,5))\n",
        "\n",
        "# Width of a bar \n",
        "width = 0.3       \n",
        "\n",
        "# Plotting\n",
        "plt.bar(ind, green_bar , width,color='green', label='SVR Lin Model')\n",
        "plt.bar(ind + width, orange_bar, width,color='orange', label='0.3Gy pred')\n",
        "\n",
        "plt.xlabel('Test Case')\n",
        "plt.ylabel('MHD Diff(Pred-True)')\n",
        "plt.title('SIB MHD Dose')\n",
        "\n",
        "plt.axhline(0.5,c=(.5,.5,.5),ls='--')\n",
        "plt.axhline(-0.5,c=(.5,.5,.5),ls='--')\n",
        "\n",
        "# xticks() set in middle of bars and starts at 1 and end at test size+1\n",
        "plt.xticks(ind + width / 2, (range(1,test_size+1)))\n",
        "\n",
        "\n",
        "\n",
        "# Finding the best position for legends and putting it\n",
        "plt.legend(loc='best')\n",
        "plt.show()"
      ]
    },
    {
      "cell_type": "markdown",
      "metadata": {
        "id": "LZ2vdrmae7Uf"
      },
      "source": [
        "# Linear Regression Model - Feature Selection Importance before test model"
      ]
    },
    {
      "cell_type": "code",
      "execution_count": 62,
      "metadata": {
        "colab": {
          "base_uri": "https://localhost:8080/",
          "height": 206
        },
        "id": "M5elpa1apzTH",
        "outputId": "dcff89e2-de54-463c-f95c-2a3654b978ad"
      },
      "outputs": [
        {
          "output_type": "execute_result",
          "data": {
            "text/plain": [
              "   MHD SIB  Min_distance  Max_distance  Average_distance  OL_Length  \\\n",
              "0     0.47          2.38         12.00              7.50        2.8   \n",
              "1     0.33          2.97         17.47             10.35        4.3   \n",
              "2     0.43          7.90         17.56             12.42        4.1   \n",
              "3     0.06          7.55         16.97             12.09        1.7   \n",
              "4     0.57          3.26         15.82             10.20        4.9   \n",
              "\n",
              "   PTVp_4800 vol  Heart vol  PTVp_4800 center to Heart center  Machine_E  \\\n",
              "0          25.48     454.59                               8.3          0   \n",
              "1          51.34     658.57                              12.0          0   \n",
              "2         106.55     520.27                              14.5          1   \n",
              "3          29.76     508.28                              13.0          0   \n",
              "4          64.62     800.18                              12.8          1   \n",
              "\n",
              "   Machine_V  PTVp_4800 center above Heart_no  \\\n",
              "0          1                                1   \n",
              "1          1                                1   \n",
              "2          0                                1   \n",
              "3          1                                0   \n",
              "4          0                                1   \n",
              "\n",
              "   PTVp_4800 center above Heart_yes  \n",
              "0                                 0  \n",
              "1                                 0  \n",
              "2                                 0  \n",
              "3                                 1  \n",
              "4                                 0  "
            ],
            "text/html": [
              "\n",
              "  <div id=\"df-1d81fdeb-04a3-49cc-83b5-d969fe7be3c8\">\n",
              "    <div class=\"colab-df-container\">\n",
              "      <div>\n",
              "<style scoped>\n",
              "    .dataframe tbody tr th:only-of-type {\n",
              "        vertical-align: middle;\n",
              "    }\n",
              "\n",
              "    .dataframe tbody tr th {\n",
              "        vertical-align: top;\n",
              "    }\n",
              "\n",
              "    .dataframe thead th {\n",
              "        text-align: right;\n",
              "    }\n",
              "</style>\n",
              "<table border=\"1\" class=\"dataframe\">\n",
              "  <thead>\n",
              "    <tr style=\"text-align: right;\">\n",
              "      <th></th>\n",
              "      <th>MHD SIB</th>\n",
              "      <th>Min_distance</th>\n",
              "      <th>Max_distance</th>\n",
              "      <th>Average_distance</th>\n",
              "      <th>OL_Length</th>\n",
              "      <th>PTVp_4800 vol</th>\n",
              "      <th>Heart vol</th>\n",
              "      <th>PTVp_4800 center to Heart center</th>\n",
              "      <th>Machine_E</th>\n",
              "      <th>Machine_V</th>\n",
              "      <th>PTVp_4800 center above Heart_no</th>\n",
              "      <th>PTVp_4800 center above Heart_yes</th>\n",
              "    </tr>\n",
              "  </thead>\n",
              "  <tbody>\n",
              "    <tr>\n",
              "      <th>0</th>\n",
              "      <td>0.47</td>\n",
              "      <td>2.38</td>\n",
              "      <td>12.00</td>\n",
              "      <td>7.50</td>\n",
              "      <td>2.8</td>\n",
              "      <td>25.48</td>\n",
              "      <td>454.59</td>\n",
              "      <td>8.3</td>\n",
              "      <td>0</td>\n",
              "      <td>1</td>\n",
              "      <td>1</td>\n",
              "      <td>0</td>\n",
              "    </tr>\n",
              "    <tr>\n",
              "      <th>1</th>\n",
              "      <td>0.33</td>\n",
              "      <td>2.97</td>\n",
              "      <td>17.47</td>\n",
              "      <td>10.35</td>\n",
              "      <td>4.3</td>\n",
              "      <td>51.34</td>\n",
              "      <td>658.57</td>\n",
              "      <td>12.0</td>\n",
              "      <td>0</td>\n",
              "      <td>1</td>\n",
              "      <td>1</td>\n",
              "      <td>0</td>\n",
              "    </tr>\n",
              "    <tr>\n",
              "      <th>2</th>\n",
              "      <td>0.43</td>\n",
              "      <td>7.90</td>\n",
              "      <td>17.56</td>\n",
              "      <td>12.42</td>\n",
              "      <td>4.1</td>\n",
              "      <td>106.55</td>\n",
              "      <td>520.27</td>\n",
              "      <td>14.5</td>\n",
              "      <td>1</td>\n",
              "      <td>0</td>\n",
              "      <td>1</td>\n",
              "      <td>0</td>\n",
              "    </tr>\n",
              "    <tr>\n",
              "      <th>3</th>\n",
              "      <td>0.06</td>\n",
              "      <td>7.55</td>\n",
              "      <td>16.97</td>\n",
              "      <td>12.09</td>\n",
              "      <td>1.7</td>\n",
              "      <td>29.76</td>\n",
              "      <td>508.28</td>\n",
              "      <td>13.0</td>\n",
              "      <td>0</td>\n",
              "      <td>1</td>\n",
              "      <td>0</td>\n",
              "      <td>1</td>\n",
              "    </tr>\n",
              "    <tr>\n",
              "      <th>4</th>\n",
              "      <td>0.57</td>\n",
              "      <td>3.26</td>\n",
              "      <td>15.82</td>\n",
              "      <td>10.20</td>\n",
              "      <td>4.9</td>\n",
              "      <td>64.62</td>\n",
              "      <td>800.18</td>\n",
              "      <td>12.8</td>\n",
              "      <td>1</td>\n",
              "      <td>0</td>\n",
              "      <td>1</td>\n",
              "      <td>0</td>\n",
              "    </tr>\n",
              "  </tbody>\n",
              "</table>\n",
              "</div>\n",
              "      <button class=\"colab-df-convert\" onclick=\"convertToInteractive('df-1d81fdeb-04a3-49cc-83b5-d969fe7be3c8')\"\n",
              "              title=\"Convert this dataframe to an interactive table.\"\n",
              "              style=\"display:none;\">\n",
              "        \n",
              "  <svg xmlns=\"http://www.w3.org/2000/svg\" height=\"24px\"viewBox=\"0 0 24 24\"\n",
              "       width=\"24px\">\n",
              "    <path d=\"M0 0h24v24H0V0z\" fill=\"none\"/>\n",
              "    <path d=\"M18.56 5.44l.94 2.06.94-2.06 2.06-.94-2.06-.94-.94-2.06-.94 2.06-2.06.94zm-11 1L8.5 8.5l.94-2.06 2.06-.94-2.06-.94L8.5 2.5l-.94 2.06-2.06.94zm10 10l.94 2.06.94-2.06 2.06-.94-2.06-.94-.94-2.06-.94 2.06-2.06.94z\"/><path d=\"M17.41 7.96l-1.37-1.37c-.4-.4-.92-.59-1.43-.59-.52 0-1.04.2-1.43.59L10.3 9.45l-7.72 7.72c-.78.78-.78 2.05 0 2.83L4 21.41c.39.39.9.59 1.41.59.51 0 1.02-.2 1.41-.59l7.78-7.78 2.81-2.81c.8-.78.8-2.07 0-2.86zM5.41 20L4 18.59l7.72-7.72 1.47 1.35L5.41 20z\"/>\n",
              "  </svg>\n",
              "      </button>\n",
              "      \n",
              "  <style>\n",
              "    .colab-df-container {\n",
              "      display:flex;\n",
              "      flex-wrap:wrap;\n",
              "      gap: 12px;\n",
              "    }\n",
              "\n",
              "    .colab-df-convert {\n",
              "      background-color: #E8F0FE;\n",
              "      border: none;\n",
              "      border-radius: 50%;\n",
              "      cursor: pointer;\n",
              "      display: none;\n",
              "      fill: #1967D2;\n",
              "      height: 32px;\n",
              "      padding: 0 0 0 0;\n",
              "      width: 32px;\n",
              "    }\n",
              "\n",
              "    .colab-df-convert:hover {\n",
              "      background-color: #E2EBFA;\n",
              "      box-shadow: 0px 1px 2px rgba(60, 64, 67, 0.3), 0px 1px 3px 1px rgba(60, 64, 67, 0.15);\n",
              "      fill: #174EA6;\n",
              "    }\n",
              "\n",
              "    [theme=dark] .colab-df-convert {\n",
              "      background-color: #3B4455;\n",
              "      fill: #D2E3FC;\n",
              "    }\n",
              "\n",
              "    [theme=dark] .colab-df-convert:hover {\n",
              "      background-color: #434B5C;\n",
              "      box-shadow: 0px 1px 3px 1px rgba(0, 0, 0, 0.15);\n",
              "      filter: drop-shadow(0px 1px 2px rgba(0, 0, 0, 0.3));\n",
              "      fill: #FFFFFF;\n",
              "    }\n",
              "  </style>\n",
              "\n",
              "      <script>\n",
              "        const buttonEl =\n",
              "          document.querySelector('#df-1d81fdeb-04a3-49cc-83b5-d969fe7be3c8 button.colab-df-convert');\n",
              "        buttonEl.style.display =\n",
              "          google.colab.kernel.accessAllowed ? 'block' : 'none';\n",
              "\n",
              "        async function convertToInteractive(key) {\n",
              "          const element = document.querySelector('#df-1d81fdeb-04a3-49cc-83b5-d969fe7be3c8');\n",
              "          const dataTable =\n",
              "            await google.colab.kernel.invokeFunction('convertToInteractive',\n",
              "                                                     [key], {});\n",
              "          if (!dataTable) return;\n",
              "\n",
              "          const docLinkHtml = 'Like what you see? Visit the ' +\n",
              "            '<a target=\"_blank\" href=https://colab.research.google.com/notebooks/data_table.ipynb>data table notebook</a>'\n",
              "            + ' to learn more about interactive tables.';\n",
              "          element.innerHTML = '';\n",
              "          dataTable['output_type'] = 'display_data';\n",
              "          await google.colab.output.renderOutput(dataTable, element);\n",
              "          const docLink = document.createElement('div');\n",
              "          docLink.innerHTML = docLinkHtml;\n",
              "          element.appendChild(docLink);\n",
              "        }\n",
              "      </script>\n",
              "    </div>\n",
              "  </div>\n",
              "  "
            ]
          },
          "metadata": {},
          "execution_count": 62
        }
      ],
      "source": [
        "df.head()"
      ]
    },
    {
      "cell_type": "code",
      "execution_count": 63,
      "metadata": {
        "colab": {
          "base_uri": "https://localhost:8080/"
        },
        "id": "LFTqahm0e7Uf",
        "outputId": "55418660-332c-414c-94b1-31d9b810e127"
      },
      "outputs": [
        {
          "output_type": "execute_result",
          "data": {
            "text/plain": [
              "LinearRegression()"
            ]
          },
          "metadata": {},
          "execution_count": 63
        }
      ],
      "source": [
        "#from sklearn.linear_model import LinearRegression\n",
        "\n",
        " \n",
        "#x = df[['PTVp_4800 center above Heart', 'PTVp_4800 center to Heart on slice', 'MED DRR closest slice','Location PTVp_4800', 'PTVp_4800 vol', 'PTVp_4800 center to Heart center', 'MED DRR Length', 'Heart vol']]\n",
        "#y = df['MHD SIB']\n",
        "\n",
        "X = df.drop(['MHD SIB'], axis=1).values  ##NOW LOOKING AT ALL VALUES AND COLUMNS INCLUDING HEART VOL\n",
        "y = df['MHD SIB'].values\n",
        "\n",
        "regressor = LinearRegression()\n",
        "regressor.fit(X, y)"
      ]
    },
    {
      "cell_type": "markdown",
      "metadata": {
        "id": "yI-MGbCEe7Uf"
      },
      "source": [
        "# Feature Importance - Linear Regression"
      ]
    },
    {
      "cell_type": "code",
      "execution_count": 64,
      "metadata": {
        "id": "-ZBKJ1A7e7Uf"
      },
      "outputs": [],
      "source": [
        "predictions =  regressor.predict(X)"
      ]
    },
    {
      "cell_type": "code",
      "execution_count": 65,
      "metadata": {
        "colab": {
          "base_uri": "https://localhost:8080/"
        },
        "id": "H2JJyoH1e7Uf",
        "outputId": "59ed3e28-7c6c-4905-8b36-f04b278afb4c"
      },
      "outputs": [
        {
          "output_type": "execute_result",
          "data": {
            "text/plain": [
              "0.09802756737431496"
            ]
          },
          "metadata": {},
          "execution_count": 65
        }
      ],
      "source": [
        "mean_absolute_error(y, predictions)"
      ]
    },
    {
      "cell_type": "code",
      "execution_count": 66,
      "metadata": {
        "id": "Wlq3MrJXe7Ug"
      },
      "outputs": [],
      "source": [
        "mae = 0\n",
        "for i in range(0, len(predictions)):\n",
        "    prediction = predictions[i]\n",
        "    #actual = y.iloc[i]\n",
        "    actual = y[i]\n",
        "    \n",
        "    abs_error = abs(actual - prediction)\n",
        "    mae = mae + abs_error\n",
        "    \n",
        "mae = mae / len(predictions)"
      ]
    },
    {
      "cell_type": "code",
      "execution_count": 67,
      "metadata": {
        "colab": {
          "base_uri": "https://localhost:8080/"
        },
        "id": "1-U3T5KFe7Ug",
        "outputId": "bdea59d9-4c63-4b4e-9958-d6fdd9324988"
      },
      "outputs": [
        {
          "output_type": "stream",
          "name": "stdout",
          "text": [
            "mae: 0.09802756737431492\n",
            "mean: 0.0\n",
            "mae mean ratio: inf %\n"
          ]
        },
        {
          "output_type": "stream",
          "name": "stderr",
          "text": [
            "/usr/local/lib/python3.7/dist-packages/ipykernel_launcher.py:3: RuntimeWarning: divide by zero encountered in double_scalars\n",
            "  This is separate from the ipykernel package so we can avoid doing imports until\n"
          ]
        }
      ],
      "source": [
        "print(\"mae:\" , mae)\n",
        "print(\"mean:\" , actual.mean())\n",
        "print(\"mae mean ratio:\" ,100 *mae/actual.mean(), '%')"
      ]
    },
    {
      "cell_type": "markdown",
      "metadata": {
        "id": "0brxVhiDe7Ug"
      },
      "source": [
        "# Equation"
      ]
    },
    {
      "cell_type": "code",
      "execution_count": 68,
      "metadata": {
        "colab": {
          "base_uri": "https://localhost:8080/"
        },
        "id": "8KXU9XQCe7Ug",
        "outputId": "ce6b3b45-5b41-4e9a-820b-6c669c399882"
      },
      "outputs": [
        {
          "output_type": "stream",
          "name": "stdout",
          "text": [
            "Index(['MHD SIB', 'Min_distance', 'Max_distance', 'Average_distance',\n",
            "       'OL_Length', 'PTVp_4800 vol', 'Heart vol',\n",
            "       'PTVp_4800 center to Heart center', 'Machine_E', 'Machine_V',\n",
            "       'PTVp_4800 center above Heart_no', 'PTVp_4800 center above Heart_yes'],\n",
            "      dtype='object')\n"
          ]
        }
      ],
      "source": [
        "print(df.columns)"
      ]
    },
    {
      "cell_type": "code",
      "execution_count": 69,
      "metadata": {
        "id": "0oa4CxOPe7Ug"
      },
      "outputs": [],
      "source": [
        "columns = (['Min_distance', 'Max_distance', 'Average_distance',\n",
        "       'OL_Length', 'PTVp_4800 vol', 'Heart vol',\n",
        "       'PTVp_4800 center to Heart center', 'Machine_E', 'Machine_V',\n",
        "       'PTVp_4800 center above Heart_no', 'PTVp_4800 center above Heart_yes'])"
      ]
    },
    {
      "cell_type": "code",
      "execution_count": 70,
      "metadata": {
        "colab": {
          "base_uri": "https://localhost:8080/",
          "height": 206
        },
        "id": "gBXfs7KLe7Ug",
        "outputId": "1b7d8831-4160-406d-d1ef-04efcd39fd99"
      },
      "outputs": [
        {
          "output_type": "execute_result",
          "data": {
            "text/plain": [
              "                  coefficient\n",
              "Min_distance        -0.031934\n",
              "Max_distance         0.019566\n",
              "Average_distance    -0.068864\n",
              "OL_Length            0.066427\n",
              "PTVp_4800 vol        0.001436"
            ],
            "text/html": [
              "\n",
              "  <div id=\"df-f3b08f4f-1912-4019-9ed2-59f43d680eec\">\n",
              "    <div class=\"colab-df-container\">\n",
              "      <div>\n",
              "<style scoped>\n",
              "    .dataframe tbody tr th:only-of-type {\n",
              "        vertical-align: middle;\n",
              "    }\n",
              "\n",
              "    .dataframe tbody tr th {\n",
              "        vertical-align: top;\n",
              "    }\n",
              "\n",
              "    .dataframe thead th {\n",
              "        text-align: right;\n",
              "    }\n",
              "</style>\n",
              "<table border=\"1\" class=\"dataframe\">\n",
              "  <thead>\n",
              "    <tr style=\"text-align: right;\">\n",
              "      <th></th>\n",
              "      <th>coefficient</th>\n",
              "    </tr>\n",
              "  </thead>\n",
              "  <tbody>\n",
              "    <tr>\n",
              "      <th>Min_distance</th>\n",
              "      <td>-0.031934</td>\n",
              "    </tr>\n",
              "    <tr>\n",
              "      <th>Max_distance</th>\n",
              "      <td>0.019566</td>\n",
              "    </tr>\n",
              "    <tr>\n",
              "      <th>Average_distance</th>\n",
              "      <td>-0.068864</td>\n",
              "    </tr>\n",
              "    <tr>\n",
              "      <th>OL_Length</th>\n",
              "      <td>0.066427</td>\n",
              "    </tr>\n",
              "    <tr>\n",
              "      <th>PTVp_4800 vol</th>\n",
              "      <td>0.001436</td>\n",
              "    </tr>\n",
              "  </tbody>\n",
              "</table>\n",
              "</div>\n",
              "      <button class=\"colab-df-convert\" onclick=\"convertToInteractive('df-f3b08f4f-1912-4019-9ed2-59f43d680eec')\"\n",
              "              title=\"Convert this dataframe to an interactive table.\"\n",
              "              style=\"display:none;\">\n",
              "        \n",
              "  <svg xmlns=\"http://www.w3.org/2000/svg\" height=\"24px\"viewBox=\"0 0 24 24\"\n",
              "       width=\"24px\">\n",
              "    <path d=\"M0 0h24v24H0V0z\" fill=\"none\"/>\n",
              "    <path d=\"M18.56 5.44l.94 2.06.94-2.06 2.06-.94-2.06-.94-.94-2.06-.94 2.06-2.06.94zm-11 1L8.5 8.5l.94-2.06 2.06-.94-2.06-.94L8.5 2.5l-.94 2.06-2.06.94zm10 10l.94 2.06.94-2.06 2.06-.94-2.06-.94-.94-2.06-.94 2.06-2.06.94z\"/><path d=\"M17.41 7.96l-1.37-1.37c-.4-.4-.92-.59-1.43-.59-.52 0-1.04.2-1.43.59L10.3 9.45l-7.72 7.72c-.78.78-.78 2.05 0 2.83L4 21.41c.39.39.9.59 1.41.59.51 0 1.02-.2 1.41-.59l7.78-7.78 2.81-2.81c.8-.78.8-2.07 0-2.86zM5.41 20L4 18.59l7.72-7.72 1.47 1.35L5.41 20z\"/>\n",
              "  </svg>\n",
              "      </button>\n",
              "      \n",
              "  <style>\n",
              "    .colab-df-container {\n",
              "      display:flex;\n",
              "      flex-wrap:wrap;\n",
              "      gap: 12px;\n",
              "    }\n",
              "\n",
              "    .colab-df-convert {\n",
              "      background-color: #E8F0FE;\n",
              "      border: none;\n",
              "      border-radius: 50%;\n",
              "      cursor: pointer;\n",
              "      display: none;\n",
              "      fill: #1967D2;\n",
              "      height: 32px;\n",
              "      padding: 0 0 0 0;\n",
              "      width: 32px;\n",
              "    }\n",
              "\n",
              "    .colab-df-convert:hover {\n",
              "      background-color: #E2EBFA;\n",
              "      box-shadow: 0px 1px 2px rgba(60, 64, 67, 0.3), 0px 1px 3px 1px rgba(60, 64, 67, 0.15);\n",
              "      fill: #174EA6;\n",
              "    }\n",
              "\n",
              "    [theme=dark] .colab-df-convert {\n",
              "      background-color: #3B4455;\n",
              "      fill: #D2E3FC;\n",
              "    }\n",
              "\n",
              "    [theme=dark] .colab-df-convert:hover {\n",
              "      background-color: #434B5C;\n",
              "      box-shadow: 0px 1px 3px 1px rgba(0, 0, 0, 0.15);\n",
              "      filter: drop-shadow(0px 1px 2px rgba(0, 0, 0, 0.3));\n",
              "      fill: #FFFFFF;\n",
              "    }\n",
              "  </style>\n",
              "\n",
              "      <script>\n",
              "        const buttonEl =\n",
              "          document.querySelector('#df-f3b08f4f-1912-4019-9ed2-59f43d680eec button.colab-df-convert');\n",
              "        buttonEl.style.display =\n",
              "          google.colab.kernel.accessAllowed ? 'block' : 'none';\n",
              "\n",
              "        async function convertToInteractive(key) {\n",
              "          const element = document.querySelector('#df-f3b08f4f-1912-4019-9ed2-59f43d680eec');\n",
              "          const dataTable =\n",
              "            await google.colab.kernel.invokeFunction('convertToInteractive',\n",
              "                                                     [key], {});\n",
              "          if (!dataTable) return;\n",
              "\n",
              "          const docLinkHtml = 'Like what you see? Visit the ' +\n",
              "            '<a target=\"_blank\" href=https://colab.research.google.com/notebooks/data_table.ipynb>data table notebook</a>'\n",
              "            + ' to learn more about interactive tables.';\n",
              "          element.innerHTML = '';\n",
              "          dataTable['output_type'] = 'display_data';\n",
              "          await google.colab.output.renderOutput(dataTable, element);\n",
              "          const docLink = document.createElement('div');\n",
              "          docLink.innerHTML = docLinkHtml;\n",
              "          element.appendChild(docLink);\n",
              "        }\n",
              "      </script>\n",
              "    </div>\n",
              "  </div>\n",
              "  "
            ]
          },
          "metadata": {},
          "execution_count": 70
        }
      ],
      "source": [
        "intercept = regressor.intercept_\n",
        "features = pd.DataFrame(regressor.coef_, columns, columns=['coefficient'])\n",
        "#features = pd.concat([pd.DataFrame(X.columns),pd.DataFrame(np.transpose(regressor.coef_))], axis = 1)\n",
        "features.head() ##SHOWS ONLY TOP 5"
      ]
    },
    {
      "cell_type": "code",
      "execution_count": 71,
      "metadata": {
        "colab": {
          "base_uri": "https://localhost:8080/",
          "height": 394
        },
        "id": "OtLTwTCoq9JU",
        "outputId": "3a01f706-ae90-4935-9a73-647a1f032cb3"
      },
      "outputs": [
        {
          "output_type": "execute_result",
          "data": {
            "text/plain": [
              "                                  coefficient\n",
              "Min_distance                        -0.031934\n",
              "Max_distance                         0.019566\n",
              "Average_distance                    -0.068864\n",
              "OL_Length                            0.066427\n",
              "PTVp_4800 vol                        0.001436\n",
              "Heart vol                           -0.000147\n",
              "PTVp_4800 center to Heart center     0.012917\n",
              "Machine_E                            0.011492\n",
              "Machine_V                           -0.011492\n",
              "PTVp_4800 center above Heart_no     -0.004062\n",
              "PTVp_4800 center above Heart_yes     0.004062"
            ],
            "text/html": [
              "\n",
              "  <div id=\"df-de09e57c-2f73-4183-bc2f-969338ac1e1a\">\n",
              "    <div class=\"colab-df-container\">\n",
              "      <div>\n",
              "<style scoped>\n",
              "    .dataframe tbody tr th:only-of-type {\n",
              "        vertical-align: middle;\n",
              "    }\n",
              "\n",
              "    .dataframe tbody tr th {\n",
              "        vertical-align: top;\n",
              "    }\n",
              "\n",
              "    .dataframe thead th {\n",
              "        text-align: right;\n",
              "    }\n",
              "</style>\n",
              "<table border=\"1\" class=\"dataframe\">\n",
              "  <thead>\n",
              "    <tr style=\"text-align: right;\">\n",
              "      <th></th>\n",
              "      <th>coefficient</th>\n",
              "    </tr>\n",
              "  </thead>\n",
              "  <tbody>\n",
              "    <tr>\n",
              "      <th>Min_distance</th>\n",
              "      <td>-0.031934</td>\n",
              "    </tr>\n",
              "    <tr>\n",
              "      <th>Max_distance</th>\n",
              "      <td>0.019566</td>\n",
              "    </tr>\n",
              "    <tr>\n",
              "      <th>Average_distance</th>\n",
              "      <td>-0.068864</td>\n",
              "    </tr>\n",
              "    <tr>\n",
              "      <th>OL_Length</th>\n",
              "      <td>0.066427</td>\n",
              "    </tr>\n",
              "    <tr>\n",
              "      <th>PTVp_4800 vol</th>\n",
              "      <td>0.001436</td>\n",
              "    </tr>\n",
              "    <tr>\n",
              "      <th>Heart vol</th>\n",
              "      <td>-0.000147</td>\n",
              "    </tr>\n",
              "    <tr>\n",
              "      <th>PTVp_4800 center to Heart center</th>\n",
              "      <td>0.012917</td>\n",
              "    </tr>\n",
              "    <tr>\n",
              "      <th>Machine_E</th>\n",
              "      <td>0.011492</td>\n",
              "    </tr>\n",
              "    <tr>\n",
              "      <th>Machine_V</th>\n",
              "      <td>-0.011492</td>\n",
              "    </tr>\n",
              "    <tr>\n",
              "      <th>PTVp_4800 center above Heart_no</th>\n",
              "      <td>-0.004062</td>\n",
              "    </tr>\n",
              "    <tr>\n",
              "      <th>PTVp_4800 center above Heart_yes</th>\n",
              "      <td>0.004062</td>\n",
              "    </tr>\n",
              "  </tbody>\n",
              "</table>\n",
              "</div>\n",
              "      <button class=\"colab-df-convert\" onclick=\"convertToInteractive('df-de09e57c-2f73-4183-bc2f-969338ac1e1a')\"\n",
              "              title=\"Convert this dataframe to an interactive table.\"\n",
              "              style=\"display:none;\">\n",
              "        \n",
              "  <svg xmlns=\"http://www.w3.org/2000/svg\" height=\"24px\"viewBox=\"0 0 24 24\"\n",
              "       width=\"24px\">\n",
              "    <path d=\"M0 0h24v24H0V0z\" fill=\"none\"/>\n",
              "    <path d=\"M18.56 5.44l.94 2.06.94-2.06 2.06-.94-2.06-.94-.94-2.06-.94 2.06-2.06.94zm-11 1L8.5 8.5l.94-2.06 2.06-.94-2.06-.94L8.5 2.5l-.94 2.06-2.06.94zm10 10l.94 2.06.94-2.06 2.06-.94-2.06-.94-.94-2.06-.94 2.06-2.06.94z\"/><path d=\"M17.41 7.96l-1.37-1.37c-.4-.4-.92-.59-1.43-.59-.52 0-1.04.2-1.43.59L10.3 9.45l-7.72 7.72c-.78.78-.78 2.05 0 2.83L4 21.41c.39.39.9.59 1.41.59.51 0 1.02-.2 1.41-.59l7.78-7.78 2.81-2.81c.8-.78.8-2.07 0-2.86zM5.41 20L4 18.59l7.72-7.72 1.47 1.35L5.41 20z\"/>\n",
              "  </svg>\n",
              "      </button>\n",
              "      \n",
              "  <style>\n",
              "    .colab-df-container {\n",
              "      display:flex;\n",
              "      flex-wrap:wrap;\n",
              "      gap: 12px;\n",
              "    }\n",
              "\n",
              "    .colab-df-convert {\n",
              "      background-color: #E8F0FE;\n",
              "      border: none;\n",
              "      border-radius: 50%;\n",
              "      cursor: pointer;\n",
              "      display: none;\n",
              "      fill: #1967D2;\n",
              "      height: 32px;\n",
              "      padding: 0 0 0 0;\n",
              "      width: 32px;\n",
              "    }\n",
              "\n",
              "    .colab-df-convert:hover {\n",
              "      background-color: #E2EBFA;\n",
              "      box-shadow: 0px 1px 2px rgba(60, 64, 67, 0.3), 0px 1px 3px 1px rgba(60, 64, 67, 0.15);\n",
              "      fill: #174EA6;\n",
              "    }\n",
              "\n",
              "    [theme=dark] .colab-df-convert {\n",
              "      background-color: #3B4455;\n",
              "      fill: #D2E3FC;\n",
              "    }\n",
              "\n",
              "    [theme=dark] .colab-df-convert:hover {\n",
              "      background-color: #434B5C;\n",
              "      box-shadow: 0px 1px 3px 1px rgba(0, 0, 0, 0.15);\n",
              "      filter: drop-shadow(0px 1px 2px rgba(0, 0, 0, 0.3));\n",
              "      fill: #FFFFFF;\n",
              "    }\n",
              "  </style>\n",
              "\n",
              "      <script>\n",
              "        const buttonEl =\n",
              "          document.querySelector('#df-de09e57c-2f73-4183-bc2f-969338ac1e1a button.colab-df-convert');\n",
              "        buttonEl.style.display =\n",
              "          google.colab.kernel.accessAllowed ? 'block' : 'none';\n",
              "\n",
              "        async function convertToInteractive(key) {\n",
              "          const element = document.querySelector('#df-de09e57c-2f73-4183-bc2f-969338ac1e1a');\n",
              "          const dataTable =\n",
              "            await google.colab.kernel.invokeFunction('convertToInteractive',\n",
              "                                                     [key], {});\n",
              "          if (!dataTable) return;\n",
              "\n",
              "          const docLinkHtml = 'Like what you see? Visit the ' +\n",
              "            '<a target=\"_blank\" href=https://colab.research.google.com/notebooks/data_table.ipynb>data table notebook</a>'\n",
              "            + ' to learn more about interactive tables.';\n",
              "          element.innerHTML = '';\n",
              "          dataTable['output_type'] = 'display_data';\n",
              "          await google.colab.output.renderOutput(dataTable, element);\n",
              "          const docLink = document.createElement('div');\n",
              "          docLink.innerHTML = docLinkHtml;\n",
              "          element.appendChild(docLink);\n",
              "        }\n",
              "      </script>\n",
              "    </div>\n",
              "  </div>\n",
              "  "
            ]
          },
          "metadata": {},
          "execution_count": 71
        }
      ],
      "source": [
        "features"
      ]
    },
    {
      "cell_type": "code",
      "execution_count": 72,
      "metadata": {
        "id": "8vCBicaue7Uh"
      },
      "outputs": [],
      "source": [
        "features.coefficient = features.coefficient.abs()"
      ]
    },
    {
      "cell_type": "markdown",
      "metadata": {
        "id": "BB1dAd8Ue7Uh"
      },
      "source": [
        "# Standard deviations"
      ]
    },
    {
      "cell_type": "code",
      "execution_count": 73,
      "metadata": {
        "id": "1pOvFd5ce7Uh"
      },
      "outputs": [],
      "source": [
        "stdevs = []\n",
        "for i in columns:\n",
        "    stdev = df[i].std()\n",
        "    stdevs.append(stdev)\n",
        " \n",
        "#import numpy as np\n",
        "features[\"stdev\"] = np.array(stdevs).reshape(-1,1)\n",
        "features[\"importance\"] = features[\"coefficient\"] * features[\"stdev\"]"
      ]
    },
    {
      "cell_type": "code",
      "execution_count": 74,
      "metadata": {
        "colab": {
          "base_uri": "https://localhost:8080/",
          "height": 394
        },
        "id": "0WYkg2g3e7Uh",
        "outputId": "46e1aec3-eca0-492e-81f9-35aadd9b840b"
      },
      "outputs": [
        {
          "output_type": "execute_result",
          "data": {
            "text/plain": [
              "                                  coefficient       stdev  importance  \\\n",
              "Min_distance                         0.031934    2.031869    0.064885   \n",
              "Max_distance                         0.019566    1.923002    0.037625   \n",
              "Average_distance                     0.068864    1.781569    0.122686   \n",
              "OL_Length                            0.066427    1.757201    0.116726   \n",
              "PTVp_4800 vol                        0.001436   37.433004    0.053747   \n",
              "Heart vol                            0.000147  119.586670    0.017575   \n",
              "PTVp_4800 center to Heart center     0.012917    2.126871    0.027473   \n",
              "Machine_E                            0.011492    0.462790    0.005318   \n",
              "Machine_V                            0.011492    0.462790    0.005318   \n",
              "PTVp_4800 center above Heart_no      0.004062    0.435031    0.001767   \n",
              "PTVp_4800 center above Heart_yes     0.004062    0.435031    0.001767   \n",
              "\n",
              "                                  importance_normalized  \n",
              "Min_distance                                  52.886995  \n",
              "Max_distance                                  30.667573  \n",
              "Average_distance                             100.000000  \n",
              "OL_Length                                     95.142031  \n",
              "PTVp_4800 vol                                 43.808713  \n",
              "Heart vol                                     14.325467  \n",
              "PTVp_4800 center to Heart center              22.392767  \n",
              "Machine_E                                      4.334926  \n",
              "Machine_V                                      4.334926  \n",
              "PTVp_4800 center above Heart_no                1.440486  \n",
              "PTVp_4800 center above Heart_yes               1.440486  "
            ],
            "text/html": [
              "\n",
              "  <div id=\"df-14de3c43-29d6-4f8f-ae2a-ebcdc31e9f0c\">\n",
              "    <div class=\"colab-df-container\">\n",
              "      <div>\n",
              "<style scoped>\n",
              "    .dataframe tbody tr th:only-of-type {\n",
              "        vertical-align: middle;\n",
              "    }\n",
              "\n",
              "    .dataframe tbody tr th {\n",
              "        vertical-align: top;\n",
              "    }\n",
              "\n",
              "    .dataframe thead th {\n",
              "        text-align: right;\n",
              "    }\n",
              "</style>\n",
              "<table border=\"1\" class=\"dataframe\">\n",
              "  <thead>\n",
              "    <tr style=\"text-align: right;\">\n",
              "      <th></th>\n",
              "      <th>coefficient</th>\n",
              "      <th>stdev</th>\n",
              "      <th>importance</th>\n",
              "      <th>importance_normalized</th>\n",
              "    </tr>\n",
              "  </thead>\n",
              "  <tbody>\n",
              "    <tr>\n",
              "      <th>Min_distance</th>\n",
              "      <td>0.031934</td>\n",
              "      <td>2.031869</td>\n",
              "      <td>0.064885</td>\n",
              "      <td>52.886995</td>\n",
              "    </tr>\n",
              "    <tr>\n",
              "      <th>Max_distance</th>\n",
              "      <td>0.019566</td>\n",
              "      <td>1.923002</td>\n",
              "      <td>0.037625</td>\n",
              "      <td>30.667573</td>\n",
              "    </tr>\n",
              "    <tr>\n",
              "      <th>Average_distance</th>\n",
              "      <td>0.068864</td>\n",
              "      <td>1.781569</td>\n",
              "      <td>0.122686</td>\n",
              "      <td>100.000000</td>\n",
              "    </tr>\n",
              "    <tr>\n",
              "      <th>OL_Length</th>\n",
              "      <td>0.066427</td>\n",
              "      <td>1.757201</td>\n",
              "      <td>0.116726</td>\n",
              "      <td>95.142031</td>\n",
              "    </tr>\n",
              "    <tr>\n",
              "      <th>PTVp_4800 vol</th>\n",
              "      <td>0.001436</td>\n",
              "      <td>37.433004</td>\n",
              "      <td>0.053747</td>\n",
              "      <td>43.808713</td>\n",
              "    </tr>\n",
              "    <tr>\n",
              "      <th>Heart vol</th>\n",
              "      <td>0.000147</td>\n",
              "      <td>119.586670</td>\n",
              "      <td>0.017575</td>\n",
              "      <td>14.325467</td>\n",
              "    </tr>\n",
              "    <tr>\n",
              "      <th>PTVp_4800 center to Heart center</th>\n",
              "      <td>0.012917</td>\n",
              "      <td>2.126871</td>\n",
              "      <td>0.027473</td>\n",
              "      <td>22.392767</td>\n",
              "    </tr>\n",
              "    <tr>\n",
              "      <th>Machine_E</th>\n",
              "      <td>0.011492</td>\n",
              "      <td>0.462790</td>\n",
              "      <td>0.005318</td>\n",
              "      <td>4.334926</td>\n",
              "    </tr>\n",
              "    <tr>\n",
              "      <th>Machine_V</th>\n",
              "      <td>0.011492</td>\n",
              "      <td>0.462790</td>\n",
              "      <td>0.005318</td>\n",
              "      <td>4.334926</td>\n",
              "    </tr>\n",
              "    <tr>\n",
              "      <th>PTVp_4800 center above Heart_no</th>\n",
              "      <td>0.004062</td>\n",
              "      <td>0.435031</td>\n",
              "      <td>0.001767</td>\n",
              "      <td>1.440486</td>\n",
              "    </tr>\n",
              "    <tr>\n",
              "      <th>PTVp_4800 center above Heart_yes</th>\n",
              "      <td>0.004062</td>\n",
              "      <td>0.435031</td>\n",
              "      <td>0.001767</td>\n",
              "      <td>1.440486</td>\n",
              "    </tr>\n",
              "  </tbody>\n",
              "</table>\n",
              "</div>\n",
              "      <button class=\"colab-df-convert\" onclick=\"convertToInteractive('df-14de3c43-29d6-4f8f-ae2a-ebcdc31e9f0c')\"\n",
              "              title=\"Convert this dataframe to an interactive table.\"\n",
              "              style=\"display:none;\">\n",
              "        \n",
              "  <svg xmlns=\"http://www.w3.org/2000/svg\" height=\"24px\"viewBox=\"0 0 24 24\"\n",
              "       width=\"24px\">\n",
              "    <path d=\"M0 0h24v24H0V0z\" fill=\"none\"/>\n",
              "    <path d=\"M18.56 5.44l.94 2.06.94-2.06 2.06-.94-2.06-.94-.94-2.06-.94 2.06-2.06.94zm-11 1L8.5 8.5l.94-2.06 2.06-.94-2.06-.94L8.5 2.5l-.94 2.06-2.06.94zm10 10l.94 2.06.94-2.06 2.06-.94-2.06-.94-.94-2.06-.94 2.06-2.06.94z\"/><path d=\"M17.41 7.96l-1.37-1.37c-.4-.4-.92-.59-1.43-.59-.52 0-1.04.2-1.43.59L10.3 9.45l-7.72 7.72c-.78.78-.78 2.05 0 2.83L4 21.41c.39.39.9.59 1.41.59.51 0 1.02-.2 1.41-.59l7.78-7.78 2.81-2.81c.8-.78.8-2.07 0-2.86zM5.41 20L4 18.59l7.72-7.72 1.47 1.35L5.41 20z\"/>\n",
              "  </svg>\n",
              "      </button>\n",
              "      \n",
              "  <style>\n",
              "    .colab-df-container {\n",
              "      display:flex;\n",
              "      flex-wrap:wrap;\n",
              "      gap: 12px;\n",
              "    }\n",
              "\n",
              "    .colab-df-convert {\n",
              "      background-color: #E8F0FE;\n",
              "      border: none;\n",
              "      border-radius: 50%;\n",
              "      cursor: pointer;\n",
              "      display: none;\n",
              "      fill: #1967D2;\n",
              "      height: 32px;\n",
              "      padding: 0 0 0 0;\n",
              "      width: 32px;\n",
              "    }\n",
              "\n",
              "    .colab-df-convert:hover {\n",
              "      background-color: #E2EBFA;\n",
              "      box-shadow: 0px 1px 2px rgba(60, 64, 67, 0.3), 0px 1px 3px 1px rgba(60, 64, 67, 0.15);\n",
              "      fill: #174EA6;\n",
              "    }\n",
              "\n",
              "    [theme=dark] .colab-df-convert {\n",
              "      background-color: #3B4455;\n",
              "      fill: #D2E3FC;\n",
              "    }\n",
              "\n",
              "    [theme=dark] .colab-df-convert:hover {\n",
              "      background-color: #434B5C;\n",
              "      box-shadow: 0px 1px 3px 1px rgba(0, 0, 0, 0.15);\n",
              "      filter: drop-shadow(0px 1px 2px rgba(0, 0, 0, 0.3));\n",
              "      fill: #FFFFFF;\n",
              "    }\n",
              "  </style>\n",
              "\n",
              "      <script>\n",
              "        const buttonEl =\n",
              "          document.querySelector('#df-14de3c43-29d6-4f8f-ae2a-ebcdc31e9f0c button.colab-df-convert');\n",
              "        buttonEl.style.display =\n",
              "          google.colab.kernel.accessAllowed ? 'block' : 'none';\n",
              "\n",
              "        async function convertToInteractive(key) {\n",
              "          const element = document.querySelector('#df-14de3c43-29d6-4f8f-ae2a-ebcdc31e9f0c');\n",
              "          const dataTable =\n",
              "            await google.colab.kernel.invokeFunction('convertToInteractive',\n",
              "                                                     [key], {});\n",
              "          if (!dataTable) return;\n",
              "\n",
              "          const docLinkHtml = 'Like what you see? Visit the ' +\n",
              "            '<a target=\"_blank\" href=https://colab.research.google.com/notebooks/data_table.ipynb>data table notebook</a>'\n",
              "            + ' to learn more about interactive tables.';\n",
              "          element.innerHTML = '';\n",
              "          dataTable['output_type'] = 'display_data';\n",
              "          await google.colab.output.renderOutput(dataTable, element);\n",
              "          const docLink = document.createElement('div');\n",
              "          docLink.innerHTML = docLinkHtml;\n",
              "          element.appendChild(docLink);\n",
              "        }\n",
              "      </script>\n",
              "    </div>\n",
              "  </div>\n",
              "  "
            ]
          },
          "metadata": {},
          "execution_count": 74
        }
      ],
      "source": [
        "features['importance_normalized'] = 100*features['importance'] / features['importance'].max()\n",
        "features"
      ]
    },
    {
      "cell_type": "code",
      "execution_count": 75,
      "metadata": {
        "colab": {
          "base_uri": "https://localhost:8080/",
          "height": 296
        },
        "id": "heQRGEGbe7Uh",
        "outputId": "a259c217-3261-47bf-8181-07f89ecad458"
      },
      "outputs": [
        {
          "output_type": "execute_result",
          "data": {
            "text/plain": [
              "Text(0.5, 0, 'Feature importance')"
            ]
          },
          "metadata": {},
          "execution_count": 75
        },
        {
          "output_type": "display_data",
          "data": {
            "text/plain": [
              "<Figure size 432x288 with 1 Axes>"
            ],
            "image/png": "[encoded data removed]"
          },
          "metadata": {
            "needs_background": "light"
          }
        }
      ],
      "source": [
        "plt.barh(features.index, features.importance_normalized)\n",
        "plt.xlabel('Feature importance')"
      ]
    },
    {
      "cell_type": "code",
      "execution_count": 76,
      "metadata": {
        "colab": {
          "base_uri": "https://localhost:8080/",
          "height": 791
        },
        "id": "9pfW9WPHe7Ui",
        "outputId": "d8de9631-4078-4ab4-9772-7d7fcbceb158"
      },
      "outputs": [
        {
          "output_type": "display_data",
          "data": {
            "text/plain": [
              "<Figure size 1195.2x964.8 with 12 Axes>"
            ],
            "image/png": "[encoded data removed]"
          },
          "metadata": {
            "needs_background": "light"
          }
        }
      ],
      "source": [
        "#plt.scatter(df['PTVp_4800 vol'],df['MHD SIB'])\n",
        "y1 = df['MHD SIB']\n",
        "\n",
        "x1 = df['Heart vol']\n",
        "x2 = df['Min_distance']\n",
        "x3 = df['PTVp_4800 center to Heart center']\n",
        "x4 = df['PTVp_4800 vol']\n",
        "\n",
        "x5 = df['Average_distance']\n",
        "\n",
        "x6 = df['OL_Length']\n",
        "x7 = df['Max_distance']\n",
        "\n",
        "x8 = df['PTVp_4800 center above Heart_yes']\n",
        "x9 = df['PTVp_4800 center above Heart_no']\n",
        "\n",
        "x10 = df['Machine_E']\n",
        "x11 = df['Machine_V']\n",
        "\n",
        "#x12 = df['Laterality_L']\n",
        "#x13 = df['Laterality_R']\n",
        "\n",
        "##13 Features sue to dummy coding x values creating extra columns \n",
        "\n",
        "\n",
        "#plt.scatter(x1,y1, color='g',s=100,marker='*',label='WT')\n",
        "plt.subplots(3,4, figsize=(16.6,13.4))\n",
        "\n",
        "plt.subplot(3,4,1)\n",
        "plt.scatter(x1,y1, color='g',s=100,marker='*')\n",
        "plt.ylabel('MHD Gy')\n",
        "plt.xlabel('Heart vol cc')\n",
        "\n",
        "plt.subplot(3,4,2)\n",
        "plt.scatter(x2,y1, color='g',s=100,marker='*')\n",
        "plt.xlabel('Min_distance')\n",
        "\n",
        "plt.subplot(3,4,3)\n",
        "plt.scatter(x3,y1, color='g',s=100,marker='*')\n",
        "plt.xlabel('PTVp_4800 center to Heart center cm')\n",
        "\n",
        "plt.subplot(3,4,4)\n",
        "plt.scatter(x4,y1, color='g',s=100,marker='*')\n",
        "plt.xlabel('PTVp_4800 vol cc')\n",
        "\n",
        "plt.subplot(3,4,5)\n",
        "plt.scatter(x5,y1, color='g',s=100,marker='*')\n",
        "plt.ylabel('MHD Gy')\n",
        "plt.xlabel('Average_distance')\n",
        "\n",
        "plt.subplot(3,4,6)\n",
        "plt.scatter(x6,y1, color='g',s=100,marker='*')\n",
        "plt.xlabel('OL_Length')\n",
        "\n",
        "plt.subplot(3,4,7)\n",
        "plt.scatter(x7,y1, color='g',s=100,marker='*')\n",
        "plt.ylabel('MHD Gy')\n",
        "plt.xlabel('Max_distance')\n",
        "\n",
        "plt.subplot(3,4,8)\n",
        "plt.scatter(x8,y1, color='g',s=100,marker='*')\n",
        "plt.ylabel('MHD Gy')\n",
        "plt.xlabel('PTVp_4800 center above Heart_yes')\n",
        "\n",
        "plt.subplot(3,4,9)\n",
        "plt.scatter(x9,y1, color='g',s=100,marker='*')\n",
        "plt.ylabel('MHD Gy')\n",
        "plt.xlabel('PTVp_4800 center above Heart_no')\n",
        "\n",
        "plt.subplot(3,4,10)\n",
        "plt.scatter(x10,y1, color='g',s=100,marker='*')\n",
        "plt.ylabel('MHD Gy')\n",
        "plt.xlabel('Machine_E')\n",
        "\n",
        "plt.subplot(3,4,11)\n",
        "plt.scatter(x11,y1, color='g',s=100,marker='*')\n",
        "plt.ylabel('MHD Gy')\n",
        "plt.xlabel('Machine_V')\n",
        "\n",
        "\n",
        "\n",
        "\n",
        "\n",
        "plt.subplots_adjust(wspace=.2, hspace=.3)"
      ]
    },
    {
      "cell_type": "markdown",
      "metadata": {
        "id": "sBe8WCfMe7Ui"
      },
      "source": [
        "# another method to get feature report"
      ]
    },
    {
      "cell_type": "code",
      "execution_count": 77,
      "metadata": {
        "colab": {
          "base_uri": "https://localhost:8080/"
        },
        "id": "9Md2nLPae7Ui",
        "outputId": "6d088919-eee7-4166-d89e-c48b79e5114f"
      },
      "outputs": [
        {
          "output_type": "stream",
          "name": "stdout",
          "text": [
            "                            OLS Regression Results                            \n",
            "==============================================================================\n",
            "Dep. Variable:                      y   R-squared:                       0.777\n",
            "Model:                            OLS   Adj. R-squared:                  0.750\n",
            "Method:                 Least Squares   F-statistic:                     29.37\n",
            "Date:                Wed, 26 Oct 2022   Prob (F-statistic):           2.73e-21\n",
            "Time:                        12:25:12   Log-Likelihood:                 56.379\n",
            "No. Observations:                  86   AIC:                            -92.76\n",
            "Df Residuals:                      76   BIC:                            -68.21\n",
            "Df Model:                           9                                         \n",
            "Covariance Type:            nonrobust                                         \n",
            "====================================================================================================\n",
            "                                       coef    std err          t      P>|t|      [0.025      0.975]\n",
            "----------------------------------------------------------------------------------------------------\n",
            "const                                0.3296      0.079      4.165      0.000       0.172       0.487\n",
            "Min_distance                        -0.0210      0.028     -0.760      0.450      -0.076       0.034\n",
            "Max_distance                         0.0245      0.031      0.784      0.435      -0.038       0.087\n",
            "Average_distance                    -0.0411      0.082     -0.501      0.618      -0.205       0.122\n",
            "OL_Length                            0.0558      0.016      3.471      0.001       0.024       0.088\n",
            "PTVp_4800 vol                        0.0033      0.001      3.509      0.001       0.001       0.005\n",
            "Heart vol                           -0.0002      0.000     -1.094      0.277      -0.001       0.000\n",
            "PTVp_4800 center to Heart center    -0.0356      0.051     -0.694      0.490      -0.138       0.067\n",
            "Machine_E                            0.1651      0.042      3.903      0.000       0.081       0.249\n",
            "Machine_V                            0.1646      0.043      3.807      0.000       0.078       0.251\n",
            "PTVp_4800 center above Heart_no      0.1747      0.054      3.244      0.002       0.067       0.282\n",
            "PTVp_4800 center above Heart_yes     0.1549      0.045      3.441      0.001       0.065       0.245\n",
            "==============================================================================\n",
            "Omnibus:                        5.142   Durbin-Watson:                   2.096\n",
            "Prob(Omnibus):                  0.076   Jarque-Bera (JB):                4.447\n",
            "Skew:                           0.528   Prob(JB):                        0.108\n",
            "Kurtosis:                       3.354   Cond. No.                     9.92e+18\n",
            "==============================================================================\n",
            "\n",
            "Notes:\n",
            "[1] Standard Errors assume that the covariance matrix of the errors is correctly specified.\n",
            "[2] The smallest eigenvalue is 3.49e-31. This might indicate that there are\n",
            "strong multicollinearity problems or that the design matrix is singular.\n"
          ]
        },
        {
          "output_type": "stream",
          "name": "stderr",
          "text": [
            "/usr/local/lib/python3.7/dist-packages/statsmodels/tsa/tsatools.py:142: FutureWarning: In a future version of pandas all arguments of concat except for the argument 'objs' will be keyword-only\n",
            "  x = pd.concat(x[::order], 1)\n"
          ]
        }
      ],
      "source": [
        "import statsmodels.api as sm\n",
        "\n",
        "#y = df['MHD SIB']\n",
        "#x = df[['PTVp_4800 center above Heart', 'PTVp_4800 center to Heart on slice', 'MED DRR closest slice','Location PTVp_4800', 'PTVp_4800 vol', 'PTVp_4800 center to Heart center', 'MED DRR Length', 'Heart vol']]\n",
        "X = df[['Min_distance', 'Max_distance', 'Average_distance',\n",
        "       'OL_Length', 'PTVp_4800 vol', 'Heart vol',\n",
        "       'PTVp_4800 center to Heart center', 'Machine_E', 'Machine_V',\n",
        "       'PTVp_4800 center above Heart_no', 'PTVp_4800 center above Heart_yes']]\n",
        "\n",
        "\n",
        "X_train,X_test,y_train,y_test=train_test_split(X,y,test_size=0.2)\n",
        "\n",
        "X_train_sm = sm.add_constant(X_train)\n",
        "lr = sm.OLS(y_train,X_train_sm).fit()\n",
        "lr\n",
        "print(lr.summary())  ##p values larger and >0.05 not good features"
      ]
    },
    {
      "cell_type": "markdown",
      "metadata": {
        "id": "L0gvOsq6STp4"
      },
      "source": [
        "**SAVE MODELS TO PICKLE FILES**"
      ]
    },
    {
      "cell_type": "code",
      "execution_count": 78,
      "metadata": {
        "id": "zurbENgbSY_p"
      },
      "outputs": [],
      "source": [
        "import pickle\n",
        "import joblib"
      ]
    },
    {
      "cell_type": "code",
      "execution_count": 79,
      "metadata": {
        "colab": {
          "base_uri": "https://localhost:8080/"
        },
        "id": "QRGCzn1Fe7Ui",
        "outputId": "8514e66c-cfad-4d1d-92ef-145ff46e0da9"
      },
      "outputs": [
        {
          "output_type": "execute_result",
          "data": {
            "text/plain": [
              "['rfmodel.pkl']"
            ]
          },
          "metadata": {},
          "execution_count": 79
        }
      ],
      "source": [
        "joblib.dump(rf, \"rfmodel.pkl\")"
      ]
    },
    {
      "cell_type": "code",
      "execution_count": 80,
      "metadata": {
        "id": "lw9LV0PyKSUm"
      },
      "outputs": [],
      "source": [
        "#save scaler and to load.  scaler = joblib.load(scaler_filename) "
      ]
    },
    {
      "cell_type": "code",
      "execution_count": 81,
      "metadata": {
        "colab": {
          "base_uri": "https://localhost:8080/"
        },
        "id": "MscoZgQ0I_aD",
        "outputId": "7ad9492b-19a3-42d8-b088-a596e8df3022"
      },
      "outputs": [
        {
          "output_type": "execute_result",
          "data": {
            "text/plain": [
              "['scalerrf.pkl']"
            ]
          },
          "metadata": {},
          "execution_count": 81
        }
      ],
      "source": [
        "scaler_filename = \"scalerrf.pkl\"\n",
        "joblib.dump(scaler, scaler_filename) "
      ]
    }
  ],
  "metadata": {
    "colab": {
      "collapsed_sections": [],
      "provenance": [],
      "include_colab_link": true
    },
    "kernelspec": {
      "display_name": "Python 3",
      "language": "python",
      "name": "python3"
    },
    "language_info": {
      "codemirror_mode": {
        "name": "ipython",
        "version": 3
      },
      "file_extension": ".py",
      "mimetype": "text/x-python",
      "name": "python",
      "nbconvert_exporter": "python",
      "pygments_lexer": "ipython3",
      "version": "3.9.1"
    }
  },
  "nbformat": 4,
  "nbformat_minor": 0
}